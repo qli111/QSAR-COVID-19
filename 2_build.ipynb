{
 "cells": [
  {
   "cell_type": "markdown",
   "metadata": {
    "id": "l0Y7_lgN4jzM"
   },
   "source": [
    "# **Bioinformatics Project - Computational Drug Discovery [Part 2] Exploratory Data Analysis**\n",
    "\n",
    "Chanin Nantasenamat\n",
    "\n",
    "[*'Data Professor' YouTube channel*](http://youtube.com/dataprofessor)\n",
    "\n",
    "In this Jupyter notebook, we will be building a real-life **data science project** that you can include in your **data science portfolio**. Particularly, we will be building a machine learning model using the ChEMBL bioactivity data.\n",
    "\n",
    "In **Part 2**, we will be performing Descriptor Calculation and Exploratory Data Analysis.\n",
    "\n",
    "---"
   ]
  },
  {
   "cell_type": "markdown",
   "metadata": {
    "id": "o-4IOizard4P"
   },
   "source": [
    "## **Install conda and rdkit**"
   ]
  },
  {
   "cell_type": "code",
   "execution_count": 1,
   "metadata": {
    "colab": {
     "base_uri": "https://localhost:8080/"
    },
    "id": "H0mjQ2PcrSe5",
    "outputId": "03b97c30-d873-4663-a89a-52057e39c13a"
   },
   "outputs": [
    {
     "name": "stdout",
     "output_type": "stream",
     "text": [
      "--2021-11-26 05:18:58--  https://repo.anaconda.com/miniconda/Miniconda3-py37_4.8.2-Linux-x86_64.sh\n",
      "Resolving repo.anaconda.com (repo.anaconda.com)... 104.16.130.3, 104.16.131.3, 2606:4700::6810:8203, ...\n",
      "Connecting to repo.anaconda.com (repo.anaconda.com)|104.16.130.3|:443... connected.\n",
      "HTTP request sent, awaiting response... 200 OK\n",
      "Length: 85055499 (81M) [application/x-sh]\n",
      "Saving to: ‘Miniconda3-py37_4.8.2-Linux-x86_64.sh’\n",
      "\n",
      "Miniconda3-py37_4.8 100%[===================>]  81.12M   129MB/s    in 0.6s    \n",
      "\n",
      "2021-11-26 05:18:59 (129 MB/s) - ‘Miniconda3-py37_4.8.2-Linux-x86_64.sh’ saved [85055499/85055499]\n",
      "\n",
      "PREFIX=/usr/local\n",
      "Unpacking payload ...\n",
      "Collecting package metadata (current_repodata.json): - \b\b\\ \b\b| \b\bdone\n",
      "Solving environment: - \b\b\\ \b\bdone\n",
      "\n",
      "## Package Plan ##\n",
      "\n",
      "  environment location: /usr/local\n",
      "\n",
      "  added / updated specs:\n",
      "    - _libgcc_mutex==0.1=main\n",
      "    - asn1crypto==1.3.0=py37_0\n",
      "    - ca-certificates==2020.1.1=0\n",
      "    - certifi==2019.11.28=py37_0\n",
      "    - cffi==1.14.0=py37h2e261b9_0\n",
      "    - chardet==3.0.4=py37_1003\n",
      "    - conda-package-handling==1.6.0=py37h7b6447c_0\n",
      "    - conda==4.8.2=py37_0\n",
      "    - cryptography==2.8=py37h1ba5d50_0\n",
      "    - idna==2.8=py37_0\n",
      "    - ld_impl_linux-64==2.33.1=h53a641e_7\n",
      "    - libedit==3.1.20181209=hc058e9b_0\n",
      "    - libffi==3.2.1=hd88cf55_4\n",
      "    - libgcc-ng==9.1.0=hdf63c60_0\n",
      "    - libstdcxx-ng==9.1.0=hdf63c60_0\n",
      "    - ncurses==6.2=he6710b0_0\n",
      "    - openssl==1.1.1d=h7b6447c_4\n",
      "    - pip==20.0.2=py37_1\n",
      "    - pycosat==0.6.3=py37h7b6447c_0\n",
      "    - pycparser==2.19=py37_0\n",
      "    - pyopenssl==19.1.0=py37_0\n",
      "    - pysocks==1.7.1=py37_0\n",
      "    - python==3.7.6=h0371630_2\n",
      "    - readline==7.0=h7b6447c_5\n",
      "    - requests==2.22.0=py37_1\n",
      "    - ruamel_yaml==0.15.87=py37h7b6447c_0\n",
      "    - setuptools==45.2.0=py37_0\n",
      "    - six==1.14.0=py37_0\n",
      "    - sqlite==3.31.1=h7b6447c_0\n",
      "    - tk==8.6.8=hbc83047_0\n",
      "    - tqdm==4.42.1=py_0\n",
      "    - urllib3==1.25.8=py37_0\n",
      "    - wheel==0.34.2=py37_0\n",
      "    - xz==5.2.4=h14c3975_4\n",
      "    - yaml==0.1.7=had09818_2\n",
      "    - zlib==1.2.11=h7b6447c_3\n",
      "\n",
      "\n",
      "The following NEW packages will be INSTALLED:\n",
      "\n",
      "  _libgcc_mutex      pkgs/main/linux-64::_libgcc_mutex-0.1-main\n",
      "  asn1crypto         pkgs/main/linux-64::asn1crypto-1.3.0-py37_0\n",
      "  ca-certificates    pkgs/main/linux-64::ca-certificates-2020.1.1-0\n",
      "  certifi            pkgs/main/linux-64::certifi-2019.11.28-py37_0\n",
      "  cffi               pkgs/main/linux-64::cffi-1.14.0-py37h2e261b9_0\n",
      "  chardet            pkgs/main/linux-64::chardet-3.0.4-py37_1003\n",
      "  conda              pkgs/main/linux-64::conda-4.8.2-py37_0\n",
      "  conda-package-han~ pkgs/main/linux-64::conda-package-handling-1.6.0-py37h7b6447c_0\n",
      "  cryptography       pkgs/main/linux-64::cryptography-2.8-py37h1ba5d50_0\n",
      "  idna               pkgs/main/linux-64::idna-2.8-py37_0\n",
      "  ld_impl_linux-64   pkgs/main/linux-64::ld_impl_linux-64-2.33.1-h53a641e_7\n",
      "  libedit            pkgs/main/linux-64::libedit-3.1.20181209-hc058e9b_0\n",
      "  libffi             pkgs/main/linux-64::libffi-3.2.1-hd88cf55_4\n",
      "  libgcc-ng          pkgs/main/linux-64::libgcc-ng-9.1.0-hdf63c60_0\n",
      "  libstdcxx-ng       pkgs/main/linux-64::libstdcxx-ng-9.1.0-hdf63c60_0\n",
      "  ncurses            pkgs/main/linux-64::ncurses-6.2-he6710b0_0\n",
      "  openssl            pkgs/main/linux-64::openssl-1.1.1d-h7b6447c_4\n",
      "  pip                pkgs/main/linux-64::pip-20.0.2-py37_1\n",
      "  pycosat            pkgs/main/linux-64::pycosat-0.6.3-py37h7b6447c_0\n",
      "  pycparser          pkgs/main/linux-64::pycparser-2.19-py37_0\n",
      "  pyopenssl          pkgs/main/linux-64::pyopenssl-19.1.0-py37_0\n",
      "  pysocks            pkgs/main/linux-64::pysocks-1.7.1-py37_0\n",
      "  python             pkgs/main/linux-64::python-3.7.6-h0371630_2\n",
      "  readline           pkgs/main/linux-64::readline-7.0-h7b6447c_5\n",
      "  requests           pkgs/main/linux-64::requests-2.22.0-py37_1\n",
      "  ruamel_yaml        pkgs/main/linux-64::ruamel_yaml-0.15.87-py37h7b6447c_0\n",
      "  setuptools         pkgs/main/linux-64::setuptools-45.2.0-py37_0\n",
      "  six                pkgs/main/linux-64::six-1.14.0-py37_0\n",
      "  sqlite             pkgs/main/linux-64::sqlite-3.31.1-h7b6447c_0\n",
      "  tk                 pkgs/main/linux-64::tk-8.6.8-hbc83047_0\n",
      "  tqdm               pkgs/main/noarch::tqdm-4.42.1-py_0\n",
      "  urllib3            pkgs/main/linux-64::urllib3-1.25.8-py37_0\n",
      "  wheel              pkgs/main/linux-64::wheel-0.34.2-py37_0\n",
      "  xz                 pkgs/main/linux-64::xz-5.2.4-h14c3975_4\n",
      "  yaml               pkgs/main/linux-64::yaml-0.1.7-had09818_2\n",
      "  zlib               pkgs/main/linux-64::zlib-1.2.11-h7b6447c_3\n",
      "\n",
      "\n",
      "Preparing transaction: / \b\b- \b\b\\ \b\b| \b\bdone\n",
      "Executing transaction: - \b\b\\ \b\b| \b\b/ \b\b- \b\b\\ \b\b| \b\b/ \b\b- \b\b\\ \b\b| \b\b/ \b\b- \b\b\\ \b\b| \b\b/ \b\bdone\n",
      "installation finished.\n",
      "WARNING:\n",
      "    You currently have a PYTHONPATH environment variable set. This may cause\n",
      "    unexpected behavior when running the Python interpreter in Miniconda3.\n",
      "    For best results, please verify that your PYTHONPATH only points to\n",
      "    directories of packages that are compatible with the Python interpreter\n",
      "    in Miniconda3: /usr/local\n",
      "Collecting package metadata (current_repodata.json): - \b\b\\ \b\b| \b\b/ \b\b- \b\b\\ \b\b| \b\b/ \b\b- \b\b\\ \b\b| \b\b/ \b\b- \b\b\\ \b\b| \b\b/ \b\b- \b\b\\ \b\b| \b\b/ \b\b- \b\bdone\n",
      "Solving environment: | \b\b/ \b\b- \b\b\\ \b\b| \b\b/ \b\b- \b\b\\ \b\b| \b\b/ \b\b- \b\bdone\n",
      "\n",
      "## Package Plan ##\n",
      "\n",
      "  environment location: /usr/local\n",
      "\n",
      "  added / updated specs:\n",
      "    - rdkit\n",
      "\n",
      "\n",
      "The following packages will be downloaded:\n",
      "\n",
      "    package                    |            build\n",
      "    ---------------------------|-----------------\n",
      "    _openmp_mutex-4.5          |            1_gnu          22 KB\n",
      "    blas-1.0                   |              mkl           6 KB\n",
      "    bottleneck-1.3.2           |   py37heb32a55_1         125 KB\n",
      "    bzip2-1.0.8                |       h7b6447c_0          78 KB\n",
      "    ca-certificates-2021.10.26 |       h06a4308_2         115 KB\n",
      "    cairo-1.16.0               |       hf32fb01_1         1.0 MB\n",
      "    certifi-2021.10.8          |   py37h06a4308_0         151 KB\n",
      "    conda-4.10.3               |   py37h06a4308_0         2.9 MB\n",
      "    fontconfig-2.13.1          |       h6c09931_0         250 KB\n",
      "    freetype-2.11.0            |       h70c0345_0         618 KB\n",
      "    giflib-5.2.1               |       h7b6447c_0          78 KB\n",
      "    glib-2.69.1                |       h5202010_0         1.7 MB\n",
      "    icu-58.2                   |       he6710b0_3        10.5 MB\n",
      "    intel-openmp-2021.4.0      |    h06a4308_3561         4.2 MB\n",
      "    jpeg-9d                    |       h7f8727e_0         232 KB\n",
      "    lcms2-2.12                 |       h3be6417_0         312 KB\n",
      "    libboost-1.73.0            |      h3ff78a5_11        13.9 MB\n",
      "    libffi-3.3                 |       he6710b0_2          50 KB\n",
      "    libgcc-ng-9.3.0            |      h5101ec6_17         4.8 MB\n",
      "    libgomp-9.3.0              |      h5101ec6_17         311 KB\n",
      "    libpng-1.6.37              |       hbc83047_0         278 KB\n",
      "    libtiff-4.2.0              |       h85742a9_0         502 KB\n",
      "    libuuid-1.0.3              |       h7f8727e_2          17 KB\n",
      "    libwebp-1.2.0              |       h89dd481_0         493 KB\n",
      "    libwebp-base-1.2.0         |       h27cfd23_0         437 KB\n",
      "    libxcb-1.14                |       h7b6447c_0         505 KB\n",
      "    libxml2-2.9.12             |       h03d6c58_0         1.2 MB\n",
      "    lz4-c-1.9.3                |       h295c915_1         185 KB\n",
      "    mkl-2021.4.0               |     h06a4308_640       142.6 MB\n",
      "    mkl-service-2.4.0          |   py37h7f8727e_0          56 KB\n",
      "    mkl_fft-1.3.1              |   py37hd3c417c_0         172 KB\n",
      "    mkl_random-1.2.2           |   py37h51133e4_0         287 KB\n",
      "    numexpr-2.7.3              |   py37h22e1b3c_1         188 KB\n",
      "    numpy-1.21.2               |   py37h20f2e39_0          23 KB\n",
      "    numpy-base-1.21.2          |   py37h79a1101_0         4.8 MB\n",
      "    olefile-0.46               |           py37_0          50 KB\n",
      "    openssl-1.1.1l             |       h7f8727e_0         2.5 MB\n",
      "    pandas-1.3.4               |   py37h8c16a72_0         9.2 MB\n",
      "    pcre-8.45                  |       h295c915_0         207 KB\n",
      "    pillow-8.4.0               |   py37h5aabda8_0         644 KB\n",
      "    pixman-0.40.0              |       h7f8727e_1         373 KB\n",
      "    py-boost-1.73.0            |  py37ha9443f7_11         204 KB\n",
      "    python-dateutil-2.8.2      |     pyhd3eb1b0_0         233 KB\n",
      "    pytz-2021.3                |     pyhd3eb1b0_0         171 KB\n",
      "    rdkit-2020.09.1.0          |   py37hd50e099_1        25.8 MB  rdkit\n",
      "    xz-5.2.5                   |       h7b6447c_0         341 KB\n",
      "    zstd-1.4.9                 |       haebb681_0         480 KB\n",
      "    ------------------------------------------------------------\n",
      "                                           Total:       233.1 MB\n",
      "\n",
      "The following NEW packages will be INSTALLED:\n",
      "\n",
      "  _openmp_mutex      pkgs/main/linux-64::_openmp_mutex-4.5-1_gnu\n",
      "  blas               pkgs/main/linux-64::blas-1.0-mkl\n",
      "  bottleneck         pkgs/main/linux-64::bottleneck-1.3.2-py37heb32a55_1\n",
      "  bzip2              pkgs/main/linux-64::bzip2-1.0.8-h7b6447c_0\n",
      "  cairo              pkgs/main/linux-64::cairo-1.16.0-hf32fb01_1\n",
      "  fontconfig         pkgs/main/linux-64::fontconfig-2.13.1-h6c09931_0\n",
      "  freetype           pkgs/main/linux-64::freetype-2.11.0-h70c0345_0\n",
      "  giflib             pkgs/main/linux-64::giflib-5.2.1-h7b6447c_0\n",
      "  glib               pkgs/main/linux-64::glib-2.69.1-h5202010_0\n",
      "  icu                pkgs/main/linux-64::icu-58.2-he6710b0_3\n",
      "  intel-openmp       pkgs/main/linux-64::intel-openmp-2021.4.0-h06a4308_3561\n",
      "  jpeg               pkgs/main/linux-64::jpeg-9d-h7f8727e_0\n",
      "  lcms2              pkgs/main/linux-64::lcms2-2.12-h3be6417_0\n",
      "  libboost           pkgs/main/linux-64::libboost-1.73.0-h3ff78a5_11\n",
      "  libgomp            pkgs/main/linux-64::libgomp-9.3.0-h5101ec6_17\n",
      "  libpng             pkgs/main/linux-64::libpng-1.6.37-hbc83047_0\n",
      "  libtiff            pkgs/main/linux-64::libtiff-4.2.0-h85742a9_0\n",
      "  libuuid            pkgs/main/linux-64::libuuid-1.0.3-h7f8727e_2\n",
      "  libwebp            pkgs/main/linux-64::libwebp-1.2.0-h89dd481_0\n",
      "  libwebp-base       pkgs/main/linux-64::libwebp-base-1.2.0-h27cfd23_0\n",
      "  libxcb             pkgs/main/linux-64::libxcb-1.14-h7b6447c_0\n",
      "  libxml2            pkgs/main/linux-64::libxml2-2.9.12-h03d6c58_0\n",
      "  lz4-c              pkgs/main/linux-64::lz4-c-1.9.3-h295c915_1\n",
      "  mkl                pkgs/main/linux-64::mkl-2021.4.0-h06a4308_640\n",
      "  mkl-service        pkgs/main/linux-64::mkl-service-2.4.0-py37h7f8727e_0\n",
      "  mkl_fft            pkgs/main/linux-64::mkl_fft-1.3.1-py37hd3c417c_0\n",
      "  mkl_random         pkgs/main/linux-64::mkl_random-1.2.2-py37h51133e4_0\n",
      "  numexpr            pkgs/main/linux-64::numexpr-2.7.3-py37h22e1b3c_1\n",
      "  numpy              pkgs/main/linux-64::numpy-1.21.2-py37h20f2e39_0\n",
      "  numpy-base         pkgs/main/linux-64::numpy-base-1.21.2-py37h79a1101_0\n",
      "  olefile            pkgs/main/linux-64::olefile-0.46-py37_0\n",
      "  pandas             pkgs/main/linux-64::pandas-1.3.4-py37h8c16a72_0\n",
      "  pcre               pkgs/main/linux-64::pcre-8.45-h295c915_0\n",
      "  pillow             pkgs/main/linux-64::pillow-8.4.0-py37h5aabda8_0\n",
      "  pixman             pkgs/main/linux-64::pixman-0.40.0-h7f8727e_1\n",
      "  py-boost           pkgs/main/linux-64::py-boost-1.73.0-py37ha9443f7_11\n",
      "  python-dateutil    pkgs/main/noarch::python-dateutil-2.8.2-pyhd3eb1b0_0\n",
      "  pytz               pkgs/main/noarch::pytz-2021.3-pyhd3eb1b0_0\n",
      "  rdkit              rdkit/linux-64::rdkit-2020.09.1.0-py37hd50e099_1\n",
      "  zstd               pkgs/main/linux-64::zstd-1.4.9-haebb681_0\n",
      "\n",
      "The following packages will be UPDATED:\n",
      "\n",
      "  ca-certificates                                2020.1.1-0 --> 2021.10.26-h06a4308_2\n",
      "  certifi                                 2019.11.28-py37_0 --> 2021.10.8-py37h06a4308_0\n",
      "  conda                                        4.8.2-py37_0 --> 4.10.3-py37h06a4308_0\n",
      "  libffi                                   3.2.1-hd88cf55_4 --> 3.3-he6710b0_2\n",
      "  libgcc-ng                                9.1.0-hdf63c60_0 --> 9.3.0-h5101ec6_17\n",
      "  openssl                                 1.1.1d-h7b6447c_4 --> 1.1.1l-h7f8727e_0\n",
      "  xz                                       5.2.4-h14c3975_4 --> 5.2.5-h7b6447c_0\n",
      "\n",
      "\n",
      "\n",
      "Downloading and Extracting Packages\n",
      "bzip2-1.0.8          | 78 KB     | : 100% 1.0/1 [00:00<00:00,  9.96it/s]\n",
      "libtiff-4.2.0        | 502 KB    | : 100% 1.0/1 [00:00<00:00,  9.50it/s]\n",
      "numexpr-2.7.3        | 188 KB    | : 100% 1.0/1 [00:00<00:00, 13.46it/s]\n",
      "_openmp_mutex-4.5    | 22 KB     | : 100% 1.0/1 [00:00<00:00, 25.00it/s]\n",
      "blas-1.0             | 6 KB      | : 100% 1.0/1 [00:00<00:00, 16.58it/s]\n",
      "libgomp-9.3.0        | 311 KB    | : 100% 1.0/1 [00:00<00:00, 16.00it/s]\n",
      "libgcc-ng-9.3.0      | 4.8 MB    | : 100% 1.0/1 [00:00<00:00,  4.09it/s]\n",
      "intel-openmp-2021.4. | 4.2 MB    | : 100% 1.0/1 [00:00<00:00,  4.14it/s]\n",
      "zstd-1.4.9           | 480 KB    | : 100% 1.0/1 [00:00<00:00, 12.89it/s]\n",
      "conda-4.10.3         | 2.9 MB    | : 100% 1.0/1 [00:00<00:00,  5.29it/s]\n",
      "libxml2-2.9.12       | 1.2 MB    | : 100% 1.0/1 [00:00<00:00,  6.79it/s]\n",
      "icu-58.2             | 10.5 MB   | : 100% 1.0/1 [00:00<00:00,  2.22it/s]              \n",
      "fontconfig-2.13.1    | 250 KB    | : 100% 1.0/1 [00:00<00:00, 10.95it/s]\n",
      "mkl-service-2.4.0    | 56 KB     | : 100% 1.0/1 [00:00<00:00, 18.59it/s]\n",
      "rdkit-2020.09.1.0    | 25.8 MB   | : 100% 1.0/1 [00:06<00:00,  6.46s/it]\n",
      "mkl_fft-1.3.1        | 172 KB    | : 100% 1.0/1 [00:00<00:00, 14.07it/s]\n",
      "libffi-3.3           | 50 KB     | : 100% 1.0/1 [00:00<00:00, 15.99it/s]\n",
      "openssl-1.1.1l       | 2.5 MB    | : 100% 1.0/1 [00:00<00:00,  6.81it/s]\n",
      "jpeg-9d              | 232 KB    | : 100% 1.0/1 [00:00<00:00, 14.41it/s]\n",
      "libwebp-base-1.2.0   | 437 KB    | : 100% 1.0/1 [00:00<00:00,  8.88it/s]\n",
      "pandas-1.3.4         | 9.2 MB    | : 100% 1.0/1 [00:00<00:00,  1.60it/s]             \n",
      "glib-2.69.1          | 1.7 MB    | : 100% 1.0/1 [00:00<00:00,  5.31it/s]\n",
      "libuuid-1.0.3        | 17 KB     | : 100% 1.0/1 [00:00<00:00, 13.45it/s]\n",
      "lz4-c-1.9.3          | 185 KB    | : 100% 1.0/1 [00:00<00:00, 13.70it/s]\n",
      "bottleneck-1.3.2     | 125 KB    | : 100% 1.0/1 [00:00<00:00, 13.73it/s]\n",
      "libwebp-1.2.0        | 493 KB    | : 100% 1.0/1 [00:00<00:00, 11.60it/s]\n",
      "freetype-2.11.0      | 618 KB    | : 100% 1.0/1 [00:00<00:00,  8.11it/s]\n",
      "certifi-2021.10.8    | 151 KB    | : 100% 1.0/1 [00:00<00:00, 16.02it/s]\n",
      "libxcb-1.14          | 505 KB    | : 100% 1.0/1 [00:00<00:00, 10.93it/s]\n",
      "pixman-0.40.0        | 373 KB    | : 100% 1.0/1 [00:00<00:00, 14.04it/s]\n",
      "numpy-1.21.2         | 23 KB     | : 100% 1.0/1 [00:00<00:00, 16.50it/s]\n",
      "numpy-base-1.21.2    | 4.8 MB    | : 100% 1.0/1 [00:00<00:00,  2.83it/s]               \n",
      "py-boost-1.73.0      | 204 KB    | : 100% 1.0/1 [00:00<00:00, 13.68it/s]\n",
      "ca-certificates-2021 | 115 KB    | : 100% 1.0/1 [00:00<00:00, 15.34it/s]\n",
      "mkl-2021.4.0         | 142.6 MB  | : 100% 1.0/1 [00:06<00:00,  6.20s/it]               \n",
      "xz-5.2.5             | 341 KB    | : 100% 1.0/1 [00:00<00:00, 12.35it/s]\n",
      "olefile-0.46         | 50 KB     | : 100% 1.0/1 [00:00<00:00, 15.37it/s]\n",
      "giflib-5.2.1         | 78 KB     | : 100% 1.0/1 [00:00<00:00, 13.43it/s]\n",
      "pillow-8.4.0         | 644 KB    | : 100% 1.0/1 [00:00<00:00, 11.20it/s]\n",
      "mkl_random-1.2.2     | 287 KB    | : 100% 1.0/1 [00:00<00:00, 15.58it/s]\n",
      "pcre-8.45            | 207 KB    | : 100% 1.0/1 [00:00<00:00, 15.34it/s]\n",
      "libboost-1.73.0      | 13.9 MB   | : 100% 1.0/1 [00:02<00:00,  1.10s/it]               \n",
      "cairo-1.16.0         | 1.0 MB    | : 100% 1.0/1 [00:00<00:00,  8.93it/s]\n",
      "python-dateutil-2.8. | 233 KB    | : 100% 1.0/1 [00:00<00:00, 13.07it/s]\n",
      "pytz-2021.3          | 171 KB    | : 100% 1.0/1 [00:00<00:00,  9.63it/s]\n",
      "libpng-1.6.37        | 278 KB    | : 100% 1.0/1 [00:00<00:00, 15.46it/s]\n",
      "lcms2-2.12           | 312 KB    | : 100% 1.0/1 [00:00<00:00, 14.11it/s]\n",
      "Preparing transaction: | \b\b/ \b\b- \b\b\\ \b\b| \b\b/ \b\b- \b\b\\ \b\b| \b\b/ \b\bdone\n",
      "Verifying transaction: \\ \b\b| \b\b/ \b\b- \b\b\\ \b\b| \b\b/ \b\b- \b\b\\ \b\b| \b\b/ \b\b- \b\b\\ \b\b| \b\b/ \b\b- \b\b\\ \b\b| \b\b/ \b\b- \b\b\\ \b\b| \b\b/ \b\b- \b\b\\ \b\b| \b\b/ \b\b- \b\b\\ \b\bdone\n",
      "Executing transaction: / \b\b- \b\b\\ \b\b| \b\b/ \b\b- \b\b\\ \b\b| \b\b/ \b\b- \b\b\\ \b\b| \b\b/ \b\b- \b\b\\ \b\b| \b\b/ \b\b- \b\b\\ \b\b| \b\b/ \b\b- \b\b\\ \b\b| \b\b/ \b\b- \b\b\\ \b\b| \b\b/ \b\b- \b\b\\ \b\b| \b\b/ \b\b- \b\b\\ \b\b| \b\b/ \b\b- \b\b\\ \b\b| \b\b/ \b\b- \b\b\\ \b\b| \b\b/ \b\b- \b\b\\ \b\b| \b\b/ \b\b- \b\bdone\n"
     ]
    }
   ],
   "source": [
    "! wget https://repo.anaconda.com/miniconda/Miniconda3-py37_4.8.2-Linux-x86_64.sh\n",
    "! chmod +x Miniconda3-py37_4.8.2-Linux-x86_64.sh\n",
    "! bash ./Miniconda3-py37_4.8.2-Linux-x86_64.sh -b -f -p /usr/local\n",
    "! conda install -c rdkit rdkit -y\n",
    "import sys\n",
    "sys.path.append('/usr/local/lib/python3.7/site-packages/')"
   ]
  },
  {
   "cell_type": "markdown",
   "metadata": {
    "id": "QmxXXFa4wTNG"
   },
   "source": [
    "## **Load bioactivity data**"
   ]
  },
  {
   "cell_type": "code",
   "execution_count": 2,
   "metadata": {
    "id": "Fpu5C7HlwV9s"
   },
   "outputs": [],
   "source": [
    "import pandas as pd"
   ]
  },
  {
   "cell_type": "code",
   "execution_count": 3,
   "metadata": {
    "id": "GCcE8J5XwjtB"
   },
   "outputs": [],
   "source": [
    "df = pd.read_csv('/content/Dyrk1a_bioactivity_data_preprocessed.csv')"
   ]
  },
  {
   "cell_type": "markdown",
   "metadata": {
    "id": "YzN_S4Quro5S"
   },
   "source": [
    "## **Calculate Lipinski descriptors**\n",
    "Christopher Lipinski, a scientist at Pfizer, came up with a set of rule-of-thumb for evaluating the **druglikeness** of compounds. Such druglikeness is based on the Absorption, Distribution, Metabolism and Excretion (ADME) that is also known as the pharmacokinetic profile. Lipinski analyzed all orally active FDA-approved drugs in the formulation of what is to be known as the **Rule-of-Five** or **Lipinski's Rule**.\n",
    "\n",
    "The Lipinski's Rule stated the following:\n",
    "* Molecular weight < 500 Dalton\n",
    "* Octanol-water partition coefficient (LogP) < 5\n",
    "* Hydrogen bond donors < 5\n",
    "* Hydrogen bond acceptors < 10 "
   ]
  },
  {
   "cell_type": "markdown",
   "metadata": {
    "id": "9qn_eQcnxY7C"
   },
   "source": [
    "### **Import libraries**"
   ]
  },
  {
   "cell_type": "code",
   "execution_count": 4,
   "metadata": {
    "id": "CgBjIdT-rnRU"
   },
   "outputs": [],
   "source": [
    "import numpy as np\n",
    "from rdkit import Chem\n",
    "from rdkit.Chem import Descriptors, Lipinski"
   ]
  },
  {
   "cell_type": "markdown",
   "metadata": {
    "id": "JsgTV-ByxdMa"
   },
   "source": [
    "### **Calculate descriptors**"
   ]
  },
  {
   "cell_type": "code",
   "execution_count": 5,
   "metadata": {
    "id": "bCXEY7a9ugO_"
   },
   "outputs": [],
   "source": [
    "# Inspired by: https://codeocean.com/explore/capsules?query=tag:data-curation\n",
    "\n",
    "def lipinski(smiles, verbose=False):\n",
    "\n",
    "    moldata= []\n",
    "    for elem in smiles:\n",
    "        mol=Chem.MolFromSmiles(elem) \n",
    "        moldata.append(mol)\n",
    "       \n",
    "    baseData= np.arange(1,1)\n",
    "    i=0  \n",
    "    for mol in moldata:        \n",
    "       \n",
    "        desc_MolWt = Descriptors.MolWt(mol)\n",
    "        desc_MolLogP = Descriptors.MolLogP(mol)\n",
    "        desc_NumHDonors = Lipinski.NumHDonors(mol)\n",
    "        desc_NumHAcceptors = Lipinski.NumHAcceptors(mol)\n",
    "           \n",
    "        row = np.array([desc_MolWt,\n",
    "                        desc_MolLogP,\n",
    "                        desc_NumHDonors,\n",
    "                        desc_NumHAcceptors])   \n",
    "    \n",
    "        if(i==0):\n",
    "            baseData=row\n",
    "        else:\n",
    "            baseData=np.vstack([baseData, row])\n",
    "        i=i+1      \n",
    "    \n",
    "    columnNames=[\"MW\",\"LogP\",\"NumHDonors\",\"NumHAcceptors\"]   \n",
    "    descriptors = pd.DataFrame(data=baseData,columns=columnNames)\n",
    "    \n",
    "    return descriptors"
   ]
  },
  {
   "cell_type": "code",
   "execution_count": 6,
   "metadata": {
    "id": "ThFIFw8IukMY"
   },
   "outputs": [],
   "source": [
    "df_lipinski = lipinski(df.canonical_smiles)"
   ]
  },
  {
   "cell_type": "markdown",
   "metadata": {
    "id": "gUMlPfFrxicj"
   },
   "source": [
    "### **Combine DataFrames**\n",
    "\n",
    "Let's take a look at the 2 DataFrames that will be combined."
   ]
  },
  {
   "cell_type": "code",
   "execution_count": 7,
   "metadata": {
    "colab": {
     "base_uri": "https://localhost:8080/",
     "height": 423
    },
    "id": "DaezyM5vwp9n",
    "outputId": "eb700351-bd21-4b71-b13e-72f4e1efdb9b"
   },
   "outputs": [
    {
     "data": {
      "text/html": [
       "<div>\n",
       "<style scoped>\n",
       "    .dataframe tbody tr th:only-of-type {\n",
       "        vertical-align: middle;\n",
       "    }\n",
       "\n",
       "    .dataframe tbody tr th {\n",
       "        vertical-align: top;\n",
       "    }\n",
       "\n",
       "    .dataframe thead th {\n",
       "        text-align: right;\n",
       "    }\n",
       "</style>\n",
       "<table border=\"1\" class=\"dataframe\">\n",
       "  <thead>\n",
       "    <tr style=\"text-align: right;\">\n",
       "      <th></th>\n",
       "      <th>MW</th>\n",
       "      <th>LogP</th>\n",
       "      <th>NumHDonors</th>\n",
       "      <th>NumHAcceptors</th>\n",
       "    </tr>\n",
       "  </thead>\n",
       "  <tbody>\n",
       "    <tr>\n",
       "      <th>0</th>\n",
       "      <td>230.231</td>\n",
       "      <td>1.08340</td>\n",
       "      <td>1.0</td>\n",
       "      <td>7.0</td>\n",
       "    </tr>\n",
       "    <tr>\n",
       "      <th>1</th>\n",
       "      <td>342.407</td>\n",
       "      <td>0.92500</td>\n",
       "      <td>3.0</td>\n",
       "      <td>9.0</td>\n",
       "    </tr>\n",
       "    <tr>\n",
       "      <th>2</th>\n",
       "      <td>476.792</td>\n",
       "      <td>4.67890</td>\n",
       "      <td>1.0</td>\n",
       "      <td>2.0</td>\n",
       "    </tr>\n",
       "    <tr>\n",
       "      <th>3</th>\n",
       "      <td>402.480</td>\n",
       "      <td>2.70300</td>\n",
       "      <td>3.0</td>\n",
       "      <td>7.0</td>\n",
       "    </tr>\n",
       "    <tr>\n",
       "      <th>4</th>\n",
       "      <td>354.458</td>\n",
       "      <td>3.20210</td>\n",
       "      <td>3.0</td>\n",
       "      <td>7.0</td>\n",
       "    </tr>\n",
       "    <tr>\n",
       "      <th>...</th>\n",
       "      <td>...</td>\n",
       "      <td>...</td>\n",
       "      <td>...</td>\n",
       "      <td>...</td>\n",
       "    </tr>\n",
       "    <tr>\n",
       "      <th>837</th>\n",
       "      <td>318.340</td>\n",
       "      <td>2.93850</td>\n",
       "      <td>1.0</td>\n",
       "      <td>7.0</td>\n",
       "    </tr>\n",
       "    <tr>\n",
       "      <th>838</th>\n",
       "      <td>313.324</td>\n",
       "      <td>2.80158</td>\n",
       "      <td>1.0</td>\n",
       "      <td>7.0</td>\n",
       "    </tr>\n",
       "    <tr>\n",
       "      <th>839</th>\n",
       "      <td>313.324</td>\n",
       "      <td>2.80158</td>\n",
       "      <td>1.0</td>\n",
       "      <td>7.0</td>\n",
       "    </tr>\n",
       "    <tr>\n",
       "      <th>840</th>\n",
       "      <td>316.368</td>\n",
       "      <td>3.26262</td>\n",
       "      <td>0.0</td>\n",
       "      <td>6.0</td>\n",
       "    </tr>\n",
       "    <tr>\n",
       "      <th>841</th>\n",
       "      <td>332.367</td>\n",
       "      <td>2.96280</td>\n",
       "      <td>0.0</td>\n",
       "      <td>7.0</td>\n",
       "    </tr>\n",
       "  </tbody>\n",
       "</table>\n",
       "<p>842 rows × 4 columns</p>\n",
       "</div>"
      ],
      "text/plain": [
       "          MW     LogP  NumHDonors  NumHAcceptors\n",
       "0    230.231  1.08340         1.0            7.0\n",
       "1    342.407  0.92500         3.0            9.0\n",
       "2    476.792  4.67890         1.0            2.0\n",
       "3    402.480  2.70300         3.0            7.0\n",
       "4    354.458  3.20210         3.0            7.0\n",
       "..       ...      ...         ...            ...\n",
       "837  318.340  2.93850         1.0            7.0\n",
       "838  313.324  2.80158         1.0            7.0\n",
       "839  313.324  2.80158         1.0            7.0\n",
       "840  316.368  3.26262         0.0            6.0\n",
       "841  332.367  2.96280         0.0            7.0\n",
       "\n",
       "[842 rows x 4 columns]"
      ]
     },
     "execution_count": 7,
     "metadata": {},
     "output_type": "execute_result"
    }
   ],
   "source": [
    "df_lipinski"
   ]
  },
  {
   "cell_type": "code",
   "execution_count": 8,
   "metadata": {
    "colab": {
     "base_uri": "https://localhost:8080/",
     "height": 423
    },
    "id": "9-ChzM8_wuq_",
    "outputId": "d1278b37-b9e4-4672-9d96-080a097eedea"
   },
   "outputs": [
    {
     "data": {
      "text/html": [
       "<div>\n",
       "<style scoped>\n",
       "    .dataframe tbody tr th:only-of-type {\n",
       "        vertical-align: middle;\n",
       "    }\n",
       "\n",
       "    .dataframe tbody tr th {\n",
       "        vertical-align: top;\n",
       "    }\n",
       "\n",
       "    .dataframe thead th {\n",
       "        text-align: right;\n",
       "    }\n",
       "</style>\n",
       "<table border=\"1\" class=\"dataframe\">\n",
       "  <thead>\n",
       "    <tr style=\"text-align: right;\">\n",
       "      <th></th>\n",
       "      <th>molecule_chembl_id</th>\n",
       "      <th>canonical_smiles</th>\n",
       "      <th>standard_value</th>\n",
       "      <th>bioactivity_class</th>\n",
       "    </tr>\n",
       "  </thead>\n",
       "  <tbody>\n",
       "    <tr>\n",
       "      <th>0</th>\n",
       "      <td>CHEMBL189657</td>\n",
       "      <td>CCn1c(-c2nonc2N)nc2cnccc21</td>\n",
       "      <td>110.0</td>\n",
       "      <td>active</td>\n",
       "    </tr>\n",
       "    <tr>\n",
       "      <th>1</th>\n",
       "      <td>CHEMBL188434</td>\n",
       "      <td>CCn1c(-c2nonc2N)nc2cncc(CNC3CCNCC3)c21</td>\n",
       "      <td>4900.0</td>\n",
       "      <td>intermediate</td>\n",
       "    </tr>\n",
       "    <tr>\n",
       "      <th>2</th>\n",
       "      <td>CHEMBL376505</td>\n",
       "      <td>CN(C)c1nc2c(Br)c(Br)c(Br)c(Br)c2[nH]1</td>\n",
       "      <td>120.0</td>\n",
       "      <td>active</td>\n",
       "    </tr>\n",
       "    <tr>\n",
       "      <th>3</th>\n",
       "      <td>CHEMBL319467</td>\n",
       "      <td>NS(=O)(=O)c1ccc(Nc2nc(OCC3CCCCC3)c3nc[nH]c3n2)cc1</td>\n",
       "      <td>900.0</td>\n",
       "      <td>active</td>\n",
       "    </tr>\n",
       "    <tr>\n",
       "      <th>4</th>\n",
       "      <td>CHEMBL14762</td>\n",
       "      <td>CC[C@H](CO)Nc1nc(NCc2ccccc2)c2ncn(C(C)C)c2n1</td>\n",
       "      <td>18000.0</td>\n",
       "      <td>inactive</td>\n",
       "    </tr>\n",
       "    <tr>\n",
       "      <th>...</th>\n",
       "      <td>...</td>\n",
       "      <td>...</td>\n",
       "      <td>...</td>\n",
       "      <td>...</td>\n",
       "    </tr>\n",
       "    <tr>\n",
       "      <th>837</th>\n",
       "      <td>CHEMBL187081</td>\n",
       "      <td>COc1cccc(Nc2nccc(-c3cnn4ncccc34)n2)c1</td>\n",
       "      <td>12.0</td>\n",
       "      <td>active</td>\n",
       "    </tr>\n",
       "    <tr>\n",
       "      <th>838</th>\n",
       "      <td>CHEMBL495696</td>\n",
       "      <td>N#Cc1cccc(Nc2nccc(-c3cnn4ncccc34)n2)c1</td>\n",
       "      <td>5.0</td>\n",
       "      <td>active</td>\n",
       "    </tr>\n",
       "    <tr>\n",
       "      <th>839</th>\n",
       "      <td>CHEMBL359794</td>\n",
       "      <td>N#Cc1ccc(Nc2nccc(-c3cnn4ncccc34)n2)cc1</td>\n",
       "      <td>103.0</td>\n",
       "      <td>active</td>\n",
       "    </tr>\n",
       "    <tr>\n",
       "      <th>840</th>\n",
       "      <td>CHEMBL4637319</td>\n",
       "      <td>Cc1cccc(N(C)c2nccc(-c3cnn4ncccc34)n2)c1</td>\n",
       "      <td>76.0</td>\n",
       "      <td>active</td>\n",
       "    </tr>\n",
       "    <tr>\n",
       "      <th>841</th>\n",
       "      <td>CHEMBL4636572</td>\n",
       "      <td>COc1cccc(N(C)c2nccc(-c3cnn4ncccc34)n2)c1</td>\n",
       "      <td>97.0</td>\n",
       "      <td>active</td>\n",
       "    </tr>\n",
       "  </tbody>\n",
       "</table>\n",
       "<p>842 rows × 4 columns</p>\n",
       "</div>"
      ],
      "text/plain": [
       "    molecule_chembl_id  ... bioactivity_class\n",
       "0         CHEMBL189657  ...            active\n",
       "1         CHEMBL188434  ...      intermediate\n",
       "2         CHEMBL376505  ...            active\n",
       "3         CHEMBL319467  ...            active\n",
       "4          CHEMBL14762  ...          inactive\n",
       "..                 ...  ...               ...\n",
       "837       CHEMBL187081  ...            active\n",
       "838       CHEMBL495696  ...            active\n",
       "839       CHEMBL359794  ...            active\n",
       "840      CHEMBL4637319  ...            active\n",
       "841      CHEMBL4636572  ...            active\n",
       "\n",
       "[842 rows x 4 columns]"
      ]
     },
     "execution_count": 8,
     "metadata": {},
     "output_type": "execute_result"
    }
   ],
   "source": [
    "df"
   ]
  },
  {
   "cell_type": "markdown",
   "metadata": {
    "id": "eET6iZ1Aw3oe"
   },
   "source": [
    "Now, let's combine the 2 DataFrame"
   ]
  },
  {
   "cell_type": "code",
   "execution_count": 9,
   "metadata": {
    "id": "L9nUZC0Ww3gp"
   },
   "outputs": [],
   "source": [
    "df_combined = pd.concat([df,df_lipinski], axis=1)"
   ]
  },
  {
   "cell_type": "code",
   "execution_count": 10,
   "metadata": {
    "colab": {
     "base_uri": "https://localhost:8080/",
     "height": 423
    },
    "id": "FRBfBP3QxFJp",
    "outputId": "49a6c4d9-2f99-46b3-d5da-72482bc0f8bd"
   },
   "outputs": [
    {
     "data": {
      "text/html": [
       "<div>\n",
       "<style scoped>\n",
       "    .dataframe tbody tr th:only-of-type {\n",
       "        vertical-align: middle;\n",
       "    }\n",
       "\n",
       "    .dataframe tbody tr th {\n",
       "        vertical-align: top;\n",
       "    }\n",
       "\n",
       "    .dataframe thead th {\n",
       "        text-align: right;\n",
       "    }\n",
       "</style>\n",
       "<table border=\"1\" class=\"dataframe\">\n",
       "  <thead>\n",
       "    <tr style=\"text-align: right;\">\n",
       "      <th></th>\n",
       "      <th>molecule_chembl_id</th>\n",
       "      <th>canonical_smiles</th>\n",
       "      <th>standard_value</th>\n",
       "      <th>bioactivity_class</th>\n",
       "      <th>MW</th>\n",
       "      <th>LogP</th>\n",
       "      <th>NumHDonors</th>\n",
       "      <th>NumHAcceptors</th>\n",
       "    </tr>\n",
       "  </thead>\n",
       "  <tbody>\n",
       "    <tr>\n",
       "      <th>0</th>\n",
       "      <td>CHEMBL189657</td>\n",
       "      <td>CCn1c(-c2nonc2N)nc2cnccc21</td>\n",
       "      <td>110.0</td>\n",
       "      <td>active</td>\n",
       "      <td>230.231</td>\n",
       "      <td>1.08340</td>\n",
       "      <td>1.0</td>\n",
       "      <td>7.0</td>\n",
       "    </tr>\n",
       "    <tr>\n",
       "      <th>1</th>\n",
       "      <td>CHEMBL188434</td>\n",
       "      <td>CCn1c(-c2nonc2N)nc2cncc(CNC3CCNCC3)c21</td>\n",
       "      <td>4900.0</td>\n",
       "      <td>intermediate</td>\n",
       "      <td>342.407</td>\n",
       "      <td>0.92500</td>\n",
       "      <td>3.0</td>\n",
       "      <td>9.0</td>\n",
       "    </tr>\n",
       "    <tr>\n",
       "      <th>2</th>\n",
       "      <td>CHEMBL376505</td>\n",
       "      <td>CN(C)c1nc2c(Br)c(Br)c(Br)c(Br)c2[nH]1</td>\n",
       "      <td>120.0</td>\n",
       "      <td>active</td>\n",
       "      <td>476.792</td>\n",
       "      <td>4.67890</td>\n",
       "      <td>1.0</td>\n",
       "      <td>2.0</td>\n",
       "    </tr>\n",
       "    <tr>\n",
       "      <th>3</th>\n",
       "      <td>CHEMBL319467</td>\n",
       "      <td>NS(=O)(=O)c1ccc(Nc2nc(OCC3CCCCC3)c3nc[nH]c3n2)cc1</td>\n",
       "      <td>900.0</td>\n",
       "      <td>active</td>\n",
       "      <td>402.480</td>\n",
       "      <td>2.70300</td>\n",
       "      <td>3.0</td>\n",
       "      <td>7.0</td>\n",
       "    </tr>\n",
       "    <tr>\n",
       "      <th>4</th>\n",
       "      <td>CHEMBL14762</td>\n",
       "      <td>CC[C@H](CO)Nc1nc(NCc2ccccc2)c2ncn(C(C)C)c2n1</td>\n",
       "      <td>18000.0</td>\n",
       "      <td>inactive</td>\n",
       "      <td>354.458</td>\n",
       "      <td>3.20210</td>\n",
       "      <td>3.0</td>\n",
       "      <td>7.0</td>\n",
       "    </tr>\n",
       "    <tr>\n",
       "      <th>...</th>\n",
       "      <td>...</td>\n",
       "      <td>...</td>\n",
       "      <td>...</td>\n",
       "      <td>...</td>\n",
       "      <td>...</td>\n",
       "      <td>...</td>\n",
       "      <td>...</td>\n",
       "      <td>...</td>\n",
       "    </tr>\n",
       "    <tr>\n",
       "      <th>837</th>\n",
       "      <td>CHEMBL187081</td>\n",
       "      <td>COc1cccc(Nc2nccc(-c3cnn4ncccc34)n2)c1</td>\n",
       "      <td>12.0</td>\n",
       "      <td>active</td>\n",
       "      <td>318.340</td>\n",
       "      <td>2.93850</td>\n",
       "      <td>1.0</td>\n",
       "      <td>7.0</td>\n",
       "    </tr>\n",
       "    <tr>\n",
       "      <th>838</th>\n",
       "      <td>CHEMBL495696</td>\n",
       "      <td>N#Cc1cccc(Nc2nccc(-c3cnn4ncccc34)n2)c1</td>\n",
       "      <td>5.0</td>\n",
       "      <td>active</td>\n",
       "      <td>313.324</td>\n",
       "      <td>2.80158</td>\n",
       "      <td>1.0</td>\n",
       "      <td>7.0</td>\n",
       "    </tr>\n",
       "    <tr>\n",
       "      <th>839</th>\n",
       "      <td>CHEMBL359794</td>\n",
       "      <td>N#Cc1ccc(Nc2nccc(-c3cnn4ncccc34)n2)cc1</td>\n",
       "      <td>103.0</td>\n",
       "      <td>active</td>\n",
       "      <td>313.324</td>\n",
       "      <td>2.80158</td>\n",
       "      <td>1.0</td>\n",
       "      <td>7.0</td>\n",
       "    </tr>\n",
       "    <tr>\n",
       "      <th>840</th>\n",
       "      <td>CHEMBL4637319</td>\n",
       "      <td>Cc1cccc(N(C)c2nccc(-c3cnn4ncccc34)n2)c1</td>\n",
       "      <td>76.0</td>\n",
       "      <td>active</td>\n",
       "      <td>316.368</td>\n",
       "      <td>3.26262</td>\n",
       "      <td>0.0</td>\n",
       "      <td>6.0</td>\n",
       "    </tr>\n",
       "    <tr>\n",
       "      <th>841</th>\n",
       "      <td>CHEMBL4636572</td>\n",
       "      <td>COc1cccc(N(C)c2nccc(-c3cnn4ncccc34)n2)c1</td>\n",
       "      <td>97.0</td>\n",
       "      <td>active</td>\n",
       "      <td>332.367</td>\n",
       "      <td>2.96280</td>\n",
       "      <td>0.0</td>\n",
       "      <td>7.0</td>\n",
       "    </tr>\n",
       "  </tbody>\n",
       "</table>\n",
       "<p>842 rows × 8 columns</p>\n",
       "</div>"
      ],
      "text/plain": [
       "    molecule_chembl_id  ... NumHAcceptors\n",
       "0         CHEMBL189657  ...           7.0\n",
       "1         CHEMBL188434  ...           9.0\n",
       "2         CHEMBL376505  ...           2.0\n",
       "3         CHEMBL319467  ...           7.0\n",
       "4          CHEMBL14762  ...           7.0\n",
       "..                 ...  ...           ...\n",
       "837       CHEMBL187081  ...           7.0\n",
       "838       CHEMBL495696  ...           7.0\n",
       "839       CHEMBL359794  ...           7.0\n",
       "840      CHEMBL4637319  ...           6.0\n",
       "841      CHEMBL4636572  ...           7.0\n",
       "\n",
       "[842 rows x 8 columns]"
      ]
     },
     "execution_count": 10,
     "metadata": {},
     "output_type": "execute_result"
    }
   ],
   "source": [
    "df_combined"
   ]
  },
  {
   "cell_type": "markdown",
   "metadata": {
    "id": "e0MLOedB6j96"
   },
   "source": [
    "### **Convert IC50 to pIC50**\n",
    "To allow **IC50** data to be more uniformly distributed, we will convert **IC50** to the negative logarithmic scale which is essentially **-log10(IC50)**.\n",
    "\n",
    "This custom function pIC50() will accept a DataFrame as input and will:\n",
    "* Take the IC50 values from the ``standard_value`` column and converts it from nM to M by multiplying the value by 10$^{-9}$\n",
    "* Take the molar value and apply -log10\n",
    "* Delete the ``standard_value`` column and create a new ``pIC50`` column"
   ]
  },
  {
   "cell_type": "code",
   "execution_count": 11,
   "metadata": {
    "id": "UXMuFQoQ4pZF"
   },
   "outputs": [],
   "source": [
    "# https://github.com/chaninlab/estrogen-receptor-alpha-qsar/blob/master/02_ER_alpha_RO5.ipynb\n",
    "\n",
    "import numpy as np\n",
    "\n",
    "def pIC50(input):\n",
    "    pIC50 = []\n",
    "\n",
    "    for i in input['standard_value_norm']:\n",
    "        molar = i*(10**-9) # Converts nM to M\n",
    "        pIC50.append(-np.log10(molar))\n",
    "\n",
    "    input['pIC50'] = pIC50\n",
    "    x = input.drop('standard_value_norm', 1)\n",
    "        \n",
    "    return x"
   ]
  },
  {
   "cell_type": "markdown",
   "metadata": {
    "id": "WU5Fh1h2OaJJ"
   },
   "source": [
    "Point to note: Values greater than 100,000,000 will be fixed at 100,000,000 otherwise the negative logarithmic value will become negative."
   ]
  },
  {
   "cell_type": "code",
   "execution_count": 12,
   "metadata": {
    "colab": {
     "base_uri": "https://localhost:8080/"
    },
    "id": "QuUTFUpcR1wU",
    "outputId": "0f0ec6bd-d261-4486-845b-4344d13d59e5"
   },
   "outputs": [
    {
     "data": {
      "text/plain": [
       "count      842.000000\n",
       "mean      3519.979169\n",
       "std       8879.179652\n",
       "min          0.160000\n",
       "25%         55.000000\n",
       "50%        395.000000\n",
       "75%       2800.000000\n",
       "max      93000.000000\n",
       "Name: standard_value, dtype: float64"
      ]
     },
     "execution_count": 12,
     "metadata": {},
     "output_type": "execute_result"
    }
   ],
   "source": [
    "df_combined.standard_value.describe()"
   ]
  },
  {
   "cell_type": "code",
   "execution_count": 13,
   "metadata": {
    "colab": {
     "base_uri": "https://localhost:8080/"
    },
    "id": "QyiJ0to5N6Z_",
    "outputId": "a68f3ef6-b135-4e20-f124-98673124d035"
   },
   "outputs": [
    {
     "data": {
      "text/plain": [
       "1.0"
      ]
     },
     "execution_count": 13,
     "metadata": {},
     "output_type": "execute_result"
    }
   ],
   "source": [
    "-np.log10( (10**-9)* 100000000 )"
   ]
  },
  {
   "cell_type": "code",
   "execution_count": 14,
   "metadata": {
    "colab": {
     "base_uri": "https://localhost:8080/"
    },
    "id": "9S1aJkOYOP6K",
    "outputId": "ecdf7d54-e905-4a79-e8b8-3074bb7e59f4"
   },
   "outputs": [
    {
     "data": {
      "text/plain": [
       "-1.0"
      ]
     },
     "execution_count": 14,
     "metadata": {},
     "output_type": "execute_result"
    }
   ],
   "source": [
    "-np.log10( (10**-9)* 10000000000 )"
   ]
  },
  {
   "cell_type": "code",
   "execution_count": 15,
   "metadata": {
    "id": "iktHDDwtPDwl"
   },
   "outputs": [],
   "source": [
    "def norm_value(input):\n",
    "    norm = []\n",
    "\n",
    "    for i in input['standard_value']:\n",
    "        if i > 100000000:\n",
    "          i = 100000000\n",
    "        norm.append(i)\n",
    "\n",
    "    input['standard_value_norm'] = norm\n",
    "    x = input.drop('standard_value', 1)\n",
    "        \n",
    "    return x"
   ]
  },
  {
   "cell_type": "markdown",
   "metadata": {
    "id": "EkrTs7RfPsrH"
   },
   "source": [
    "We will first apply the norm_value() function so that the values in the standard_value column is normalized."
   ]
  },
  {
   "cell_type": "code",
   "execution_count": 16,
   "metadata": {
    "colab": {
     "base_uri": "https://localhost:8080/",
     "height": 423
    },
    "id": "EX2Mj2-ZP1Rj",
    "outputId": "88773c28-0d19-4cdc-e747-3cb19601eebe"
   },
   "outputs": [
    {
     "data": {
      "text/html": [
       "<div>\n",
       "<style scoped>\n",
       "    .dataframe tbody tr th:only-of-type {\n",
       "        vertical-align: middle;\n",
       "    }\n",
       "\n",
       "    .dataframe tbody tr th {\n",
       "        vertical-align: top;\n",
       "    }\n",
       "\n",
       "    .dataframe thead th {\n",
       "        text-align: right;\n",
       "    }\n",
       "</style>\n",
       "<table border=\"1\" class=\"dataframe\">\n",
       "  <thead>\n",
       "    <tr style=\"text-align: right;\">\n",
       "      <th></th>\n",
       "      <th>molecule_chembl_id</th>\n",
       "      <th>canonical_smiles</th>\n",
       "      <th>bioactivity_class</th>\n",
       "      <th>MW</th>\n",
       "      <th>LogP</th>\n",
       "      <th>NumHDonors</th>\n",
       "      <th>NumHAcceptors</th>\n",
       "      <th>standard_value_norm</th>\n",
       "    </tr>\n",
       "  </thead>\n",
       "  <tbody>\n",
       "    <tr>\n",
       "      <th>0</th>\n",
       "      <td>CHEMBL189657</td>\n",
       "      <td>CCn1c(-c2nonc2N)nc2cnccc21</td>\n",
       "      <td>active</td>\n",
       "      <td>230.231</td>\n",
       "      <td>1.08340</td>\n",
       "      <td>1.0</td>\n",
       "      <td>7.0</td>\n",
       "      <td>110.0</td>\n",
       "    </tr>\n",
       "    <tr>\n",
       "      <th>1</th>\n",
       "      <td>CHEMBL188434</td>\n",
       "      <td>CCn1c(-c2nonc2N)nc2cncc(CNC3CCNCC3)c21</td>\n",
       "      <td>intermediate</td>\n",
       "      <td>342.407</td>\n",
       "      <td>0.92500</td>\n",
       "      <td>3.0</td>\n",
       "      <td>9.0</td>\n",
       "      <td>4900.0</td>\n",
       "    </tr>\n",
       "    <tr>\n",
       "      <th>2</th>\n",
       "      <td>CHEMBL376505</td>\n",
       "      <td>CN(C)c1nc2c(Br)c(Br)c(Br)c(Br)c2[nH]1</td>\n",
       "      <td>active</td>\n",
       "      <td>476.792</td>\n",
       "      <td>4.67890</td>\n",
       "      <td>1.0</td>\n",
       "      <td>2.0</td>\n",
       "      <td>120.0</td>\n",
       "    </tr>\n",
       "    <tr>\n",
       "      <th>3</th>\n",
       "      <td>CHEMBL319467</td>\n",
       "      <td>NS(=O)(=O)c1ccc(Nc2nc(OCC3CCCCC3)c3nc[nH]c3n2)cc1</td>\n",
       "      <td>active</td>\n",
       "      <td>402.480</td>\n",
       "      <td>2.70300</td>\n",
       "      <td>3.0</td>\n",
       "      <td>7.0</td>\n",
       "      <td>900.0</td>\n",
       "    </tr>\n",
       "    <tr>\n",
       "      <th>4</th>\n",
       "      <td>CHEMBL14762</td>\n",
       "      <td>CC[C@H](CO)Nc1nc(NCc2ccccc2)c2ncn(C(C)C)c2n1</td>\n",
       "      <td>inactive</td>\n",
       "      <td>354.458</td>\n",
       "      <td>3.20210</td>\n",
       "      <td>3.0</td>\n",
       "      <td>7.0</td>\n",
       "      <td>18000.0</td>\n",
       "    </tr>\n",
       "    <tr>\n",
       "      <th>...</th>\n",
       "      <td>...</td>\n",
       "      <td>...</td>\n",
       "      <td>...</td>\n",
       "      <td>...</td>\n",
       "      <td>...</td>\n",
       "      <td>...</td>\n",
       "      <td>...</td>\n",
       "      <td>...</td>\n",
       "    </tr>\n",
       "    <tr>\n",
       "      <th>837</th>\n",
       "      <td>CHEMBL187081</td>\n",
       "      <td>COc1cccc(Nc2nccc(-c3cnn4ncccc34)n2)c1</td>\n",
       "      <td>active</td>\n",
       "      <td>318.340</td>\n",
       "      <td>2.93850</td>\n",
       "      <td>1.0</td>\n",
       "      <td>7.0</td>\n",
       "      <td>12.0</td>\n",
       "    </tr>\n",
       "    <tr>\n",
       "      <th>838</th>\n",
       "      <td>CHEMBL495696</td>\n",
       "      <td>N#Cc1cccc(Nc2nccc(-c3cnn4ncccc34)n2)c1</td>\n",
       "      <td>active</td>\n",
       "      <td>313.324</td>\n",
       "      <td>2.80158</td>\n",
       "      <td>1.0</td>\n",
       "      <td>7.0</td>\n",
       "      <td>5.0</td>\n",
       "    </tr>\n",
       "    <tr>\n",
       "      <th>839</th>\n",
       "      <td>CHEMBL359794</td>\n",
       "      <td>N#Cc1ccc(Nc2nccc(-c3cnn4ncccc34)n2)cc1</td>\n",
       "      <td>active</td>\n",
       "      <td>313.324</td>\n",
       "      <td>2.80158</td>\n",
       "      <td>1.0</td>\n",
       "      <td>7.0</td>\n",
       "      <td>103.0</td>\n",
       "    </tr>\n",
       "    <tr>\n",
       "      <th>840</th>\n",
       "      <td>CHEMBL4637319</td>\n",
       "      <td>Cc1cccc(N(C)c2nccc(-c3cnn4ncccc34)n2)c1</td>\n",
       "      <td>active</td>\n",
       "      <td>316.368</td>\n",
       "      <td>3.26262</td>\n",
       "      <td>0.0</td>\n",
       "      <td>6.0</td>\n",
       "      <td>76.0</td>\n",
       "    </tr>\n",
       "    <tr>\n",
       "      <th>841</th>\n",
       "      <td>CHEMBL4636572</td>\n",
       "      <td>COc1cccc(N(C)c2nccc(-c3cnn4ncccc34)n2)c1</td>\n",
       "      <td>active</td>\n",
       "      <td>332.367</td>\n",
       "      <td>2.96280</td>\n",
       "      <td>0.0</td>\n",
       "      <td>7.0</td>\n",
       "      <td>97.0</td>\n",
       "    </tr>\n",
       "  </tbody>\n",
       "</table>\n",
       "<p>842 rows × 8 columns</p>\n",
       "</div>"
      ],
      "text/plain": [
       "    molecule_chembl_id  ... standard_value_norm\n",
       "0         CHEMBL189657  ...               110.0\n",
       "1         CHEMBL188434  ...              4900.0\n",
       "2         CHEMBL376505  ...               120.0\n",
       "3         CHEMBL319467  ...               900.0\n",
       "4          CHEMBL14762  ...             18000.0\n",
       "..                 ...  ...                 ...\n",
       "837       CHEMBL187081  ...                12.0\n",
       "838       CHEMBL495696  ...                 5.0\n",
       "839       CHEMBL359794  ...               103.0\n",
       "840      CHEMBL4637319  ...                76.0\n",
       "841      CHEMBL4636572  ...                97.0\n",
       "\n",
       "[842 rows x 8 columns]"
      ]
     },
     "execution_count": 16,
     "metadata": {},
     "output_type": "execute_result"
    }
   ],
   "source": [
    "df_norm = norm_value(df_combined)\n",
    "df_norm"
   ]
  },
  {
   "cell_type": "code",
   "execution_count": 17,
   "metadata": {
    "colab": {
     "base_uri": "https://localhost:8080/"
    },
    "id": "hb1eKrIjRiH9",
    "outputId": "f3bc5922-16c3-444d-c53e-21853c9bbfcb"
   },
   "outputs": [
    {
     "data": {
      "text/plain": [
       "count      842.000000\n",
       "mean      3519.979169\n",
       "std       8879.179652\n",
       "min          0.160000\n",
       "25%         55.000000\n",
       "50%        395.000000\n",
       "75%       2800.000000\n",
       "max      93000.000000\n",
       "Name: standard_value_norm, dtype: float64"
      ]
     },
     "execution_count": 17,
     "metadata": {},
     "output_type": "execute_result"
    }
   ],
   "source": [
    "df_norm.standard_value_norm.describe()"
   ]
  },
  {
   "cell_type": "code",
   "execution_count": 18,
   "metadata": {
    "colab": {
     "base_uri": "https://localhost:8080/",
     "height": 423
    },
    "id": "UDKZzmK57YnS",
    "outputId": "25f6fd00-2355-439f-a6ed-6dd5e9931fde"
   },
   "outputs": [
    {
     "data": {
      "text/html": [
       "<div>\n",
       "<style scoped>\n",
       "    .dataframe tbody tr th:only-of-type {\n",
       "        vertical-align: middle;\n",
       "    }\n",
       "\n",
       "    .dataframe tbody tr th {\n",
       "        vertical-align: top;\n",
       "    }\n",
       "\n",
       "    .dataframe thead th {\n",
       "        text-align: right;\n",
       "    }\n",
       "</style>\n",
       "<table border=\"1\" class=\"dataframe\">\n",
       "  <thead>\n",
       "    <tr style=\"text-align: right;\">\n",
       "      <th></th>\n",
       "      <th>molecule_chembl_id</th>\n",
       "      <th>canonical_smiles</th>\n",
       "      <th>bioactivity_class</th>\n",
       "      <th>MW</th>\n",
       "      <th>LogP</th>\n",
       "      <th>NumHDonors</th>\n",
       "      <th>NumHAcceptors</th>\n",
       "      <th>pIC50</th>\n",
       "    </tr>\n",
       "  </thead>\n",
       "  <tbody>\n",
       "    <tr>\n",
       "      <th>0</th>\n",
       "      <td>CHEMBL189657</td>\n",
       "      <td>CCn1c(-c2nonc2N)nc2cnccc21</td>\n",
       "      <td>active</td>\n",
       "      <td>230.231</td>\n",
       "      <td>1.08340</td>\n",
       "      <td>1.0</td>\n",
       "      <td>7.0</td>\n",
       "      <td>6.958607</td>\n",
       "    </tr>\n",
       "    <tr>\n",
       "      <th>1</th>\n",
       "      <td>CHEMBL188434</td>\n",
       "      <td>CCn1c(-c2nonc2N)nc2cncc(CNC3CCNCC3)c21</td>\n",
       "      <td>intermediate</td>\n",
       "      <td>342.407</td>\n",
       "      <td>0.92500</td>\n",
       "      <td>3.0</td>\n",
       "      <td>9.0</td>\n",
       "      <td>5.309804</td>\n",
       "    </tr>\n",
       "    <tr>\n",
       "      <th>2</th>\n",
       "      <td>CHEMBL376505</td>\n",
       "      <td>CN(C)c1nc2c(Br)c(Br)c(Br)c(Br)c2[nH]1</td>\n",
       "      <td>active</td>\n",
       "      <td>476.792</td>\n",
       "      <td>4.67890</td>\n",
       "      <td>1.0</td>\n",
       "      <td>2.0</td>\n",
       "      <td>6.920819</td>\n",
       "    </tr>\n",
       "    <tr>\n",
       "      <th>3</th>\n",
       "      <td>CHEMBL319467</td>\n",
       "      <td>NS(=O)(=O)c1ccc(Nc2nc(OCC3CCCCC3)c3nc[nH]c3n2)cc1</td>\n",
       "      <td>active</td>\n",
       "      <td>402.480</td>\n",
       "      <td>2.70300</td>\n",
       "      <td>3.0</td>\n",
       "      <td>7.0</td>\n",
       "      <td>6.045757</td>\n",
       "    </tr>\n",
       "    <tr>\n",
       "      <th>4</th>\n",
       "      <td>CHEMBL14762</td>\n",
       "      <td>CC[C@H](CO)Nc1nc(NCc2ccccc2)c2ncn(C(C)C)c2n1</td>\n",
       "      <td>inactive</td>\n",
       "      <td>354.458</td>\n",
       "      <td>3.20210</td>\n",
       "      <td>3.0</td>\n",
       "      <td>7.0</td>\n",
       "      <td>4.744727</td>\n",
       "    </tr>\n",
       "    <tr>\n",
       "      <th>...</th>\n",
       "      <td>...</td>\n",
       "      <td>...</td>\n",
       "      <td>...</td>\n",
       "      <td>...</td>\n",
       "      <td>...</td>\n",
       "      <td>...</td>\n",
       "      <td>...</td>\n",
       "      <td>...</td>\n",
       "    </tr>\n",
       "    <tr>\n",
       "      <th>837</th>\n",
       "      <td>CHEMBL187081</td>\n",
       "      <td>COc1cccc(Nc2nccc(-c3cnn4ncccc34)n2)c1</td>\n",
       "      <td>active</td>\n",
       "      <td>318.340</td>\n",
       "      <td>2.93850</td>\n",
       "      <td>1.0</td>\n",
       "      <td>7.0</td>\n",
       "      <td>7.920819</td>\n",
       "    </tr>\n",
       "    <tr>\n",
       "      <th>838</th>\n",
       "      <td>CHEMBL495696</td>\n",
       "      <td>N#Cc1cccc(Nc2nccc(-c3cnn4ncccc34)n2)c1</td>\n",
       "      <td>active</td>\n",
       "      <td>313.324</td>\n",
       "      <td>2.80158</td>\n",
       "      <td>1.0</td>\n",
       "      <td>7.0</td>\n",
       "      <td>8.301030</td>\n",
       "    </tr>\n",
       "    <tr>\n",
       "      <th>839</th>\n",
       "      <td>CHEMBL359794</td>\n",
       "      <td>N#Cc1ccc(Nc2nccc(-c3cnn4ncccc34)n2)cc1</td>\n",
       "      <td>active</td>\n",
       "      <td>313.324</td>\n",
       "      <td>2.80158</td>\n",
       "      <td>1.0</td>\n",
       "      <td>7.0</td>\n",
       "      <td>6.987163</td>\n",
       "    </tr>\n",
       "    <tr>\n",
       "      <th>840</th>\n",
       "      <td>CHEMBL4637319</td>\n",
       "      <td>Cc1cccc(N(C)c2nccc(-c3cnn4ncccc34)n2)c1</td>\n",
       "      <td>active</td>\n",
       "      <td>316.368</td>\n",
       "      <td>3.26262</td>\n",
       "      <td>0.0</td>\n",
       "      <td>6.0</td>\n",
       "      <td>7.119186</td>\n",
       "    </tr>\n",
       "    <tr>\n",
       "      <th>841</th>\n",
       "      <td>CHEMBL4636572</td>\n",
       "      <td>COc1cccc(N(C)c2nccc(-c3cnn4ncccc34)n2)c1</td>\n",
       "      <td>active</td>\n",
       "      <td>332.367</td>\n",
       "      <td>2.96280</td>\n",
       "      <td>0.0</td>\n",
       "      <td>7.0</td>\n",
       "      <td>7.013228</td>\n",
       "    </tr>\n",
       "  </tbody>\n",
       "</table>\n",
       "<p>842 rows × 8 columns</p>\n",
       "</div>"
      ],
      "text/plain": [
       "    molecule_chembl_id  ...     pIC50\n",
       "0         CHEMBL189657  ...  6.958607\n",
       "1         CHEMBL188434  ...  5.309804\n",
       "2         CHEMBL376505  ...  6.920819\n",
       "3         CHEMBL319467  ...  6.045757\n",
       "4          CHEMBL14762  ...  4.744727\n",
       "..                 ...  ...       ...\n",
       "837       CHEMBL187081  ...  7.920819\n",
       "838       CHEMBL495696  ...  8.301030\n",
       "839       CHEMBL359794  ...  6.987163\n",
       "840      CHEMBL4637319  ...  7.119186\n",
       "841      CHEMBL4636572  ...  7.013228\n",
       "\n",
       "[842 rows x 8 columns]"
      ]
     },
     "execution_count": 18,
     "metadata": {},
     "output_type": "execute_result"
    }
   ],
   "source": [
    "df_final = pIC50(df_norm)\n",
    "df_final"
   ]
  },
  {
   "cell_type": "code",
   "execution_count": 19,
   "metadata": {
    "colab": {
     "base_uri": "https://localhost:8080/"
    },
    "id": "BoqY53udSTYC",
    "outputId": "f0043441-d203-4abd-fe95-477d8f2245e2"
   },
   "outputs": [
    {
     "data": {
      "text/plain": [
       "count    842.000000\n",
       "mean       6.462457\n",
       "std        1.112172\n",
       "min        4.031517\n",
       "25%        5.552842\n",
       "50%        6.403438\n",
       "75%        7.259637\n",
       "max        9.795880\n",
       "Name: pIC50, dtype: float64"
      ]
     },
     "execution_count": 19,
     "metadata": {},
     "output_type": "execute_result"
    }
   ],
   "source": [
    "df_final.pIC50.describe()"
   ]
  },
  {
   "cell_type": "markdown",
   "metadata": {
    "id": "05vHBWvqaQtb"
   },
   "source": [
    "### **Removing the 'intermediate' bioactivity class**\n",
    "Here, we will be removing the ``intermediate`` class from our data set."
   ]
  },
  {
   "cell_type": "code",
   "execution_count": 20,
   "metadata": {
    "colab": {
     "base_uri": "https://localhost:8080/",
     "height": 423
    },
    "id": "HmrndhDW3c7Z",
    "outputId": "bd936b9f-066f-4d8d-eb63-a6177ba3196e"
   },
   "outputs": [
    {
     "data": {
      "text/html": [
       "<div>\n",
       "<style scoped>\n",
       "    .dataframe tbody tr th:only-of-type {\n",
       "        vertical-align: middle;\n",
       "    }\n",
       "\n",
       "    .dataframe tbody tr th {\n",
       "        vertical-align: top;\n",
       "    }\n",
       "\n",
       "    .dataframe thead th {\n",
       "        text-align: right;\n",
       "    }\n",
       "</style>\n",
       "<table border=\"1\" class=\"dataframe\">\n",
       "  <thead>\n",
       "    <tr style=\"text-align: right;\">\n",
       "      <th></th>\n",
       "      <th>molecule_chembl_id</th>\n",
       "      <th>canonical_smiles</th>\n",
       "      <th>bioactivity_class</th>\n",
       "      <th>MW</th>\n",
       "      <th>LogP</th>\n",
       "      <th>NumHDonors</th>\n",
       "      <th>NumHAcceptors</th>\n",
       "      <th>pIC50</th>\n",
       "    </tr>\n",
       "  </thead>\n",
       "  <tbody>\n",
       "    <tr>\n",
       "      <th>0</th>\n",
       "      <td>CHEMBL189657</td>\n",
       "      <td>CCn1c(-c2nonc2N)nc2cnccc21</td>\n",
       "      <td>active</td>\n",
       "      <td>230.231</td>\n",
       "      <td>1.08340</td>\n",
       "      <td>1.0</td>\n",
       "      <td>7.0</td>\n",
       "      <td>6.958607</td>\n",
       "    </tr>\n",
       "    <tr>\n",
       "      <th>2</th>\n",
       "      <td>CHEMBL376505</td>\n",
       "      <td>CN(C)c1nc2c(Br)c(Br)c(Br)c(Br)c2[nH]1</td>\n",
       "      <td>active</td>\n",
       "      <td>476.792</td>\n",
       "      <td>4.67890</td>\n",
       "      <td>1.0</td>\n",
       "      <td>2.0</td>\n",
       "      <td>6.920819</td>\n",
       "    </tr>\n",
       "    <tr>\n",
       "      <th>3</th>\n",
       "      <td>CHEMBL319467</td>\n",
       "      <td>NS(=O)(=O)c1ccc(Nc2nc(OCC3CCCCC3)c3nc[nH]c3n2)cc1</td>\n",
       "      <td>active</td>\n",
       "      <td>402.480</td>\n",
       "      <td>2.70300</td>\n",
       "      <td>3.0</td>\n",
       "      <td>7.0</td>\n",
       "      <td>6.045757</td>\n",
       "    </tr>\n",
       "    <tr>\n",
       "      <th>4</th>\n",
       "      <td>CHEMBL14762</td>\n",
       "      <td>CC[C@H](CO)Nc1nc(NCc2ccccc2)c2ncn(C(C)C)c2n1</td>\n",
       "      <td>inactive</td>\n",
       "      <td>354.458</td>\n",
       "      <td>3.20210</td>\n",
       "      <td>3.0</td>\n",
       "      <td>7.0</td>\n",
       "      <td>4.744727</td>\n",
       "    </tr>\n",
       "    <tr>\n",
       "      <th>6</th>\n",
       "      <td>CHEMBL469776</td>\n",
       "      <td>O=C1NN(c2ccc(Cl)c(Cl)c2)C(=O)/C1=C/c1ccc(Cl)cc1</td>\n",
       "      <td>inactive</td>\n",
       "      <td>367.619</td>\n",
       "      <td>4.10820</td>\n",
       "      <td>1.0</td>\n",
       "      <td>2.0</td>\n",
       "      <td>4.698970</td>\n",
       "    </tr>\n",
       "    <tr>\n",
       "      <th>...</th>\n",
       "      <td>...</td>\n",
       "      <td>...</td>\n",
       "      <td>...</td>\n",
       "      <td>...</td>\n",
       "      <td>...</td>\n",
       "      <td>...</td>\n",
       "      <td>...</td>\n",
       "      <td>...</td>\n",
       "    </tr>\n",
       "    <tr>\n",
       "      <th>837</th>\n",
       "      <td>CHEMBL187081</td>\n",
       "      <td>COc1cccc(Nc2nccc(-c3cnn4ncccc34)n2)c1</td>\n",
       "      <td>active</td>\n",
       "      <td>318.340</td>\n",
       "      <td>2.93850</td>\n",
       "      <td>1.0</td>\n",
       "      <td>7.0</td>\n",
       "      <td>7.920819</td>\n",
       "    </tr>\n",
       "    <tr>\n",
       "      <th>838</th>\n",
       "      <td>CHEMBL495696</td>\n",
       "      <td>N#Cc1cccc(Nc2nccc(-c3cnn4ncccc34)n2)c1</td>\n",
       "      <td>active</td>\n",
       "      <td>313.324</td>\n",
       "      <td>2.80158</td>\n",
       "      <td>1.0</td>\n",
       "      <td>7.0</td>\n",
       "      <td>8.301030</td>\n",
       "    </tr>\n",
       "    <tr>\n",
       "      <th>839</th>\n",
       "      <td>CHEMBL359794</td>\n",
       "      <td>N#Cc1ccc(Nc2nccc(-c3cnn4ncccc34)n2)cc1</td>\n",
       "      <td>active</td>\n",
       "      <td>313.324</td>\n",
       "      <td>2.80158</td>\n",
       "      <td>1.0</td>\n",
       "      <td>7.0</td>\n",
       "      <td>6.987163</td>\n",
       "    </tr>\n",
       "    <tr>\n",
       "      <th>840</th>\n",
       "      <td>CHEMBL4637319</td>\n",
       "      <td>Cc1cccc(N(C)c2nccc(-c3cnn4ncccc34)n2)c1</td>\n",
       "      <td>active</td>\n",
       "      <td>316.368</td>\n",
       "      <td>3.26262</td>\n",
       "      <td>0.0</td>\n",
       "      <td>6.0</td>\n",
       "      <td>7.119186</td>\n",
       "    </tr>\n",
       "    <tr>\n",
       "      <th>841</th>\n",
       "      <td>CHEMBL4636572</td>\n",
       "      <td>COc1cccc(N(C)c2nccc(-c3cnn4ncccc34)n2)c1</td>\n",
       "      <td>active</td>\n",
       "      <td>332.367</td>\n",
       "      <td>2.96280</td>\n",
       "      <td>0.0</td>\n",
       "      <td>7.0</td>\n",
       "      <td>7.013228</td>\n",
       "    </tr>\n",
       "  </tbody>\n",
       "</table>\n",
       "<p>610 rows × 8 columns</p>\n",
       "</div>"
      ],
      "text/plain": [
       "    molecule_chembl_id  ...     pIC50\n",
       "0         CHEMBL189657  ...  6.958607\n",
       "2         CHEMBL376505  ...  6.920819\n",
       "3         CHEMBL319467  ...  6.045757\n",
       "4          CHEMBL14762  ...  4.744727\n",
       "6         CHEMBL469776  ...  4.698970\n",
       "..                 ...  ...       ...\n",
       "837       CHEMBL187081  ...  7.920819\n",
       "838       CHEMBL495696  ...  8.301030\n",
       "839       CHEMBL359794  ...  6.987163\n",
       "840      CHEMBL4637319  ...  7.119186\n",
       "841      CHEMBL4636572  ...  7.013228\n",
       "\n",
       "[610 rows x 8 columns]"
      ]
     },
     "execution_count": 20,
     "metadata": {},
     "output_type": "execute_result"
    }
   ],
   "source": [
    "df_2class = df_final[df_final.bioactivity_class != 'intermediate']\n",
    "df_2class"
   ]
  },
  {
   "cell_type": "code",
   "execution_count": 21,
   "metadata": {
    "id": "S1dHaoFj19V2"
   },
   "outputs": [],
   "source": [
    "df_2class.to_csv('Dyrk1a_bioactivity_data_processed_2classes_pIC50.csv')"
   ]
  },
  {
   "cell_type": "markdown",
   "metadata": {
    "id": "p9vA4-hQQ8sA"
   },
   "source": [
    "---"
   ]
  },
  {
   "cell_type": "markdown",
   "metadata": {
    "id": "x0vqbQWfxsZu"
   },
   "source": [
    "## **Exploratory Data Analysis (Chemical Space Analysis) via Lipinski descriptors**"
   ]
  },
  {
   "cell_type": "markdown",
   "metadata": {
    "id": "18heJagiyHoF"
   },
   "source": [
    "### **Import library**"
   ]
  },
  {
   "cell_type": "code",
   "execution_count": 22,
   "metadata": {
    "id": "0Egq_rNsxtIj"
   },
   "outputs": [],
   "source": [
    "import seaborn as sns\n",
    "sns.set(style='ticks')\n",
    "import matplotlib.pyplot as plt"
   ]
  },
  {
   "cell_type": "markdown",
   "metadata": {
    "id": "NiarmFbOdG3H"
   },
   "source": [
    "### **Frequency plot of the 2 bioactivity classes**"
   ]
  },
  {
   "cell_type": "code",
   "execution_count": 23,
   "metadata": {
    "colab": {
     "base_uri": "https://localhost:8080/",
     "height": 367
    },
    "id": "w2Ia0iycdMO2",
    "outputId": "b52acdf3-9561-4ccd-f13d-2e1a2294fbc6"
   },
   "outputs": [
    {
     "data": {
      "image/png": "[encoded data removed]",
      "text/plain": [
       "<Figure size 396x396 with 1 Axes>"
      ]
     },
     "metadata": {},
     "output_type": "display_data"
    }
   ],
   "source": [
    "plt.figure(figsize=(5.5, 5.5))\n",
    "\n",
    "sns.countplot(x='bioactivity_class', data=df_2class, edgecolor='black')\n",
    "\n",
    "plt.xlabel('Bioactivity class', fontsize=14, fontweight='bold')\n",
    "plt.ylabel('Frequency', fontsize=14, fontweight='bold')\n",
    "\n",
    "plt.savefig('plot_bioactivity_class.pdf')"
   ]
  },
  {
   "cell_type": "markdown",
   "metadata": {
    "id": "wB68NKVG0j68"
   },
   "source": [
    "### **Scatter plot of MW versus LogP**\n",
    "\n",
    "It can be seen that the 2 bioactivity classes are spanning similar chemical spaces as evident by the scatter plot of MW vs LogP."
   ]
  },
  {
   "cell_type": "code",
   "execution_count": 24,
   "metadata": {
    "colab": {
     "base_uri": "https://localhost:8080/",
     "height": 367
    },
    "id": "F79BNwjF0nub",
    "outputId": "39786f26-1c2f-4ebf-8f53-9bf629df77b7"
   },
   "outputs": [
    {
     "data": {
      "image/png": "[encoded data removed]",
      "text/plain": [
       "<Figure size 396x396 with 1 Axes>"
      ]
     },
     "metadata": {},
     "output_type": "display_data"
    }
   ],
   "source": [
    "plt.figure(figsize=(5.5, 5.5))\n",
    "\n",
    "sns.scatterplot(x='MW', y='LogP', data=df_2class, hue='bioactivity_class', size='pIC50', edgecolor='black', alpha=0.7)\n",
    "\n",
    "plt.xlabel('MW', fontsize=14, fontweight='bold')\n",
    "plt.ylabel('LogP', fontsize=14, fontweight='bold')\n",
    "plt.legend(bbox_to_anchor=(1.05, 1), loc=2, borderaxespad=0)\n",
    "plt.savefig('plot_MW_vs_LogP.pdf')"
   ]
  },
  {
   "cell_type": "markdown",
   "metadata": {
    "id": "oLAfyRwHyJfX"
   },
   "source": [
    "### **Box plots**"
   ]
  },
  {
   "cell_type": "markdown",
   "metadata": {
    "id": "1n1uIAivyOkY"
   },
   "source": [
    "#### **pIC50 value**"
   ]
  },
  {
   "cell_type": "code",
   "execution_count": 25,
   "metadata": {
    "colab": {
     "base_uri": "https://localhost:8080/",
     "height": 367
    },
    "id": "EpPviw0hxue6",
    "outputId": "bf536f7c-f19f-466a-c656-1ab1a972b728"
   },
   "outputs": [
    {
     "data": {
      "image/png": "[encoded data removed]",
      "text/plain": [
       "<Figure size 396x396 with 1 Axes>"
      ]
     },
     "metadata": {},
     "output_type": "display_data"
    }
   ],
   "source": [
    "plt.figure(figsize=(5.5, 5.5))\n",
    "\n",
    "sns.boxplot(x = 'bioactivity_class', y = 'pIC50', data = df_2class)\n",
    "\n",
    "plt.xlabel('Bioactivity class', fontsize=14, fontweight='bold')\n",
    "plt.ylabel('pIC50 value', fontsize=14, fontweight='bold')\n",
    "\n",
    "plt.savefig('plot_ic50.pdf')"
   ]
  },
  {
   "cell_type": "markdown",
   "metadata": {
    "id": "PsOqKyysCZCv"
   },
   "source": [
    "**Statistical analysis | Mann-Whitney U Test**"
   ]
  },
  {
   "cell_type": "code",
   "execution_count": 26,
   "metadata": {
    "id": "LPdV1vDnWBsh"
   },
   "outputs": [],
   "source": [
    "def mannwhitney(descriptor, verbose=False):\n",
    "  # https://machinelearningmastery.com/nonparametric-statistical-significance-tests-in-python/\n",
    "  from numpy.random import seed\n",
    "  from numpy.random import randn\n",
    "  from scipy.stats import mannwhitneyu\n",
    "\n",
    "# seed the random number generator\n",
    "  seed(1)\n",
    "\n",
    "# actives and inactives\n",
    "  selection = [descriptor, 'bioactivity_class']\n",
    "  df = df_2class[selection]\n",
    "  active = df[df.bioactivity_class == 'active']\n",
    "  active = active[descriptor]\n",
    "\n",
    "  selection = [descriptor, 'bioactivity_class']\n",
    "  df = df_2class[selection]\n",
    "  inactive = df[df.bioactivity_class == 'inactive']\n",
    "  inactive = inactive[descriptor]\n",
    "\n",
    "# compare samples\n",
    "  stat, p = mannwhitneyu(active, inactive)\n",
    "  #print('Statistics=%.3f, p=%.3f' % (stat, p))\n",
    "\n",
    "# interpret\n",
    "  alpha = 0.05\n",
    "  if p > alpha:\n",
    "    interpretation = 'Same distribution (fail to reject H0)'\n",
    "  else:\n",
    "    interpretation = 'Different distribution (reject H0)'\n",
    "  \n",
    "  results = pd.DataFrame({'Descriptor':descriptor,\n",
    "                          'Statistics':stat,\n",
    "                          'p':p,\n",
    "                          'alpha':alpha,\n",
    "                          'Interpretation':interpretation}, index=[0])\n",
    "  filename = 'mannwhitneyu_' + descriptor + '.csv'\n",
    "  results.to_csv(filename)\n",
    "\n",
    "  return results"
   ]
  },
  {
   "cell_type": "code",
   "execution_count": 27,
   "metadata": {
    "colab": {
     "base_uri": "https://localhost:8080/",
     "height": 81
    },
    "id": "HZmUgOmdYVm5",
    "outputId": "4812da81-05b9-46a0-fc19-eb0c162aac5a"
   },
   "outputs": [
    {
     "data": {
      "text/html": [
       "<div>\n",
       "<style scoped>\n",
       "    .dataframe tbody tr th:only-of-type {\n",
       "        vertical-align: middle;\n",
       "    }\n",
       "\n",
       "    .dataframe tbody tr th {\n",
       "        vertical-align: top;\n",
       "    }\n",
       "\n",
       "    .dataframe thead th {\n",
       "        text-align: right;\n",
       "    }\n",
       "</style>\n",
       "<table border=\"1\" class=\"dataframe\">\n",
       "  <thead>\n",
       "    <tr style=\"text-align: right;\">\n",
       "      <th></th>\n",
       "      <th>Descriptor</th>\n",
       "      <th>Statistics</th>\n",
       "      <th>p</th>\n",
       "      <th>alpha</th>\n",
       "      <th>Interpretation</th>\n",
       "    </tr>\n",
       "  </thead>\n",
       "  <tbody>\n",
       "    <tr>\n",
       "      <th>0</th>\n",
       "      <td>pIC50</td>\n",
       "      <td>0.0</td>\n",
       "      <td>4.898742e-46</td>\n",
       "      <td>0.05</td>\n",
       "      <td>Different distribution (reject H0)</td>\n",
       "    </tr>\n",
       "  </tbody>\n",
       "</table>\n",
       "</div>"
      ],
      "text/plain": [
       "  Descriptor  Statistics  ...  alpha                      Interpretation\n",
       "0      pIC50         0.0  ...   0.05  Different distribution (reject H0)\n",
       "\n",
       "[1 rows x 5 columns]"
      ]
     },
     "execution_count": 27,
     "metadata": {},
     "output_type": "execute_result"
    }
   ],
   "source": [
    "mannwhitney('pIC50')"
   ]
  },
  {
   "cell_type": "markdown",
   "metadata": {
    "id": "o2UlCwPmyTBq"
   },
   "source": [
    "#### **MW**"
   ]
  },
  {
   "cell_type": "code",
   "execution_count": 28,
   "metadata": {
    "colab": {
     "base_uri": "https://localhost:8080/",
     "height": 367
    },
    "id": "ZNlEEsDEx3m6",
    "outputId": "85b613f5-bd44-4a23-de39-fdd85c49eb20"
   },
   "outputs": [
    {
     "data": {
      "image/png": "[encoded data removed]",
      "text/plain": [
       "<Figure size 396x396 with 1 Axes>"
      ]
     },
     "metadata": {},
     "output_type": "display_data"
    }
   ],
   "source": [
    "plt.figure(figsize=(5.5, 5.5))\n",
    "\n",
    "sns.boxplot(x = 'bioactivity_class', y = 'MW', data = df_2class)\n",
    "\n",
    "plt.xlabel('Bioactivity class', fontsize=14, fontweight='bold')\n",
    "plt.ylabel('MW', fontsize=14, fontweight='bold')\n",
    "\n",
    "plt.savefig('plot_MW.pdf')"
   ]
  },
  {
   "cell_type": "code",
   "execution_count": 29,
   "metadata": {
    "colab": {
     "base_uri": "https://localhost:8080/",
     "height": 81
    },
    "id": "wRl2FvgHYqaG",
    "outputId": "da2f2aba-29fd-4d18-bb88-27b88d5b1341"
   },
   "outputs": [
    {
     "data": {
      "text/html": [
       "<div>\n",
       "<style scoped>\n",
       "    .dataframe tbody tr th:only-of-type {\n",
       "        vertical-align: middle;\n",
       "    }\n",
       "\n",
       "    .dataframe tbody tr th {\n",
       "        vertical-align: top;\n",
       "    }\n",
       "\n",
       "    .dataframe thead th {\n",
       "        text-align: right;\n",
       "    }\n",
       "</style>\n",
       "<table border=\"1\" class=\"dataframe\">\n",
       "  <thead>\n",
       "    <tr style=\"text-align: right;\">\n",
       "      <th></th>\n",
       "      <th>Descriptor</th>\n",
       "      <th>Statistics</th>\n",
       "      <th>p</th>\n",
       "      <th>alpha</th>\n",
       "      <th>Interpretation</th>\n",
       "    </tr>\n",
       "  </thead>\n",
       "  <tbody>\n",
       "    <tr>\n",
       "      <th>0</th>\n",
       "      <td>MW</td>\n",
       "      <td>18943.5</td>\n",
       "      <td>0.137723</td>\n",
       "      <td>0.05</td>\n",
       "      <td>Same distribution (fail to reject H0)</td>\n",
       "    </tr>\n",
       "  </tbody>\n",
       "</table>\n",
       "</div>"
      ],
      "text/plain": [
       "  Descriptor  Statistics  ...  alpha                         Interpretation\n",
       "0         MW     18943.5  ...   0.05  Same distribution (fail to reject H0)\n",
       "\n",
       "[1 rows x 5 columns]"
      ]
     },
     "execution_count": 29,
     "metadata": {},
     "output_type": "execute_result"
    }
   ],
   "source": [
    "mannwhitney('MW')"
   ]
  },
  {
   "cell_type": "markdown",
   "metadata": {
    "id": "z5hyBhGqyc6J"
   },
   "source": [
    "#### **LogP**"
   ]
  },
  {
   "cell_type": "code",
   "execution_count": 30,
   "metadata": {
    "colab": {
     "base_uri": "https://localhost:8080/",
     "height": 367
    },
    "id": "liEtkpI4yX9t",
    "outputId": "da47dbb9-540c-4944-f839-b8fd69afaa97"
   },
   "outputs": [
    {
     "data": {
      "image/png": "[encoded data removed]",
      "text/plain": [
       "<Figure size 396x396 with 1 Axes>"
      ]
     },
     "metadata": {},
     "output_type": "display_data"
    }
   ],
   "source": [
    "plt.figure(figsize=(5.5, 5.5))\n",
    "\n",
    "sns.boxplot(x = 'bioactivity_class', y = 'LogP', data = df_2class)\n",
    "\n",
    "plt.xlabel('Bioactivity class', fontsize=14, fontweight='bold')\n",
    "plt.ylabel('LogP', fontsize=14, fontweight='bold')\n",
    "\n",
    "plt.savefig('plot_LogP.pdf')"
   ]
  },
  {
   "cell_type": "markdown",
   "metadata": {
    "id": "2KgV5v_oFLXh"
   },
   "source": [
    "**Statistical analysis | Mann-Whitney U Test**"
   ]
  },
  {
   "cell_type": "code",
   "execution_count": 31,
   "metadata": {
    "colab": {
     "base_uri": "https://localhost:8080/",
     "height": 81
    },
    "id": "B61UsGMIFLuE",
    "outputId": "ca686d7c-ecf1-40ac-a815-04229389da5e"
   },
   "outputs": [
    {
     "data": {
      "text/html": [
       "<div>\n",
       "<style scoped>\n",
       "    .dataframe tbody tr th:only-of-type {\n",
       "        vertical-align: middle;\n",
       "    }\n",
       "\n",
       "    .dataframe tbody tr th {\n",
       "        vertical-align: top;\n",
       "    }\n",
       "\n",
       "    .dataframe thead th {\n",
       "        text-align: right;\n",
       "    }\n",
       "</style>\n",
       "<table border=\"1\" class=\"dataframe\">\n",
       "  <thead>\n",
       "    <tr style=\"text-align: right;\">\n",
       "      <th></th>\n",
       "      <th>Descriptor</th>\n",
       "      <th>Statistics</th>\n",
       "      <th>p</th>\n",
       "      <th>alpha</th>\n",
       "      <th>Interpretation</th>\n",
       "    </tr>\n",
       "  </thead>\n",
       "  <tbody>\n",
       "    <tr>\n",
       "      <th>0</th>\n",
       "      <td>LogP</td>\n",
       "      <td>19236.5</td>\n",
       "      <td>0.187294</td>\n",
       "      <td>0.05</td>\n",
       "      <td>Same distribution (fail to reject H0)</td>\n",
       "    </tr>\n",
       "  </tbody>\n",
       "</table>\n",
       "</div>"
      ],
      "text/plain": [
       "  Descriptor  Statistics  ...  alpha                         Interpretation\n",
       "0       LogP     19236.5  ...   0.05  Same distribution (fail to reject H0)\n",
       "\n",
       "[1 rows x 5 columns]"
      ]
     },
     "execution_count": 31,
     "metadata": {},
     "output_type": "execute_result"
    }
   ],
   "source": [
    "mannwhitney('LogP')"
   ]
  },
  {
   "cell_type": "markdown",
   "metadata": {
    "id": "4db7LZLRym2k"
   },
   "source": [
    "#### **NumHDonors**"
   ]
  },
  {
   "cell_type": "code",
   "execution_count": 32,
   "metadata": {
    "colab": {
     "base_uri": "https://localhost:8080/",
     "height": 367
    },
    "id": "iru1JPM1yg5A",
    "outputId": "4cfe9b3a-576a-4636-f0b5-cb0814ac4760"
   },
   "outputs": [
    {
     "data": {
      "image/png": "[encoded data removed]",
      "text/plain": [
       "<Figure size 396x396 with 1 Axes>"
      ]
     },
     "metadata": {},
     "output_type": "display_data"
    }
   ],
   "source": [
    "plt.figure(figsize=(5.5, 5.5))\n",
    "\n",
    "sns.boxplot(x = 'bioactivity_class', y = 'NumHDonors', data = df_2class)\n",
    "\n",
    "plt.xlabel('Bioactivity class', fontsize=14, fontweight='bold')\n",
    "plt.ylabel('NumHDonors', fontsize=14, fontweight='bold')\n",
    "\n",
    "plt.savefig('plot_NumHDonors.pdf')"
   ]
  },
  {
   "cell_type": "markdown",
   "metadata": {
    "id": "vM5vZWanFe3c"
   },
   "source": [
    "**Statistical analysis | Mann-Whitney U Test**"
   ]
  },
  {
   "cell_type": "code",
   "execution_count": 33,
   "metadata": {
    "colab": {
     "base_uri": "https://localhost:8080/",
     "height": 81
    },
    "id": "mS-rOqq7Fd1E",
    "outputId": "fb6d1145-3462-4070-ab7b-4f402121f3bd"
   },
   "outputs": [
    {
     "data": {
      "text/html": [
       "<div>\n",
       "<style scoped>\n",
       "    .dataframe tbody tr th:only-of-type {\n",
       "        vertical-align: middle;\n",
       "    }\n",
       "\n",
       "    .dataframe tbody tr th {\n",
       "        vertical-align: top;\n",
       "    }\n",
       "\n",
       "    .dataframe thead th {\n",
       "        text-align: right;\n",
       "    }\n",
       "</style>\n",
       "<table border=\"1\" class=\"dataframe\">\n",
       "  <thead>\n",
       "    <tr style=\"text-align: right;\">\n",
       "      <th></th>\n",
       "      <th>Descriptor</th>\n",
       "      <th>Statistics</th>\n",
       "      <th>p</th>\n",
       "      <th>alpha</th>\n",
       "      <th>Interpretation</th>\n",
       "    </tr>\n",
       "  </thead>\n",
       "  <tbody>\n",
       "    <tr>\n",
       "      <th>0</th>\n",
       "      <td>NumHDonors</td>\n",
       "      <td>16335.0</td>\n",
       "      <td>0.001241</td>\n",
       "      <td>0.05</td>\n",
       "      <td>Different distribution (reject H0)</td>\n",
       "    </tr>\n",
       "  </tbody>\n",
       "</table>\n",
       "</div>"
      ],
      "text/plain": [
       "   Descriptor  Statistics         p  alpha                      Interpretation\n",
       "0  NumHDonors     16335.0  0.001241   0.05  Different distribution (reject H0)"
      ]
     },
     "execution_count": 33,
     "metadata": {},
     "output_type": "execute_result"
    }
   ],
   "source": [
    "mannwhitney('NumHDonors')"
   ]
  },
  {
   "cell_type": "markdown",
   "metadata": {
    "id": "yOYQ3QiSyu7-"
   },
   "source": [
    "#### **NumHAcceptors**"
   ]
  },
  {
   "cell_type": "code",
   "execution_count": 34,
   "metadata": {
    "colab": {
     "base_uri": "https://localhost:8080/",
     "height": 367
    },
    "id": "yCw6tgNCyxHf",
    "outputId": "5783aadf-1b0b-4873-f93b-96a1c13a4ae0"
   },
   "outputs": [
    {
     "data": {
      "image/png": "[encoded data removed]",
      "text/plain": [
       "<Figure size 396x396 with 1 Axes>"
      ]
     },
     "metadata": {},
     "output_type": "display_data"
    }
   ],
   "source": [
    "plt.figure(figsize=(5.5, 5.5))\n",
    "\n",
    "sns.boxplot(x = 'bioactivity_class', y = 'NumHAcceptors', data = df_2class)\n",
    "\n",
    "plt.xlabel('Bioactivity class', fontsize=14, fontweight='bold')\n",
    "plt.ylabel('NumHAcceptors', fontsize=14, fontweight='bold')\n",
    "\n",
    "plt.savefig('plot_NumHAcceptors.pdf')"
   ]
  },
  {
   "cell_type": "code",
   "execution_count": 35,
   "metadata": {
    "colab": {
     "base_uri": "https://localhost:8080/",
     "height": 81
    },
    "id": "NEQoDZctFtGG",
    "outputId": "c4f32c21-c650-4957-b44f-0ad453edf862"
   },
   "outputs": [
    {
     "data": {
      "text/html": [
       "<div>\n",
       "<style scoped>\n",
       "    .dataframe tbody tr th:only-of-type {\n",
       "        vertical-align: middle;\n",
       "    }\n",
       "\n",
       "    .dataframe tbody tr th {\n",
       "        vertical-align: top;\n",
       "    }\n",
       "\n",
       "    .dataframe thead th {\n",
       "        text-align: right;\n",
       "    }\n",
       "</style>\n",
       "<table border=\"1\" class=\"dataframe\">\n",
       "  <thead>\n",
       "    <tr style=\"text-align: right;\">\n",
       "      <th></th>\n",
       "      <th>Descriptor</th>\n",
       "      <th>Statistics</th>\n",
       "      <th>p</th>\n",
       "      <th>alpha</th>\n",
       "      <th>Interpretation</th>\n",
       "    </tr>\n",
       "  </thead>\n",
       "  <tbody>\n",
       "    <tr>\n",
       "      <th>0</th>\n",
       "      <td>NumHAcceptors</td>\n",
       "      <td>16407.5</td>\n",
       "      <td>0.002032</td>\n",
       "      <td>0.05</td>\n",
       "      <td>Different distribution (reject H0)</td>\n",
       "    </tr>\n",
       "  </tbody>\n",
       "</table>\n",
       "</div>"
      ],
      "text/plain": [
       "      Descriptor  Statistics  ...  alpha                      Interpretation\n",
       "0  NumHAcceptors     16407.5  ...   0.05  Different distribution (reject H0)\n",
       "\n",
       "[1 rows x 5 columns]"
      ]
     },
     "execution_count": 35,
     "metadata": {},
     "output_type": "execute_result"
    }
   ],
   "source": [
    "mannwhitney('NumHAcceptors')"
   ]
  },
  {
   "cell_type": "markdown",
   "metadata": {
    "id": "p4QjdHVjKYum"
   },
   "source": [
    "#### **Interpretation of Statistical Results**"
   ]
  },
  {
   "cell_type": "markdown",
   "metadata": {
    "id": "mSoOBIqfLbDs"
   },
   "source": [
    "##### **Box Plots**\n",
    "\n",
    "###### **pIC50 values**\n",
    "\n",
    "Taking a look at pIC50 values, the **actives** and **inactives** displayed ***statistically significant difference***, which is to be expected since threshold values (``IC50 < 1,000 nM = Actives while IC50 > 10,000 nM = Inactives``, corresponding to ``pIC50 > 6 = Actives and pIC50 < 5 = Inactives``) were used to define actives and inactives.\n",
    "\n",
    "###### **Lipinski's descriptors**\n",
    "\n",
    "Of the 4 Lipinski's descriptors (MW, LogP, NumHDonors and NumHAcceptors), only LogP exhibited ***no difference*** between the **actives** and **inactives** while the other 3 descriptors (MW, NumHDonors and NumHAcceptors) shows ***statistically significant difference*** between **actives** and **inactives**."
   ]
  },
  {
   "cell_type": "markdown",
   "metadata": {
    "id": "U-rK8l0wWnKK"
   },
   "source": [
    "## **Zip files**"
   ]
  },
  {
   "cell_type": "code",
   "execution_count": null,
   "metadata": {
    "colab": {
     "base_uri": "https://localhost:8080/",
     "height": 243
    },
    "id": "GW1ZSsfJWqbM",
    "outputId": "def6e823-0194-4848-fb5e-0d86e1ad88f4"
   },
   "outputs": [
    {
     "name": "stdout",
     "output_type": "stream",
     "text": [
      "  adding: mannwhitneyu_NumHAcceptors.csv (deflated 12%)\n",
      "  adding: mannwhitneyu_NumHDonors.csv (deflated 9%)\n",
      "  adding: plot_LogP.pdf (deflated 37%)\n",
      "  adding: mannwhitneyu_LogP.csv (deflated 7%)\n",
      "  adding: plot_MW_vs_LogP.pdf (deflated 15%)\n",
      "  adding: plot_ic50.pdf (deflated 37%)\n",
      "  adding: plot_NumHDonors.pdf (deflated 38%)\n",
      "  adding: plot_NumHAcceptors.pdf (deflated 37%)\n",
      "  adding: plot_MW.pdf (deflated 38%)\n",
      "  adding: mannwhitneyu_pIC50.csv (deflated 10%)\n",
      "  adding: bioactivity_data_preprocessed.csv (deflated 80%)\n",
      "  adding: plot_bioactivity_class.pdf (deflated 38%)\n",
      "  adding: mannwhitneyu_MW.csv (deflated 9%)\n"
     ]
    }
   ],
   "source": [
    "! zip -r results.zip . -i *.csv *.pdf"
   ]
  },
  {
   "cell_type": "code",
   "execution_count": null,
   "metadata": {
    "id": "LMWOG2UIXEg-"
   },
   "outputs": [],
   "source": []
  }
 ],
 "metadata": {
  "colab": {
   "collapsed_sections": [],
   "name": "CDD-ML-Part-2-Exploratory-Data-Analysis.ipynb",
   "provenance": []
  },
  "kernelspec": {
   "display_name": "Python 3",
   "language": "python",
   "name": "python3"
  },
  "language_info": {
   "codemirror_mode": {
    "name": "ipython",
    "version": 3
   },
   "file_extension": ".py",
   "mimetype": "text/x-python",
   "name": "python",
   "nbconvert_exporter": "python",
   "pygments_lexer": "ipython3",
   "version": "3.8.5"
  }
 },
 "nbformat": 4,
 "nbformat_minor": 1
}
