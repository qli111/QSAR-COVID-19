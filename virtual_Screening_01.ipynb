{
  "nbformat": 4,
  "nbformat_minor": 0,
  "metadata": {
    "colab": {
      "provenance": [],
      "authorship_tag": "ABX9TyM6hTA/UFT6WtlgsY2k66xJ",
      "include_colab_link": true
    },
    "kernelspec": {
      "name": "python3",
      "display_name": "Python 3"
    },
    "language_info": {
      "name": "python"
    }
  },
  "cells": [
    {
      "cell_type": "markdown",
      "metadata": {
        "id": "view-in-github",
        "colab_type": "text"
      },
      "source": [
        "<a href=\"https://colab.research.google.com/github/qli111/QSAR-COVID-19/blob/main/virtual_Screening_01.ipynb\" target=\"_parent\"><img src=\"https://colab.research.google.com/assets/colab-badge.svg\" alt=\"Open In Colab\"/></a>"
      ]
    },
    {
      "cell_type": "code",
      "execution_count": 2,
      "metadata": {
        "colab": {
          "base_uri": "https://localhost:8080/"
        },
        "id": "vcRDLXpoj002",
        "outputId": "5a166ca3-0224-4b6e-e51a-cf9ed63497f1"
      },
      "outputs": [
        {
          "output_type": "stream",
          "name": "stdout",
          "text": [
            "Looking in indexes: https://pypi.org/simple, https://us-python.pkg.dev/colab-wheels/public/simple/\n",
            "Collecting rdkit\n",
            "  Downloading rdkit-2022.9.3-cp38-cp38-manylinux_2_17_x86_64.manylinux2014_x86_64.whl (29.3 MB)\n",
            "\u001b[2K     \u001b[90m━━━━━━━━━━━━━━━━━━━━━━━━━━━━━━━━━━━━━━━━\u001b[0m \u001b[32m29.3/29.3 MB\u001b[0m \u001b[31m34.1 MB/s\u001b[0m eta \u001b[36m0:00:00\u001b[0m\n",
            "\u001b[?25hRequirement already satisfied: Pillow in /usr/local/lib/python3.8/dist-packages (from rdkit) (7.1.2)\n",
            "Requirement already satisfied: numpy in /usr/local/lib/python3.8/dist-packages (from rdkit) (1.21.6)\n",
            "Installing collected packages: rdkit\n",
            "Successfully installed rdkit-2022.9.3\n"
          ]
        }
      ],
      "source": [
        "pip install rdkit"
      ]
    },
    {
      "cell_type": "code",
      "source": [
        "from rdkit import Chem\n",
        "from rdkit.Chem import Draw\n",
        "from rdkit.Chem.Draw import IPythonConsole\n",
        "import pandas as pd\n",
        "from rdkit.Chem import PandasTools\n",
        "from rdkit.Chem import Descriptors\n",
        "from rdkit.Chem import rdmolops"
      ],
      "metadata": {
        "id": "6TdVXil4oFCR"
      },
      "execution_count": 3,
      "outputs": []
    },
    {
      "cell_type": "code",
      "source": [
        "import seaborn as sns"
      ],
      "metadata": {
        "id": "w2P_TgPloJ_7"
      },
      "execution_count": 4,
      "outputs": []
    },
    {
      "cell_type": "code",
      "source": [
        "active_df = pd.read_csv(\"/content/mk01/actives_final.ism\",header=None,sep=\" \")\n",
        "active_rows,active_cols = active_df.shape\n",
        "active_df.columns = [\"SMILES\",\"ID\",\"ChEMBL_ID\"]\n",
        "active_df[\"label\"] = [\"Active\"]*active_rows\n",
        "PandasTools.AddMoleculeColumnToFrame(active_df,\"SMILES\",\"Mol\")"
      ],
      "metadata": {
        "id": "4XYvSnIOsW8F"
      },
      "execution_count": 5,
      "outputs": []
    },
    {
      "cell_type": "code",
      "source": [
        "def add_property_columns_to_df(df_in):\n",
        "    df_in[\"mw\"] = [Descriptors.MolWt(mol) for mol in df_in.Mol]\n",
        "    df_in[\"logP\"] = [Descriptors.MolLogP(mol) for mol in df_in.Mol]\n",
        "    df_in[\"charge\"] = [rdmolops.GetFormalCharge(mol) for mol in df_in.Mol]"
      ],
      "metadata": {
        "id": "brWF44MhfhGG"
      },
      "execution_count": 6,
      "outputs": []
    },
    {
      "cell_type": "code",
      "source": [
        "add_property_columns_to_df(active_df)"
      ],
      "metadata": {
        "id": "X0Ox5HCtf9J0"
      },
      "execution_count": 7,
      "outputs": []
    },
    {
      "cell_type": "code",
      "source": [
        "active_df.head()"
      ],
      "metadata": {
        "colab": {
          "base_uri": "https://localhost:8080/",
          "height": 432
        },
        "id": "raQhKDq_gJ2w",
        "outputId": "338ec1ae-ad05-4057-b47c-25a4a989322c"
      },
      "execution_count": 8,
      "outputs": [
        {
          "output_type": "execute_result",
          "data": {
            "text/plain": [
              "                                              SMILES      ID     ChEMBL_ID  \\\n",
              "0  Cn1ccnc1Sc2ccc(cc2Cl)Nc3c4cc(c(cc4ncc3C#N)OCCC...  168691  CHEMBL318804   \n",
              "1  C[C@@]12[C@@H]([C@@H](CC(O1)n3c4ccccc4c5c3c6n2...   86358     CHEMBL162   \n",
              "2  Cc1cnc(nc1c2cc([nH]c2)C(=O)N[C@H](CO)c3cccc(c3...  575087  CHEMBL576683   \n",
              "3  Cc1cnc(nc1c2cc([nH]c2)C(=O)N[C@H](CO)c3cccc(c3...  575065  CHEMBL571484   \n",
              "4  Cc1cnc(nc1c2cc([nH]c2)C(=O)N[C@H](CO)c3cccc(c3...  575047  CHEMBL568937   \n",
              "\n",
              "    label                                               Mol       mw     logP  \\\n",
              "0  Active  <rdkit.Chem.rdchem.Mol object at 0x7f05900a9200>  565.099  5.49788   \n",
              "1  Active  <rdkit.Chem.rdchem.Mol object at 0x7f05900a9270>  466.541  4.35400   \n",
              "2  Active  <rdkit.Chem.rdchem.Mol object at 0x7f05900a92e0>  527.915  4.96202   \n",
              "3  Active  <rdkit.Chem.rdchem.Mol object at 0x7f05900a9350>  491.935  4.36922   \n",
              "4  Active  <rdkit.Chem.rdchem.Mol object at 0x7f05900a93c0>  487.991  5.12922   \n",
              "\n",
              "   charge  \n",
              "0       0  \n",
              "1       0  \n",
              "2       0  \n",
              "3       0  \n",
              "4       0  "
            ],
            "text/html": [
              "\n",
              "  <div id=\"df-de594094-0e32-4e2a-8974-02955a3f2748\">\n",
              "    <div class=\"colab-df-container\">\n",
              "      <div>\n",
              "<style scoped>\n",
              "    .dataframe tbody tr th:only-of-type {\n",
              "        vertical-align: middle;\n",
              "    }\n",
              "\n",
              "    .dataframe tbody tr th {\n",
              "        vertical-align: top;\n",
              "    }\n",
              "\n",
              "    .dataframe thead th {\n",
              "        text-align: right;\n",
              "    }\n",
              "</style>\n",
              "<table border=\"1\" class=\"dataframe\">\n",
              "  <thead>\n",
              "    <tr style=\"text-align: right;\">\n",
              "      <th></th>\n",
              "      <th>SMILES</th>\n",
              "      <th>ID</th>\n",
              "      <th>ChEMBL_ID</th>\n",
              "      <th>label</th>\n",
              "      <th>Mol</th>\n",
              "      <th>mw</th>\n",
              "      <th>logP</th>\n",
              "      <th>charge</th>\n",
              "    </tr>\n",
              "  </thead>\n",
              "  <tbody>\n",
              "    <tr>\n",
              "      <th>0</th>\n",
              "      <td>Cn1ccnc1Sc2ccc(cc2Cl)Nc3c4cc(c(cc4ncc3C#N)OCCC...</td>\n",
              "      <td>168691</td>\n",
              "      <td>CHEMBL318804</td>\n",
              "      <td>Active</td>\n",
              "      <td>&lt;rdkit.Chem.rdchem.Mol object at 0x7f05900a9200&gt;</td>\n",
              "      <td>565.099</td>\n",
              "      <td>5.49788</td>\n",
              "      <td>0</td>\n",
              "    </tr>\n",
              "    <tr>\n",
              "      <th>1</th>\n",
              "      <td>C[C@@]12[C@@H]([C@@H](CC(O1)n3c4ccccc4c5c3c6n2...</td>\n",
              "      <td>86358</td>\n",
              "      <td>CHEMBL162</td>\n",
              "      <td>Active</td>\n",
              "      <td>&lt;rdkit.Chem.rdchem.Mol object at 0x7f05900a9270&gt;</td>\n",
              "      <td>466.541</td>\n",
              "      <td>4.35400</td>\n",
              "      <td>0</td>\n",
              "    </tr>\n",
              "    <tr>\n",
              "      <th>2</th>\n",
              "      <td>Cc1cnc(nc1c2cc([nH]c2)C(=O)N[C@H](CO)c3cccc(c3...</td>\n",
              "      <td>575087</td>\n",
              "      <td>CHEMBL576683</td>\n",
              "      <td>Active</td>\n",
              "      <td>&lt;rdkit.Chem.rdchem.Mol object at 0x7f05900a92e0&gt;</td>\n",
              "      <td>527.915</td>\n",
              "      <td>4.96202</td>\n",
              "      <td>0</td>\n",
              "    </tr>\n",
              "    <tr>\n",
              "      <th>3</th>\n",
              "      <td>Cc1cnc(nc1c2cc([nH]c2)C(=O)N[C@H](CO)c3cccc(c3...</td>\n",
              "      <td>575065</td>\n",
              "      <td>CHEMBL571484</td>\n",
              "      <td>Active</td>\n",
              "      <td>&lt;rdkit.Chem.rdchem.Mol object at 0x7f05900a9350&gt;</td>\n",
              "      <td>491.935</td>\n",
              "      <td>4.36922</td>\n",
              "      <td>0</td>\n",
              "    </tr>\n",
              "    <tr>\n",
              "      <th>4</th>\n",
              "      <td>Cc1cnc(nc1c2cc([nH]c2)C(=O)N[C@H](CO)c3cccc(c3...</td>\n",
              "      <td>575047</td>\n",
              "      <td>CHEMBL568937</td>\n",
              "      <td>Active</td>\n",
              "      <td>&lt;rdkit.Chem.rdchem.Mol object at 0x7f05900a93c0&gt;</td>\n",
              "      <td>487.991</td>\n",
              "      <td>5.12922</td>\n",
              "      <td>0</td>\n",
              "    </tr>\n",
              "  </tbody>\n",
              "</table>\n",
              "</div>\n",
              "      <button class=\"colab-df-convert\" onclick=\"convertToInteractive('df-de594094-0e32-4e2a-8974-02955a3f2748')\"\n",
              "              title=\"Convert this dataframe to an interactive table.\"\n",
              "              style=\"display:none;\">\n",
              "        \n",
              "  <svg xmlns=\"http://www.w3.org/2000/svg\" height=\"24px\"viewBox=\"0 0 24 24\"\n",
              "       width=\"24px\">\n",
              "    <path d=\"M0 0h24v24H0V0z\" fill=\"none\"/>\n",
              "    <path d=\"M18.56 5.44l.94 2.06.94-2.06 2.06-.94-2.06-.94-.94-2.06-.94 2.06-2.06.94zm-11 1L8.5 8.5l.94-2.06 2.06-.94-2.06-.94L8.5 2.5l-.94 2.06-2.06.94zm10 10l.94 2.06.94-2.06 2.06-.94-2.06-.94-.94-2.06-.94 2.06-2.06.94z\"/><path d=\"M17.41 7.96l-1.37-1.37c-.4-.4-.92-.59-1.43-.59-.52 0-1.04.2-1.43.59L10.3 9.45l-7.72 7.72c-.78.78-.78 2.05 0 2.83L4 21.41c.39.39.9.59 1.41.59.51 0 1.02-.2 1.41-.59l7.78-7.78 2.81-2.81c.8-.78.8-2.07 0-2.86zM5.41 20L4 18.59l7.72-7.72 1.47 1.35L5.41 20z\"/>\n",
              "  </svg>\n",
              "      </button>\n",
              "      \n",
              "  <style>\n",
              "    .colab-df-container {\n",
              "      display:flex;\n",
              "      flex-wrap:wrap;\n",
              "      gap: 12px;\n",
              "    }\n",
              "\n",
              "    .colab-df-convert {\n",
              "      background-color: #E8F0FE;\n",
              "      border: none;\n",
              "      border-radius: 50%;\n",
              "      cursor: pointer;\n",
              "      display: none;\n",
              "      fill: #1967D2;\n",
              "      height: 32px;\n",
              "      padding: 0 0 0 0;\n",
              "      width: 32px;\n",
              "    }\n",
              "\n",
              "    .colab-df-convert:hover {\n",
              "      background-color: #E2EBFA;\n",
              "      box-shadow: 0px 1px 2px rgba(60, 64, 67, 0.3), 0px 1px 3px 1px rgba(60, 64, 67, 0.15);\n",
              "      fill: #174EA6;\n",
              "    }\n",
              "\n",
              "    [theme=dark] .colab-df-convert {\n",
              "      background-color: #3B4455;\n",
              "      fill: #D2E3FC;\n",
              "    }\n",
              "\n",
              "    [theme=dark] .colab-df-convert:hover {\n",
              "      background-color: #434B5C;\n",
              "      box-shadow: 0px 1px 3px 1px rgba(0, 0, 0, 0.15);\n",
              "      filter: drop-shadow(0px 1px 2px rgba(0, 0, 0, 0.3));\n",
              "      fill: #FFFFFF;\n",
              "    }\n",
              "  </style>\n",
              "\n",
              "      <script>\n",
              "        const buttonEl =\n",
              "          document.querySelector('#df-de594094-0e32-4e2a-8974-02955a3f2748 button.colab-df-convert');\n",
              "        buttonEl.style.display =\n",
              "          google.colab.kernel.accessAllowed ? 'block' : 'none';\n",
              "\n",
              "        async function convertToInteractive(key) {\n",
              "          const element = document.querySelector('#df-de594094-0e32-4e2a-8974-02955a3f2748');\n",
              "          const dataTable =\n",
              "            await google.colab.kernel.invokeFunction('convertToInteractive',\n",
              "                                                     [key], {});\n",
              "          if (!dataTable) return;\n",
              "\n",
              "          const docLinkHtml = 'Like what you see? Visit the ' +\n",
              "            '<a target=\"_blank\" href=https://colab.research.google.com/notebooks/data_table.ipynb>data table notebook</a>'\n",
              "            + ' to learn more about interactive tables.';\n",
              "          element.innerHTML = '';\n",
              "          dataTable['output_type'] = 'display_data';\n",
              "          await google.colab.output.renderOutput(dataTable, element);\n",
              "          const docLink = document.createElement('div');\n",
              "          docLink.innerHTML = docLinkHtml;\n",
              "          element.appendChild(docLink);\n",
              "        }\n",
              "      </script>\n",
              "    </div>\n",
              "  </div>\n",
              "  "
            ]
          },
          "metadata": {},
          "execution_count": 8
        }
      ]
    },
    {
      "cell_type": "code",
      "source": [
        "decoy_df = pd.read_csv(\"/content/mk01/decoys_final.ism\",header=None,sep=\" \")\n",
        "decoy_df.columns = [\"SMILES\",\"ID\"]\n",
        "decoy_rows, decoy_cols = decoy_df.shape\n",
        "decoy_df[\"label\"] = [\"Decoy\"]*decoy_rows\n",
        "PandasTools.AddMoleculeColumnToFrame(decoy_df,\"SMILES\",\"Mol\")\n",
        "add_property_columns_to_df(decoy_df)"
      ],
      "metadata": {
        "id": "hM-0WoiCg1vg"
      },
      "execution_count": 9,
      "outputs": []
    },
    {
      "cell_type": "code",
      "source": [
        "decoy_df.head()"
      ],
      "metadata": {
        "colab": {
          "base_uri": "https://localhost:8080/",
          "height": 328
        },
        "id": "0DsE7DlQg-O5",
        "outputId": "28abc23e-e1bc-49e6-ff8f-ab512072dfa6"
      },
      "execution_count": 10,
      "outputs": [
        {
          "output_type": "execute_result",
          "data": {
            "text/plain": [
              "                                              SMILES         ID  label  \\\n",
              "0                         C1COCCNC(=S)NCCOCCNC(=S)N1  C03897368  Decoy   \n",
              "1            c1cc(ccc1[C@H]2c3ccc(cc3OC(=C2C#N)N)N)O  C00242247  Decoy   \n",
              "2  C[C@]12CC[C@H](C[C@@H]1CC[C@@H]3[C@@H]2C(=O)C[...  C04096778  Decoy   \n",
              "3  Cc1ccc2c(c1)cc(c(=O)[nH]2)[C@@H]3c4c(n[nH]c4OC...  C00421469  Decoy   \n",
              "4  Cc1cc2cc(c(=O)[nH]c2cc1C)[C@@H]3c4c(n[nH]c4OC(...  C00421479  Decoy   \n",
              "\n",
              "                                                Mol       mw     logP  charge  \n",
              "0  <rdkit.Chem.rdchem.Mol object at 0x7f058ffb8200>  292.430 -1.03860       0  \n",
              "1  <rdkit.Chem.rdchem.Mol object at 0x7f058ffb8270>  279.299  2.19258       0  \n",
              "2  <rdkit.Chem.rdchem.Mol object at 0x7f058ffb82e0>  366.498  1.65330       0  \n",
              "3  <rdkit.Chem.rdchem.Mol object at 0x7f058ffb8350>  333.351  2.08622       0  \n",
              "4  <rdkit.Chem.rdchem.Mol object at 0x7f058ffb83c0>  347.378  2.39464       0  "
            ],
            "text/html": [
              "\n",
              "  <div id=\"df-f60c1311-d23d-4ad0-957f-28e6606b51a5\">\n",
              "    <div class=\"colab-df-container\">\n",
              "      <div>\n",
              "<style scoped>\n",
              "    .dataframe tbody tr th:only-of-type {\n",
              "        vertical-align: middle;\n",
              "    }\n",
              "\n",
              "    .dataframe tbody tr th {\n",
              "        vertical-align: top;\n",
              "    }\n",
              "\n",
              "    .dataframe thead th {\n",
              "        text-align: right;\n",
              "    }\n",
              "</style>\n",
              "<table border=\"1\" class=\"dataframe\">\n",
              "  <thead>\n",
              "    <tr style=\"text-align: right;\">\n",
              "      <th></th>\n",
              "      <th>SMILES</th>\n",
              "      <th>ID</th>\n",
              "      <th>label</th>\n",
              "      <th>Mol</th>\n",
              "      <th>mw</th>\n",
              "      <th>logP</th>\n",
              "      <th>charge</th>\n",
              "    </tr>\n",
              "  </thead>\n",
              "  <tbody>\n",
              "    <tr>\n",
              "      <th>0</th>\n",
              "      <td>C1COCCNC(=S)NCCOCCNC(=S)N1</td>\n",
              "      <td>C03897368</td>\n",
              "      <td>Decoy</td>\n",
              "      <td>&lt;rdkit.Chem.rdchem.Mol object at 0x7f058ffb8200&gt;</td>\n",
              "      <td>292.430</td>\n",
              "      <td>-1.03860</td>\n",
              "      <td>0</td>\n",
              "    </tr>\n",
              "    <tr>\n",
              "      <th>1</th>\n",
              "      <td>c1cc(ccc1[C@H]2c3ccc(cc3OC(=C2C#N)N)N)O</td>\n",
              "      <td>C00242247</td>\n",
              "      <td>Decoy</td>\n",
              "      <td>&lt;rdkit.Chem.rdchem.Mol object at 0x7f058ffb8270&gt;</td>\n",
              "      <td>279.299</td>\n",
              "      <td>2.19258</td>\n",
              "      <td>0</td>\n",
              "    </tr>\n",
              "    <tr>\n",
              "      <th>2</th>\n",
              "      <td>C[C@]12CC[C@H](C[C@@H]1CC[C@@H]3[C@@H]2C(=O)C[...</td>\n",
              "      <td>C04096778</td>\n",
              "      <td>Decoy</td>\n",
              "      <td>&lt;rdkit.Chem.rdchem.Mol object at 0x7f058ffb82e0&gt;</td>\n",
              "      <td>366.498</td>\n",
              "      <td>1.65330</td>\n",
              "      <td>0</td>\n",
              "    </tr>\n",
              "    <tr>\n",
              "      <th>3</th>\n",
              "      <td>Cc1ccc2c(c1)cc(c(=O)[nH]2)[C@@H]3c4c(n[nH]c4OC...</td>\n",
              "      <td>C00421469</td>\n",
              "      <td>Decoy</td>\n",
              "      <td>&lt;rdkit.Chem.rdchem.Mol object at 0x7f058ffb8350&gt;</td>\n",
              "      <td>333.351</td>\n",
              "      <td>2.08622</td>\n",
              "      <td>0</td>\n",
              "    </tr>\n",
              "    <tr>\n",
              "      <th>4</th>\n",
              "      <td>Cc1cc2cc(c(=O)[nH]c2cc1C)[C@@H]3c4c(n[nH]c4OC(...</td>\n",
              "      <td>C00421479</td>\n",
              "      <td>Decoy</td>\n",
              "      <td>&lt;rdkit.Chem.rdchem.Mol object at 0x7f058ffb83c0&gt;</td>\n",
              "      <td>347.378</td>\n",
              "      <td>2.39464</td>\n",
              "      <td>0</td>\n",
              "    </tr>\n",
              "  </tbody>\n",
              "</table>\n",
              "</div>\n",
              "      <button class=\"colab-df-convert\" onclick=\"convertToInteractive('df-f60c1311-d23d-4ad0-957f-28e6606b51a5')\"\n",
              "              title=\"Convert this dataframe to an interactive table.\"\n",
              "              style=\"display:none;\">\n",
              "        \n",
              "  <svg xmlns=\"http://www.w3.org/2000/svg\" height=\"24px\"viewBox=\"0 0 24 24\"\n",
              "       width=\"24px\">\n",
              "    <path d=\"M0 0h24v24H0V0z\" fill=\"none\"/>\n",
              "    <path d=\"M18.56 5.44l.94 2.06.94-2.06 2.06-.94-2.06-.94-.94-2.06-.94 2.06-2.06.94zm-11 1L8.5 8.5l.94-2.06 2.06-.94-2.06-.94L8.5 2.5l-.94 2.06-2.06.94zm10 10l.94 2.06.94-2.06 2.06-.94-2.06-.94-.94-2.06-.94 2.06-2.06.94z\"/><path d=\"M17.41 7.96l-1.37-1.37c-.4-.4-.92-.59-1.43-.59-.52 0-1.04.2-1.43.59L10.3 9.45l-7.72 7.72c-.78.78-.78 2.05 0 2.83L4 21.41c.39.39.9.59 1.41.59.51 0 1.02-.2 1.41-.59l7.78-7.78 2.81-2.81c.8-.78.8-2.07 0-2.86zM5.41 20L4 18.59l7.72-7.72 1.47 1.35L5.41 20z\"/>\n",
              "  </svg>\n",
              "      </button>\n",
              "      \n",
              "  <style>\n",
              "    .colab-df-container {\n",
              "      display:flex;\n",
              "      flex-wrap:wrap;\n",
              "      gap: 12px;\n",
              "    }\n",
              "\n",
              "    .colab-df-convert {\n",
              "      background-color: #E8F0FE;\n",
              "      border: none;\n",
              "      border-radius: 50%;\n",
              "      cursor: pointer;\n",
              "      display: none;\n",
              "      fill: #1967D2;\n",
              "      height: 32px;\n",
              "      padding: 0 0 0 0;\n",
              "      width: 32px;\n",
              "    }\n",
              "\n",
              "    .colab-df-convert:hover {\n",
              "      background-color: #E2EBFA;\n",
              "      box-shadow: 0px 1px 2px rgba(60, 64, 67, 0.3), 0px 1px 3px 1px rgba(60, 64, 67, 0.15);\n",
              "      fill: #174EA6;\n",
              "    }\n",
              "\n",
              "    [theme=dark] .colab-df-convert {\n",
              "      background-color: #3B4455;\n",
              "      fill: #D2E3FC;\n",
              "    }\n",
              "\n",
              "    [theme=dark] .colab-df-convert:hover {\n",
              "      background-color: #434B5C;\n",
              "      box-shadow: 0px 1px 3px 1px rgba(0, 0, 0, 0.15);\n",
              "      filter: drop-shadow(0px 1px 2px rgba(0, 0, 0, 0.3));\n",
              "      fill: #FFFFFF;\n",
              "    }\n",
              "  </style>\n",
              "\n",
              "      <script>\n",
              "        const buttonEl =\n",
              "          document.querySelector('#df-f60c1311-d23d-4ad0-957f-28e6606b51a5 button.colab-df-convert');\n",
              "        buttonEl.style.display =\n",
              "          google.colab.kernel.accessAllowed ? 'block' : 'none';\n",
              "\n",
              "        async function convertToInteractive(key) {\n",
              "          const element = document.querySelector('#df-f60c1311-d23d-4ad0-957f-28e6606b51a5');\n",
              "          const dataTable =\n",
              "            await google.colab.kernel.invokeFunction('convertToInteractive',\n",
              "                                                     [key], {});\n",
              "          if (!dataTable) return;\n",
              "\n",
              "          const docLinkHtml = 'Like what you see? Visit the ' +\n",
              "            '<a target=\"_blank\" href=https://colab.research.google.com/notebooks/data_table.ipynb>data table notebook</a>'\n",
              "            + ' to learn more about interactive tables.';\n",
              "          element.innerHTML = '';\n",
              "          dataTable['output_type'] = 'display_data';\n",
              "          await google.colab.output.renderOutput(dataTable, element);\n",
              "          const docLink = document.createElement('div');\n",
              "          docLink.innerHTML = docLinkHtml;\n",
              "          element.appendChild(docLink);\n",
              "        }\n",
              "      </script>\n",
              "    </div>\n",
              "  </div>\n",
              "  "
            ]
          },
          "metadata": {},
          "execution_count": 10
        }
      ]
    },
    {
      "cell_type": "code",
      "source": [
        "tmp_df = active_df.append(decoy_df)"
      ],
      "metadata": {
        "id": "vaJEHWSNiCYU"
      },
      "execution_count": 11,
      "outputs": []
    },
    {
      "cell_type": "code",
      "source": [
        "sns.violinplot(x=tmp_df[\"label\"],y=tmp_df[\"mw\"]);"
      ],
      "metadata": {
        "colab": {
          "base_uri": "https://localhost:8080/",
          "height": 278
        },
        "id": "YPXNQumLimNG",
        "outputId": "50af856d-2d62-44c0-8aea-f48d3744c61f"
      },
      "execution_count": 12,
      "outputs": [
        {
          "output_type": "display_data",
          "data": {
            "text/plain": [
              "<Figure size 432x288 with 1 Axes>"
            ],
            "image/png": "[encoded data removed]"
          },
          "metadata": {
            "needs_background": "light"
          }
        }
      ]
    },
    {
      "cell_type": "code",
      "source": [
        "sns.violinplot(x=tmp_df[\"label\"],y=tmp_df[\"logP\"]);"
      ],
      "metadata": {
        "colab": {
          "base_uri": "https://localhost:8080/",
          "height": 278
        },
        "id": "jN18YmmvjHAc",
        "outputId": "3a43b64c-5c84-4fce-d614-2676a2f2552e"
      },
      "execution_count": 13,
      "outputs": [
        {
          "output_type": "display_data",
          "data": {
            "text/plain": [
              "<Figure size 432x288 with 1 Axes>"
            ],
            "image/png": "[encoded data removed]"
          },
          "metadata": {
            "needs_background": "light"
          }
        }
      ]
    },
    {
      "cell_type": "code",
      "source": [
        "sns.violinplot(x=tmp_df[\"label\"],y=tmp_df[\"charge\"]);"
      ],
      "metadata": {
        "colab": {
          "base_uri": "https://localhost:8080/",
          "height": 278
        },
        "id": "You3aGqzjVhP",
        "outputId": "b9733444-21b5-412d-b7db-5c7f65be8ef5"
      },
      "execution_count": 14,
      "outputs": [
        {
          "output_type": "display_data",
          "data": {
            "text/plain": [
              "<Figure size 432x288 with 1 Axes>"
            ],
            "image/png": "[encoded data removed]"
          },
          "metadata": {
            "needs_background": "light"
          }
        }
      ]
    },
    {
      "cell_type": "code",
      "source": [
        "charged = decoy_df[decoy_df[\"charge\"] != 0]"
      ],
      "metadata": {
        "id": "HGEM_UdYkUaW"
      },
      "execution_count": 15,
      "outputs": []
    },
    {
      "cell_type": "code",
      "source": [
        "charged.shape[0]/decoy_df.shape[0]"
      ],
      "metadata": {
        "colab": {
          "base_uri": "https://localhost:8080/"
        },
        "id": "QmRlCeabkhpb",
        "outputId": "9ec7900b-b4a9-4eb8-9488-0de40590b008"
      },
      "execution_count": 16,
      "outputs": [
        {
          "output_type": "execute_result",
          "data": {
            "text/plain": [
              "0.16175824175824177"
            ]
          },
          "metadata": {},
          "execution_count": 16
        }
      ]
    },
    {
      "cell_type": "code",
      "source": [
        "from rdkit import Chem\n",
        "from rdkit.Chem import AllChem"
      ],
      "metadata": {
        "id": "2j9a76bYmFyS"
      },
      "execution_count": 21,
      "outputs": []
    },
    {
      "cell_type": "code",
      "source": [
        "def neutralize_atoms(mol):\n",
        "    pattern = Chem.MolFromSmarts(\"[+1!h0!$([*]~[-1,-2,-3,-4]),-1!$([*]~[+1,+2,+3,+4])]\")\n",
        "    at_matches = mol.GetSubstructMatches(pattern)\n",
        "    at_matches_list = [y[0] for y in at_matches]\n",
        "    if len(at_matches_list) > 0:\n",
        "        for at_idx in at_matches_list:\n",
        "            atom = mol.GetAtomWithIdx(at_idx)\n",
        "            chg = atom.GetFormalCharge()\n",
        "            hcount = atom.GetTotalNumHs()\n",
        "            atom.SetFormalCharge(0)\n",
        "            atom.SetNumExplicitHs(hcount - chg)\n",
        "            atom.UpdatePropertyCache()\n",
        "    return mol"
      ],
      "metadata": {
        "id": "BQA8Ptw9mIos"
      },
      "execution_count": 25,
      "outputs": []
    },
    {
      "cell_type": "code",
      "source": [
        "revised_decoy_df = decoy_df[[\"SMILES\",\"ID\",\"label\"]].copy()"
      ],
      "metadata": {
        "id": "pMaov6gGp4C8"
      },
      "execution_count": 26,
      "outputs": []
    },
    {
      "cell_type": "code",
      "source": [
        "from rdkit import Chem\n",
        "from rdkit.Chem import AllChem\n",
        "def _InitialiseNeutralisationReactions():\n",
        "  patts=(\n",
        "      ('[n+;H]','n'),\n",
        "      ('[N+;!H0]','N'),\n",
        "      ('[S-;X1]','S'),\n",
        "      ('[$([N-;X2]S(=O)=O)]','N'),\n",
        "      ('[$([N-;X2][C,N]=C)]','N'),\n",
        "      ('[n-]','[nH]'),\n",
        "      ('[$([S-]=O)]','S'),\n",
        "      ('[$([N-]C=O)]','N'),\n",
        "      ('[$([O-]);!$([O-][#7])]','O'),                      \n",
        "  )\n",
        "  return [(Chem.MolFromSmarts(x),Chem.MolFromSmiles(y,False)) for x,y in patts]"
      ],
      "metadata": {
        "id": "QwOls6Z-pcRv"
      },
      "execution_count": 56,
      "outputs": []
    },
    {
      "cell_type": "code",
      "source": [
        "_reactions=None\n",
        "def NeutraliseCharges(x, reactions=None):\n",
        "    global _reactions\n",
        "    if reactions is None:\n",
        "        if _reactions is None:\n",
        "            _reactions=_InitialiseNeutralisationReactions()\n",
        "        reactions=_reactions\n",
        "    mol = Chem.MolFromSmiles(x)\n",
        "    replaced = False\n",
        "    for i,(reactant, product) in enumerate(reactions):\n",
        "        while mol.HasSubstructMatch(reactant):\n",
        "            replaced = True\n",
        "            rms = AllChem.ReplaceSubstructs(mol, reactant, product)\n",
        "            mol = rms[0]\n",
        "    if replaced:\n",
        "        return (Chem.MolToSmiles(mol,True), True)\n",
        "    else:\n",
        "        return (x, False)"
      ],
      "metadata": {
        "id": "ArbUxX61sp1L"
      },
      "execution_count": 66,
      "outputs": []
    },
    {
      "cell_type": "code",
      "source": [
        "revised_decoy_df = decoy_df[[\"SMILES\",\"ID\",\"label\"]].copy()"
      ],
      "metadata": {
        "id": "j98nRTLGt_Ag"
      },
      "execution_count": 58,
      "outputs": []
    },
    {
      "cell_type": "code",
      "source": [
        "revised_decoy_df\n"
      ],
      "metadata": {
        "colab": {
          "base_uri": "https://localhost:8080/",
          "height": 414
        },
        "id": "ShZpdDiRuuzP",
        "outputId": "aa873708-2d10-4a5b-a512-d116996bd12f"
      },
      "execution_count": 48,
      "outputs": [
        {
          "output_type": "execute_result",
          "data": {
            "text/plain": [
              "                                                 SMILES         ID  label\n",
              "0                            C1COCCNC(=S)NCCOCCNC(=S)N1  C03897368  Decoy\n",
              "1               c1cc(ccc1[C@H]2c3ccc(cc3OC(=C2C#N)N)N)O  C00242247  Decoy\n",
              "2     C[C@]12CC[C@H](C[C@@H]1CC[C@@H]3[C@@H]2C(=O)C[...  C04096778  Decoy\n",
              "3     Cc1ccc2c(c1)cc(c(=O)[nH]2)[C@@H]3c4c(n[nH]c4OC...  C00421469  Decoy\n",
              "4     Cc1cc2cc(c(=O)[nH]c2cc1C)[C@@H]3c4c(n[nH]c4OC(...  C00421479  Decoy\n",
              "...                                                 ...        ...    ...\n",
              "4545  CCOc1ccc(cc1[N+](=O)[O-])C(=O)OCCSc2cc(c(c(c2)...  C57324840  Decoy\n",
              "4546  Cc1cc(cc(c1NC(=O)c2ccccc2)C)SCCOC(=O)c3cc(ccc3...  C57324854  Decoy\n",
              "4547  CCc1ccc(cc1)O[C@@H](C)c2nnc(n2C)SCC(=O)Nc3c(c4...  C13871253  Decoy\n",
              "4548  C=CCSc1ccccc1NC(=O)CSc2nnc(n2c3ccccc3)c4ccc(cc...  C59791396  Decoy\n",
              "4549  CCc1cccc(c1)NC(=O)CSc2nc3c(nn(c3c(=O)n2Cc4cccc...  C64817272  Decoy\n",
              "\n",
              "[4550 rows x 3 columns]"
            ],
            "text/html": [
              "\n",
              "  <div id=\"df-2d01d18e-1d5d-4d6f-bb57-0627168c801d\">\n",
              "    <div class=\"colab-df-container\">\n",
              "      <div>\n",
              "<style scoped>\n",
              "    .dataframe tbody tr th:only-of-type {\n",
              "        vertical-align: middle;\n",
              "    }\n",
              "\n",
              "    .dataframe tbody tr th {\n",
              "        vertical-align: top;\n",
              "    }\n",
              "\n",
              "    .dataframe thead th {\n",
              "        text-align: right;\n",
              "    }\n",
              "</style>\n",
              "<table border=\"1\" class=\"dataframe\">\n",
              "  <thead>\n",
              "    <tr style=\"text-align: right;\">\n",
              "      <th></th>\n",
              "      <th>SMILES</th>\n",
              "      <th>ID</th>\n",
              "      <th>label</th>\n",
              "    </tr>\n",
              "  </thead>\n",
              "  <tbody>\n",
              "    <tr>\n",
              "      <th>0</th>\n",
              "      <td>C1COCCNC(=S)NCCOCCNC(=S)N1</td>\n",
              "      <td>C03897368</td>\n",
              "      <td>Decoy</td>\n",
              "    </tr>\n",
              "    <tr>\n",
              "      <th>1</th>\n",
              "      <td>c1cc(ccc1[C@H]2c3ccc(cc3OC(=C2C#N)N)N)O</td>\n",
              "      <td>C00242247</td>\n",
              "      <td>Decoy</td>\n",
              "    </tr>\n",
              "    <tr>\n",
              "      <th>2</th>\n",
              "      <td>C[C@]12CC[C@H](C[C@@H]1CC[C@@H]3[C@@H]2C(=O)C[...</td>\n",
              "      <td>C04096778</td>\n",
              "      <td>Decoy</td>\n",
              "    </tr>\n",
              "    <tr>\n",
              "      <th>3</th>\n",
              "      <td>Cc1ccc2c(c1)cc(c(=O)[nH]2)[C@@H]3c4c(n[nH]c4OC...</td>\n",
              "      <td>C00421469</td>\n",
              "      <td>Decoy</td>\n",
              "    </tr>\n",
              "    <tr>\n",
              "      <th>4</th>\n",
              "      <td>Cc1cc2cc(c(=O)[nH]c2cc1C)[C@@H]3c4c(n[nH]c4OC(...</td>\n",
              "      <td>C00421479</td>\n",
              "      <td>Decoy</td>\n",
              "    </tr>\n",
              "    <tr>\n",
              "      <th>...</th>\n",
              "      <td>...</td>\n",
              "      <td>...</td>\n",
              "      <td>...</td>\n",
              "    </tr>\n",
              "    <tr>\n",
              "      <th>4545</th>\n",
              "      <td>CCOc1ccc(cc1[N+](=O)[O-])C(=O)OCCSc2cc(c(c(c2)...</td>\n",
              "      <td>C57324840</td>\n",
              "      <td>Decoy</td>\n",
              "    </tr>\n",
              "    <tr>\n",
              "      <th>4546</th>\n",
              "      <td>Cc1cc(cc(c1NC(=O)c2ccccc2)C)SCCOC(=O)c3cc(ccc3...</td>\n",
              "      <td>C57324854</td>\n",
              "      <td>Decoy</td>\n",
              "    </tr>\n",
              "    <tr>\n",
              "      <th>4547</th>\n",
              "      <td>CCc1ccc(cc1)O[C@@H](C)c2nnc(n2C)SCC(=O)Nc3c(c4...</td>\n",
              "      <td>C13871253</td>\n",
              "      <td>Decoy</td>\n",
              "    </tr>\n",
              "    <tr>\n",
              "      <th>4548</th>\n",
              "      <td>C=CCSc1ccccc1NC(=O)CSc2nnc(n2c3ccccc3)c4ccc(cc...</td>\n",
              "      <td>C59791396</td>\n",
              "      <td>Decoy</td>\n",
              "    </tr>\n",
              "    <tr>\n",
              "      <th>4549</th>\n",
              "      <td>CCc1cccc(c1)NC(=O)CSc2nc3c(nn(c3c(=O)n2Cc4cccc...</td>\n",
              "      <td>C64817272</td>\n",
              "      <td>Decoy</td>\n",
              "    </tr>\n",
              "  </tbody>\n",
              "</table>\n",
              "<p>4550 rows × 3 columns</p>\n",
              "</div>\n",
              "      <button class=\"colab-df-convert\" onclick=\"convertToInteractive('df-2d01d18e-1d5d-4d6f-bb57-0627168c801d')\"\n",
              "              title=\"Convert this dataframe to an interactive table.\"\n",
              "              style=\"display:none;\">\n",
              "        \n",
              "  <svg xmlns=\"http://www.w3.org/2000/svg\" height=\"24px\"viewBox=\"0 0 24 24\"\n",
              "       width=\"24px\">\n",
              "    <path d=\"M0 0h24v24H0V0z\" fill=\"none\"/>\n",
              "    <path d=\"M18.56 5.44l.94 2.06.94-2.06 2.06-.94-2.06-.94-.94-2.06-.94 2.06-2.06.94zm-11 1L8.5 8.5l.94-2.06 2.06-.94-2.06-.94L8.5 2.5l-.94 2.06-2.06.94zm10 10l.94 2.06.94-2.06 2.06-.94-2.06-.94-.94-2.06-.94 2.06-2.06.94z\"/><path d=\"M17.41 7.96l-1.37-1.37c-.4-.4-.92-.59-1.43-.59-.52 0-1.04.2-1.43.59L10.3 9.45l-7.72 7.72c-.78.78-.78 2.05 0 2.83L4 21.41c.39.39.9.59 1.41.59.51 0 1.02-.2 1.41-.59l7.78-7.78 2.81-2.81c.8-.78.8-2.07 0-2.86zM5.41 20L4 18.59l7.72-7.72 1.47 1.35L5.41 20z\"/>\n",
              "  </svg>\n",
              "      </button>\n",
              "      \n",
              "  <style>\n",
              "    .colab-df-container {\n",
              "      display:flex;\n",
              "      flex-wrap:wrap;\n",
              "      gap: 12px;\n",
              "    }\n",
              "\n",
              "    .colab-df-convert {\n",
              "      background-color: #E8F0FE;\n",
              "      border: none;\n",
              "      border-radius: 50%;\n",
              "      cursor: pointer;\n",
              "      display: none;\n",
              "      fill: #1967D2;\n",
              "      height: 32px;\n",
              "      padding: 0 0 0 0;\n",
              "      width: 32px;\n",
              "    }\n",
              "\n",
              "    .colab-df-convert:hover {\n",
              "      background-color: #E2EBFA;\n",
              "      box-shadow: 0px 1px 2px rgba(60, 64, 67, 0.3), 0px 1px 3px 1px rgba(60, 64, 67, 0.15);\n",
              "      fill: #174EA6;\n",
              "    }\n",
              "\n",
              "    [theme=dark] .colab-df-convert {\n",
              "      background-color: #3B4455;\n",
              "      fill: #D2E3FC;\n",
              "    }\n",
              "\n",
              "    [theme=dark] .colab-df-convert:hover {\n",
              "      background-color: #434B5C;\n",
              "      box-shadow: 0px 1px 3px 1px rgba(0, 0, 0, 0.15);\n",
              "      filter: drop-shadow(0px 1px 2px rgba(0, 0, 0, 0.3));\n",
              "      fill: #FFFFFF;\n",
              "    }\n",
              "  </style>\n",
              "\n",
              "      <script>\n",
              "        const buttonEl =\n",
              "          document.querySelector('#df-2d01d18e-1d5d-4d6f-bb57-0627168c801d button.colab-df-convert');\n",
              "        buttonEl.style.display =\n",
              "          google.colab.kernel.accessAllowed ? 'block' : 'none';\n",
              "\n",
              "        async function convertToInteractive(key) {\n",
              "          const element = document.querySelector('#df-2d01d18e-1d5d-4d6f-bb57-0627168c801d');\n",
              "          const dataTable =\n",
              "            await google.colab.kernel.invokeFunction('convertToInteractive',\n",
              "                                                     [key], {});\n",
              "          if (!dataTable) return;\n",
              "\n",
              "          const docLinkHtml = 'Like what you see? Visit the ' +\n",
              "            '<a target=\"_blank\" href=https://colab.research.google.com/notebooks/data_table.ipynb>data table notebook</a>'\n",
              "            + ' to learn more about interactive tables.';\n",
              "          element.innerHTML = '';\n",
              "          dataTable['output_type'] = 'display_data';\n",
              "          await google.colab.output.renderOutput(dataTable, element);\n",
              "          const docLink = document.createElement('div');\n",
              "          docLink.innerHTML = docLinkHtml;\n",
              "          element.appendChild(docLink);\n",
              "        }\n",
              "      </script>\n",
              "    </div>\n",
              "  </div>\n",
              "  "
            ]
          },
          "metadata": {},
          "execution_count": 48
        }
      ]
    },
    {
      "cell_type": "code",
      "source": [
        "revised_decoy_df[\"SMILES\"] "
      ],
      "metadata": {
        "colab": {
          "base_uri": "https://localhost:8080/"
        },
        "id": "L6x5yhc0x9uf",
        "outputId": "14af1204-e2a2-4541-cfcd-3e9f16a45417"
      },
      "execution_count": 49,
      "outputs": [
        {
          "output_type": "execute_result",
          "data": {
            "text/plain": [
              "0                              C1COCCNC(=S)NCCOCCNC(=S)N1\n",
              "1                 c1cc(ccc1[C@H]2c3ccc(cc3OC(=C2C#N)N)N)O\n",
              "2       C[C@]12CC[C@H](C[C@@H]1CC[C@@H]3[C@@H]2C(=O)C[...\n",
              "3       Cc1ccc2c(c1)cc(c(=O)[nH]2)[C@@H]3c4c(n[nH]c4OC...\n",
              "4       Cc1cc2cc(c(=O)[nH]c2cc1C)[C@@H]3c4c(n[nH]c4OC(...\n",
              "                              ...                        \n",
              "4545    CCOc1ccc(cc1[N+](=O)[O-])C(=O)OCCSc2cc(c(c(c2)...\n",
              "4546    Cc1cc(cc(c1NC(=O)c2ccccc2)C)SCCOC(=O)c3cc(ccc3...\n",
              "4547    CCc1ccc(cc1)O[C@@H](C)c2nnc(n2C)SCC(=O)Nc3c(c4...\n",
              "4548    C=CCSc1ccccc1NC(=O)CSc2nnc(n2c3ccccc3)c4ccc(cc...\n",
              "4549    CCc1cccc(c1)NC(=O)CSc2nc3c(nn(c3c(=O)n2Cc4cccc...\n",
              "Name: SMILES, Length: 4550, dtype: object"
            ]
          },
          "metadata": {},
          "execution_count": 49
        }
      ]
    },
    {
      "cell_type": "code",
      "source": [
        "revised_decoy_df[\"SMILES\"] = [NeutraliseCharges(x)[0] for x in revised_decoy_df[\"SMILES\"]]"
      ],
      "metadata": {
        "id": "EVhYzNUWyTkS"
      },
      "execution_count": 67,
      "outputs": []
    },
    {
      "cell_type": "code",
      "source": [
        "revised_decoy_df[\"SMILES\"]"
      ],
      "metadata": {
        "colab": {
          "base_uri": "https://localhost:8080/"
        },
        "id": "fIGNR82cyTmi",
        "outputId": "ee89fc21-3645-4cea-9218-21fd5454154f"
      },
      "execution_count": 68,
      "outputs": [
        {
          "output_type": "execute_result",
          "data": {
            "text/plain": [
              "0                              C1COCCNC(=S)NCCOCCNC(=S)N1\n",
              "1                 c1cc(ccc1[C@H]2c3ccc(cc3OC(=C2C#N)N)N)O\n",
              "2       C[C@]12CC[C@H](C[C@@H]1CC[C@@H]3[C@@H]2C(=O)C[...\n",
              "3       Cc1ccc2c(c1)cc(c(=O)[nH]2)[C@@H]3c4c(n[nH]c4OC...\n",
              "4       Cc1cc2cc(c(=O)[nH]c2cc1C)[C@@H]3c4c(n[nH]c4OC(...\n",
              "                              ...                        \n",
              "4545    CCOc1ccc(cc1[N+](=O)[O-])C(=O)OCCSc2cc(c(c(c2)...\n",
              "4546    Cc1cc(cc(c1NC(=O)c2ccccc2)C)SCCOC(=O)c3cc(ccc3...\n",
              "4547    CCc1ccc(cc1)O[C@@H](C)c2nnc(n2C)SCC(=O)Nc3c(c4...\n",
              "4548    C=CCSc1ccccc1NC(=O)CSc2nnc(n2c3ccccc3)c4ccc(cc...\n",
              "4549    CCc1cccc(c1)NC(=O)CSc2nc3c(nn(c3c(=O)n2Cc4cccc...\n",
              "Name: SMILES, Length: 4550, dtype: object"
            ]
          },
          "metadata": {},
          "execution_count": 68
        }
      ]
    },
    {
      "cell_type": "code",
      "source": [
        "PandasTools.AddMoleculeColumnToFrame(revised_decoy_df,\"SMILES\",\"Mol\")\n",
        "add_property_columns_to_df(revised_decoy_df)"
      ],
      "metadata": {
        "id": "dfi-pHYf2Pvs"
      },
      "execution_count": 69,
      "outputs": []
    },
    {
      "cell_type": "code",
      "source": [
        "revised_decoy_df"
      ],
      "metadata": {
        "colab": {
          "base_uri": "https://localhost:8080/",
          "height": 1000
        },
        "id": "8L39r1vN2xQM",
        "outputId": "c60ed475-38e2-455a-fdf9-60b60eedf5d9"
      },
      "execution_count": 70,
      "outputs": [
        {
          "output_type": "execute_result",
          "data": {
            "text/plain": [
              "                                                 SMILES         ID  label  \\\n",
              "0                            C1COCCNC(=S)NCCOCCNC(=S)N1  C03897368  Decoy   \n",
              "1               c1cc(ccc1[C@H]2c3ccc(cc3OC(=C2C#N)N)N)O  C00242247  Decoy   \n",
              "2     C[C@]12CC[C@H](C[C@@H]1CC[C@@H]3[C@@H]2C(=O)C[...  C04096778  Decoy   \n",
              "3     Cc1ccc2c(c1)cc(c(=O)[nH]2)[C@@H]3c4c(n[nH]c4OC...  C00421469  Decoy   \n",
              "4     Cc1cc2cc(c(=O)[nH]c2cc1C)[C@@H]3c4c(n[nH]c4OC(...  C00421479  Decoy   \n",
              "...                                                 ...        ...    ...   \n",
              "4545  CCOc1ccc(cc1[N+](=O)[O-])C(=O)OCCSc2cc(c(c(c2)...  C57324840  Decoy   \n",
              "4546  Cc1cc(cc(c1NC(=O)c2ccccc2)C)SCCOC(=O)c3cc(ccc3...  C57324854  Decoy   \n",
              "4547  CCc1ccc(cc1)O[C@@H](C)c2nnc(n2C)SCC(=O)Nc3c(c4...  C13871253  Decoy   \n",
              "4548  C=CCSc1ccccc1NC(=O)CSc2nnc(n2c3ccccc3)c4ccc(cc...  C59791396  Decoy   \n",
              "4549  CCc1cccc(c1)NC(=O)CSc2nc3c(nn(c3c(=O)n2Cc4cccc...  C64817272  Decoy   \n",
              "\n",
              "                                                   Mol       mw     logP  \\\n",
              "0     <rdkit.Chem.rdchem.Mol object at 0x7f058cd4a120>  292.430 -1.03860   \n",
              "1     <rdkit.Chem.rdchem.Mol object at 0x7f058cce8ba0>  279.299  2.19258   \n",
              "2     <rdkit.Chem.rdchem.Mol object at 0x7f058cce8eb0>  366.498  1.65330   \n",
              "3     <rdkit.Chem.rdchem.Mol object at 0x7f058cce8f20>  333.351  2.08622   \n",
              "4     <rdkit.Chem.rdchem.Mol object at 0x7f058cce8970>  347.378  2.39464   \n",
              "...                                                ...      ...      ...   \n",
              "4545  <rdkit.Chem.rdchem.Mol object at 0x7f058cc6dd60>  494.569  5.81174   \n",
              "4546  <rdkit.Chem.rdchem.Mol object at 0x7f058cc6ddd0>  519.623  6.01324   \n",
              "4547  <rdkit.Chem.rdchem.Mol object at 0x7f058cc6de40>  528.700  5.36530   \n",
              "4548  <rdkit.Chem.rdchem.Mol object at 0x7f058cc6deb0>  503.609  5.85140   \n",
              "4549  <rdkit.Chem.rdchem.Mol object at 0x7f058cc6df20>  491.617  4.27142   \n",
              "\n",
              "      charge  \n",
              "0          0  \n",
              "1          0  \n",
              "2          0  \n",
              "3          0  \n",
              "4          0  \n",
              "...      ...  \n",
              "4545       0  \n",
              "4546       0  \n",
              "4547       0  \n",
              "4548       0  \n",
              "4549       0  \n",
              "\n",
              "[4550 rows x 7 columns]"
            ],
            "text/html": [
              "\n",
              "  <div id=\"df-e6814036-6a5e-4937-95c6-4047e4d14077\">\n",
              "    <div class=\"colab-df-container\">\n",
              "      <div>\n",
              "<style scoped>\n",
              "    .dataframe tbody tr th:only-of-type {\n",
              "        vertical-align: middle;\n",
              "    }\n",
              "\n",
              "    .dataframe tbody tr th {\n",
              "        vertical-align: top;\n",
              "    }\n",
              "\n",
              "    .dataframe thead th {\n",
              "        text-align: right;\n",
              "    }\n",
              "</style>\n",
              "<table border=\"1\" class=\"dataframe\">\n",
              "  <thead>\n",
              "    <tr style=\"text-align: right;\">\n",
              "      <th></th>\n",
              "      <th>SMILES</th>\n",
              "      <th>ID</th>\n",
              "      <th>label</th>\n",
              "      <th>Mol</th>\n",
              "      <th>mw</th>\n",
              "      <th>logP</th>\n",
              "      <th>charge</th>\n",
              "    </tr>\n",
              "  </thead>\n",
              "  <tbody>\n",
              "    <tr>\n",
              "      <th>0</th>\n",
              "      <td>C1COCCNC(=S)NCCOCCNC(=S)N1</td>\n",
              "      <td>C03897368</td>\n",
              "      <td>Decoy</td>\n",
              "      <td style=\"text-align: center;\"><div style=\"width: 200px; height: 200px\" data-content=\"rdkit/molecule\"><img src=\"data:image/png;base64,iVBORw0KGgoAAAANSUhEUgAAAMgAAADICAIAAAAiOjnJAAAABmJLR0QA/wD/AP+gvaeTAAATRklEQVR4nO3de1BTZ94H8G+4GG4BJBcgAaFekNaqhdixIt6nWl072B0o+na6b9fdonWmM513u9p9Z9pOO269tDvjrFDBtrav07fV1su6Km4vzPadXt63s00UtUIEuaOEhBCMIBo4z/vHiQmgBKs85zlJns/wRw45+vzI+fJ7Dic55ygIIeC48RbGugAuOPFgcVTwYHFU8GBxVPBgcVTwYHFU8GBxVPBgcVTwYHFU8GBxVPBgcVTwYHFU8GBxVPBgcVTwYHFU8GBxVPBgcVTwYHFU8GBxVPBgcVTwYHFU8GBxVPBgcVTwYHFU8GBxVPBgcVTwYHFU8GBxVPBgcVTwYHFU8GBxVESwLiBAdHTgX/8CgLlzodOxriYA8I51F44fR14ezGaYTFiwAKdOsS4oACj4Ff3GMDCAadNw6hSyswHg55+xejXq6hDBm70/vGONpakJ0dGeVAGYMQMTJqC5mWlNAYD/2t3m8mWYTJ4vhwNlZYiJGbZCXByuXYPRiOhoGI2erwcfRBj/LfUJ+alQEHDxIkwmzy7U6dO4etX3bFgYmpuRk4PWVkRFAcD160hPx9mzSE+HIPjWjI9HTg6MRuTmwmhEVlaI5ywUg3X58mXTLav7+zd8/fWwp1NTfX1ozhykpmLDBoSHY8cOANi8GQoF3n0XTifOn/f1tpoaDHkln1u8uN7tNt6SnZ0dHh4u7U/JWPAHy+12X7x48cKFCz///LPJZPr++++7u7u9zy5KT/9GofDESGw2tx9NcLuxcye++goKBZYvxx//eIc9985OX9szmR4QhKa2Nu+TcXFxs2fPNhqNM2bMeOihh+bMmRMl9r/gFczBEgShsLCwsrLyxo0bQ7+fmZmZm5sr9pLc3FytVjvuQ9tsNrPZLDZFs9nc1NQ09FmlUrlq1apDhw6FBe90GbTBqq+vX79+/bfffgtAr9fn5eV5w6RWqyUupquryxuyH3744fLlywAWLFiwb9++qVOnSlyMREjQEQShoqIiLi4OgE6ne/XVV1lXNNKbb75pMBgAREdHb9++fWBggHVF4y/YgtXQ0LBkyRLxd6aoqMhut7Ou6M6cTmdJSYlYZ15ensViYV3ROAueYA1tVMnJyUeOHGFd0dgqKyvT0tK8rWtwcJB1ReMmSIIVKI3qdt3d3UHZugI+WIHYqG538uTJoXtdQdC6AjtYjY2NS5cu9TYqm83GuqJ7N7R1zZ8//+LFi6wrui+BGqwRjerw4cOsKxofQdO6AjJYwdSobhccrSvAgiU2KpVKJR6jOnToEOuKaDlx4oRerwcQExMTiK0rkILV2Ni4bNmyYG1UtxvauvLz8wOrdQVGsEKnUd0uQFtXAATru+++e/jhh72NqrOzk3VFUnM4HN7WNX369G+++YZ1RWOTe7AsFktMTAyApKSkzz//nHU5LB0/flz8IEZMTIz8j6PKOliCIKxYsQJAenp6TU0N63LYq6mpmTRpEoAVK1YIgsC6HH9kHay9e/cCUKvVHR0drGuRi87OTp1OB+C9995jXYs/8g1WW1tbYmIigAMHDrCuRV4+/fRTAPHx8c3NzaxrGZVMgyUIwhNPPAGgoKCAdS1yVFhYCGDZsmWynRBlGqyKigoAGo2GT4J3ZLPZxAlx7969rGu5MzkGyzsJHjx4kHUt8nXgwAE5T4iyC5b3L0E+CY5JnBCXLl0qwwlRdsHav79GpYrXarVWq5V1LXJntVq1Wq1KZdi/X3ZNS17BamoiKhXR65uPHv0n61oCw9Gj3+v1bpWKNDWxLmU4GZ3XRgg2bIDLhfz8SWvWLGZdTmBYsyZv/vwIlwvr10NeJ/KxTrbPnj0EIBoN4XPgL2KzkeRkApDyctalDCGXE1abmjBrFlwufP45CgtZVxNojh3DmjWIjUV1NaZMYV0NAJlcH8s7CRYX81Tdi4ICPP00envx/POymRBZt0xCCCkr45Pg/fJOiO++y7oUQogcpkI+CY4XWU2I7KfCrVv5JDg+CgpQXIzeXmzbxroUOVwqsrQUBgNefJF1HUGhtBTTp+NPf2JdByjvY/35z+Ttt32LOh25eZNs2kRmzSI3bxJCSHU1WbiQagmhaOFCsm6d5/Enn5BNm0hvLzEYfCu89RbZuZNuDXSnwsFBDA76Ft1uz98sN2+itJTqyKHu9Gl8+aVvkRC43b7FEduFBjb7WJs3o6wMwy9zx42nbdvw0kvo72dWAPVg7d6NOXM8X97rEatUePVV/OEPtAcPXdnZWL162F68w+HbEHv2UC+A+s77iy9iyxbP46Qk3/d/8xt88AFGXLCYG0evvYacHKxf71lMSsJPP3keb91KfXRmhxsUCpSVYft2VuMHv7g4bNuGt99mMzrL41gzZ+LZZxmOH/wKCzFvHpuh6R557++HQgGl0rPY04OEBPT14cIFTJ2KxEQMDOD6dahU9EoIRS4XYmIQHg6nE3V1mDEDMTGeF180YrvQwOYtHZ0OdjtaW2EwSD94qGhvR3o6NBp0djIYncFU2NwMmw1qNU8VXQYDNBrYbGhpYTA6g2CZTAAwZ470I4ec3Fzg1gsuMWbBMhqlHznkiC8yDxY3zkIrWGYzwIMlCfFF9h4XlZLUwWpthc0GjQaTJkk8cijKyIBWC7sdQ25xJxGpg8XnQYnl5AAsZkMerCDHajdL6mC1tXXFxnp+jTgJ5OYiNra3tfWCxONKfeQ9JSXFbu+ur2/IzOSHR6XQ1NQ2dWqmeEEoKceVtGO1tbVZrdaEhLiMDL2U44ayjAxDYmKi1Wptb2+XclxJg2UymQAYjUaFQiHluKFMoVDk5OTg1osvGTbBknJQTnzBebC4cRb8wTKbzeDBkpz4gv8k7QF4f38VEjLY3f3Z9evnIiK0avUzERG6+xmpvb09LS1t4sSJXV1dfB9LSoQQjUbjcDja29vF2/Lcj97e/+3p+YdCEZ6Q8GRMzKjHjfydTNHRsbWv74xWu7G/v3Zw0GW17rLb9/pZv65u7saNP4727M2bN8H33FkQ99+rqqqys7MnTJgw2mrl5XOnTRt18wHQaEoSE59qanrOYNg+OHjN7b4M3FOwrl37XqPZEB+/Ij5+BQBBuDYw0OVnfUHo7erytwL4PMiI0WisqqpyuVx+1hGE3rG277Xe3v+LjZ2XmPjUmCP6C1ZS0rMtLS/09Zk1mvVK5RSDYVtq6mt+1s/OVthso06sK1euNJvNycnJY9bEjbuUlJSwsLDc3NxTp06Ntk50tEKp9He0PCws2u2+3NGxrbHxWY1mvUq1xM/K/oKlVj+rUi10OP7bYlnwwAOfREVNc7ttftbv6Qnv7Bz1zO0bN24IghARwf4yJCEoIiJCEIQbN260jf45B50uPDHR34n3kZFapXLajBkWp/NIW9t/JCT8Sq8f9QTFMTbzhAkZKSn/qVAonc4jADo7d/tZ+dKlRcXF/+P/P2xoaPC/AkfDpUuXAJw7dy5n9LdpDx5cNGWKv82n072Ynv7X8HCVWv3vsbGP1dU9cY/BstvfVyqnhIVFO51HNZoSt7sjOnq2n/WVSsPs2aOu4HK5GhoaJD6awonEl33y5Mmq0U+1UyoN/rdvZGSay1U1MNCtVE5xOD6OjX3Uz8r+DjdcvfrF1atfDA5eU6kWJyX9213U74/dbtdqtXFxcT09PWFh7C/4FjoEQUhMTHS5XJ2dneKtNO9Zf7/F4fjU7W5VKrO02hfCw+NHW1PSTzdkZGS0tLTU1tZOnz5dskG52traBx98MCMjo0nC6/tI2jmYvLfAMXknTdJg5ebmggdLcuILLr74kuEdK/gx6ViS7mOJt29UqVROp5Pvv0tDEISJEydevXrVarWK986UhqRbV6vVpqenR0Yq6+uvSDluKKuv74iISElPT5cyVZD+ZIpFi047HDaTiX/gXSImk97hsCxaVCfxuFIHKytLDUYnfYcm8VNY06fTvBbWnUgdLIZXEwhNrE7klPr0L6sVKSmIj0d3N/juO22EYOJE9PTgyhWkpEg6tNTbNjkZBgOuXsWlSxKPHIrq6tDTg7Q0qVMFJleb4bOhZBhe0IAHK5jxYHFUMAwWg6smi/vvCQno7gY/r4IeQpCUBKeTwZ47mHSs5GTo9SAEV/jhd5quXIEgQK9nkCrQDpbNBrvdt1hTA0LQ0oK//x1OJ/R6XL8Oi4VqCaHIYoHNBr0eTie+/hotLSAEtbW+FWw22PydvTAO6AarvBwffOBbnD8fbjd27MCTT3ruBFZXh5ISqiWEopIS/PrXIAQKBc6cwY4d6OvDokW+FSoqhm0XGtgco8zKwuuvMxk5VISHU4+Of9RPxurowNmznsfeu3pu3Ii33oLZDH4yGCVvvonf/hYFBb7vDAz4NoTVSv22INQ37HffoafH89h7w8+ICOzahRdeQEUF7fFDlE6Hl17C5s1Yvtzznb4+7NrleVxdjaIiugVQD1Zhoe9GmH/7m+/7S5diyhTs3097/NC1aRPmzkViomcxPh779nkeB/ONMAH85S/4+GOG4we58HCUlqK8nM3odIM1caLvNwZARgYUCmg0iI0FgNRUvPEG7vu6OtxIej0iIwHgscewcSM0GoSFISPDt0Ji4rDtQgOb+xUO1dWFzZvx+uv8XhXjoKUFb7yBnTuhVjOuhP1fZa+8gn370NqKL77g7/DcF0Lw+9/jq68QFob33mNcDPuOZbdjxgx0dqKigh8svS8VFZ6J7/x5ML9aFPtgAfjsMxQXIzYWZ89i8mTW1QSm5mbMnAmXC599Rv1Qwt2QxaeDn34aRUXo7cXzz0MGOQ88hGDDBrhcKCiQRaoAgMiDzUaSkwlAystZlxKA9uwhANFoSEcH61JukcVUKDp2DGvWIDYW1dWYMoV1NYFDbpOgSBZToUhs4729KCnhE+LdIgQlJXC5PLsT8iGjYAEoK4NOh/b26x9+eJx1LYHhww8PNTef0elQWsq6lBFYz8UjHT/eEBkZo1KpGhsbWdcid42NjSqVKjIy8vjxGta1jCS7YBFCiouLASxZskQQBNa1yJcgCMuXLwewdu1a1rXcgRyDZbfbxcvBl5WVsa5FvkpLSwFotVqr1cq6ljuQY7AIIceOHQMQGxtbV1fHuhY5EidBAIcOHWJdy53JNFiEkLVr1wJYvHgxnxBHEATh8ccfB7Bu3TrWtYxKvsGy2+0pKSkASktLWdciL7t375bzJCiSb7DIrQkxJiaGT4heDQ0NcXFxcp4ERbIOFiFk3bp1ANRqdVVVFeta2KuqqlKr1TKfBEVyD1Zra2t8fDyA6OjoXbt2DQ4Osq6IjcHBwV27dkVHRwOIj49vbW1lXdEY5B4sQkhTU9OqVavEw7l5eXm1tbWsK5JaQ0PDkiWee7gtXLiwvr6edUVjC4BgiSorK9PS0sTWtX379oGBAdYVSUEQhIqKCnGnKjk5+ejRo6wrulsBEyxCiNPpLLn1GdO8vDyLxcK6IrqGNqqioiK73c66ol8gkIIlqqysNBgM3tYVlHtdIxrVkSNHWFf0iwVesAgh3d3dQdy6ArpReQVksEQnT54MstY1olEdPnyYdUX3LoCDRYa3rvnz51+8eJF1RfeusbFx6dKl3kZls9lYV3RfAjtYokBvXcHUqLyCIVgkkFtXY2PjsmXLgqZReQVJsEQnTpzQ6/Xi24vyb11ioxI//aLT6WT+3t8vFVTBIsNbV35+vmzfvW5qagrKRuUVbMESeVtXdHT0U0891dvby7oin76+vmeeeUbcowq+RuUlo/MKx1d3d/crr7yyd+9eABEREVlZWcZbHn30UaVSutusDQwMWCwW0xD9/f0AioqKysrKtFqtZJVIKWiDJXr55Zc/+ugjh8Mx9MeMioqaNWuWJ2W5uY88/LDnclLjxe0+c/68yWwWY3T27Nl+70UyAYVCkZSU9Nxzz73zzjvjOajMBHmwRC6Xq7q62tswamtrBUEQn8qePLmmtRXTpsFo9HzNmYOoqGH/vq8PW7fihx8AYNkybNmCCROGrTAwAIsFJpPny2xemZLyj8ZG7/Opqanefjlv3jyNRkP5J2YvJII1Qk9Pz+nTp8WQpff37zh2DLdyBgATJmDmTF/OcnLwu99BpcK2bSAEW7bg+nW8/z5On/Yl6dw53Lzp+x/Cwv6roOCLqCgxSTk5OQkJCdL/mGyFYrBGcrlQXe1LSW2tL2fh4WhpwezZaGuDuFvW34+0NJw7h0mTMDDg+09SU31ZzMtjf0U91thf0Y89lQr5+cjP9yy6XDhzxhOya9dgtSIzE96d/agoZGaiowOrVyMuzpOkRx6BSsWqfHniHWssDQ1YuXLYHX+ysvDll8jMZFZSIJDXRUHkSJzyzp/3LJ47B0KQns60pgDAp8KxRERgzx4UFqK4GAAOHkR5OcLDWZcld3wqvDs2G378EQAeewwhcLDg/vFgcVTwfSyOCh4sjgoeLI4KHiyOCh4sjgoeLI4KHiyOCh4sjgoeLI4KHiyOCh4sjgoeLI4KHiyOCh4sjgoeLI4KHiyOCh4sjgoeLI4KHiyOCh4sjgoeLI4KHiyOCh4sjgoeLI4KHiyOCh4sjgoeLI4KHiyOCh4sjgoeLI4KHiyOiv8HYxuJjk5xKPMAAAD7elRYdHJka2l0UEtMIHJka2l0IDIwMjIuMDkuMwAAeJytTzkOwjAQnJjEuS+EoKBxhdLQ0sY/4AtINLyAOj/gFdAAP0DASyj4ADVU7BIbRdSstJr1zHi8fpyPN1ClaMuh7ptuHIkFoRAWAyjGX9rHirAnyF/x4BYtdoU/BcW0oSMgeiTC9eBJJf1KyEAFIcIIUYw4QZIizZDlKi8qkZeqBAZOgTLP0iSOwkB6LmWN7ubDn+q/nlNNfeXDZn6qD/Pl1WiTWbS2/MXy7LV+5ljjufXqHc9jb8/6ruOpO3d1J1O3TzVbum/52vJmN21ytM0x3ol56zsbz2ef4RthGU1p0yb69gAAAVt6VFh0TU9MIHJka2l0IDIwMjIuMDkuMwAAeJyNVNtuwyAMfc9X+AcScbgE8tg01TRNTaS12z/svf+vGabGjhKxArYAnRhzfEhDuX1OHz8PWpudmobIVMYwDPTtjDHNlfKExsvb+0zn+2l87pyXr/l+I6Q8TO5b7Om+XJ87oDPZLiK5ZKldZ6YzpcmnloHofARiotZ1ISC6dAB0tMguA5P3LroDoOeI7UshQ0a+lGVPs4ok0ffImGOu2bUC2CET3agNnfsfOWxOrxwOs7lR5ULAhqUKSbBMvGRXIR5O17IW0mt11LIMfPOXLt5zxIPU9sDIrK+k14BJH12r+GWeNtL/ewzjMk/yGHK3InlekBNhg82LfMEWRKNg60WIYIuiNsuWRFLg5SC6QTYtDxQHJQMUZ1W5UZxTZUVxXtUPxQVVKBTXq4rY7BAV9Sg7SXGM4jSVmri8fv6BeN78Ap5e5tmB+JZtAAAAiXpUWHRTTUlMRVMgcmRraXQgMjAyMi4wOS4zAAB4nGWOsQrAIAxEf6WjhURMVRTEKbsd/B0/vh1qCM125C7vbnamwXwzD3Z9np+mYznMPqYUCwRoGH1VOmcqCZB8KkT1PV2+UI0VRDQxJd4CCKZZ1yJsj1qhxu2cxDZBSNtRU2QJGhPNP/4rzvUA1rE/u3jm2FkAAAAASUVORK5CYII=\" alt=\"Mol\"/></div></td>\n",
              "      <td>292.430</td>\n",
              "      <td>-1.03860</td>\n",
              "      <td>0</td>\n",
              "    </tr>\n",
              "    <tr>\n",
              "      <th>1</th>\n",
              "      <td>c1cc(ccc1[C@H]2c3ccc(cc3OC(=C2C#N)N)N)O</td>\n",
              "      <td>C00242247</td>\n",
              "      <td>Decoy</td>\n",
              "      <td style=\"text-align: center;\"><div style=\"width: 200px; height: 200px\" data-content=\"rdkit/molecule\"><img src=\"data:image/png;base64,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\" alt=\"Mol\"/></div></td>\n",
              "      <td>279.299</td>\n",
              "      <td>2.19258</td>\n",
              "      <td>0</td>\n",
              "    </tr>\n",
              "    <tr>\n",
              "      <th>2</th>\n",
              "      <td>C[C@]12CC[C@H](C[C@@H]1CC[C@@H]3[C@@H]2C(=O)C[...</td>\n",
              "      <td>C04096778</td>\n",
              "      <td>Decoy</td>\n",
              "      <td style=\"text-align: center;\"><div style=\"width: 200px; height: 200px\" data-content=\"rdkit/molecule\"><img src=\"data:image/png;base64,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\" alt=\"Mol\"/></div></td>\n",
              "      <td>366.498</td>\n",
              "      <td>1.65330</td>\n",
              "      <td>0</td>\n",
              "    </tr>\n",
              "    <tr>\n",
              "      <th>3</th>\n",
              "      <td>Cc1ccc2c(c1)cc(c(=O)[nH]2)[C@@H]3c4c(n[nH]c4OC...</td>\n",
              "      <td>C00421469</td>\n",
              "      <td>Decoy</td>\n",
              "      <td style=\"text-align: center;\"><div style=\"width: 200px; height: 200px\" data-content=\"rdkit/molecule\"><img src=\"data:image/png;base64,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\" alt=\"Mol\"/></div></td>\n",
              "      <td>333.351</td>\n",
              "      <td>2.08622</td>\n",
              "      <td>0</td>\n",
              "    </tr>\n",
              "    <tr>\n",
              "      <th>4</th>\n",
              "      <td>Cc1cc2cc(c(=O)[nH]c2cc1C)[C@@H]3c4c(n[nH]c4OC(...</td>\n",
              "      <td>C00421479</td>\n",
              "      <td>Decoy</td>\n",
              "      <td style=\"text-align: center;\"><div style=\"width: 200px; height: 200px\" data-content=\"rdkit/molecule\"><img src=\"data:image/png;base64,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\" alt=\"Mol\"/></div></td>\n",
              "      <td>347.378</td>\n",
              "      <td>2.39464</td>\n",
              "      <td>0</td>\n",
              "    </tr>\n",
              "    <tr>\n",
              "      <th>...</th>\n",
              "      <td>...</td>\n",
              "      <td>...</td>\n",
              "      <td>...</td>\n",
              "      <td>...</td>\n",
              "      <td>...</td>\n",
              "      <td>...</td>\n",
              "      <td>...</td>\n",
              "    </tr>\n",
              "    <tr>\n",
              "      <th>4545</th>\n",
              "      <td>CCOc1ccc(cc1[N+](=O)[O-])C(=O)OCCSc2cc(c(c(c2)...</td>\n",
              "      <td>C57324840</td>\n",
              "      <td>Decoy</td>\n",
              "      <td style=\"text-align: center;\"><div style=\"width: 200px; height: 200px\" data-content=\"rdkit/molecule\"><img src=\"data:image/png;base64,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\" alt=\"Mol\"/></div></td>\n",
              "      <td>494.569</td>\n",
              "      <td>5.81174</td>\n",
              "      <td>0</td>\n",
              "    </tr>\n",
              "    <tr>\n",
              "      <th>4546</th>\n",
              "      <td>Cc1cc(cc(c1NC(=O)c2ccccc2)C)SCCOC(=O)c3cc(ccc3...</td>\n",
              "      <td>C57324854</td>\n",
              "      <td>Decoy</td>\n",
              "      <td style=\"text-align: center;\"><div style=\"width: 200px; height: 200px\" data-content=\"rdkit/molecule\"><img src=\"data:image/png;base64,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\" alt=\"Mol\"/></div></td>\n",
              "      <td>519.623</td>\n",
              "      <td>6.01324</td>\n",
              "      <td>0</td>\n",
              "    </tr>\n",
              "    <tr>\n",
              "      <th>4547</th>\n",
              "      <td>CCc1ccc(cc1)O[C@@H](C)c2nnc(n2C)SCC(=O)Nc3c(c4...</td>\n",
              "      <td>C13871253</td>\n",
              "      <td>Decoy</td>\n",
              "      <td style=\"text-align: center;\"><div style=\"width: 200px; height: 200px\" data-content=\"rdkit/molecule\"><img src=\"data:image/png;base64,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\" alt=\"Mol\"/></div></td>\n",
              "      <td>528.700</td>\n",
              "      <td>5.36530</td>\n",
              "      <td>0</td>\n",
              "    </tr>\n",
              "    <tr>\n",
              "      <th>4548</th>\n",
              "      <td>C=CCSc1ccccc1NC(=O)CSc2nnc(n2c3ccccc3)c4ccc(cc...</td>\n",
              "      <td>C59791396</td>\n",
              "      <td>Decoy</td>\n",
              "      <td style=\"text-align: center;\"><div style=\"width: 200px; height: 200px\" data-content=\"rdkit/molecule\"><img src=\"data:image/png;base64,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\" alt=\"Mol\"/></div></td>\n",
              "      <td>503.609</td>\n",
              "      <td>5.85140</td>\n",
              "      <td>0</td>\n",
              "    </tr>\n",
              "    <tr>\n",
              "      <th>4549</th>\n",
              "      <td>CCc1cccc(c1)NC(=O)CSc2nc3c(nn(c3c(=O)n2Cc4cccc...</td>\n",
              "      <td>C64817272</td>\n",
              "      <td>Decoy</td>\n",
              "      <td style=\"text-align: center;\"><div style=\"width: 200px; height: 200px\" data-content=\"rdkit/molecule\"><img src=\"data:image/png;base64,iVBORw0KGgoAAAANSUhEUgAAAMgAAADICAIAAAAiOjnJAAAABmJLR0QA/wD/AP+gvaeTAAAcdUlEQVR4nO2deViUVfvH79kYQEAQkHUQUFxTQSVfL0rlFfVVgcsF1FJUxA0VJDfMSjS1UCsly6XcUOtFrUBMFJG01NcN3EVBIWFANgFlH2a5f38cm/ilwCzPw8zU+Vzzx9j1nHu+E985zznnuc99OIgIFArTcHUtgPL3hBqLwgrUWBRWoMaisAI1FoUVqLEorECNRWEFaiwKK1BjUViBGovCCtRYFFagxqKwAjUWhRWosSisQI1FYQVqLAorUGNRWIEai8IK1FgUVqDGorACNRaFFaixKKxAjUVhBWosCitQY1FYgRqLwgrUWBRWoMaisAI1FoUVqLEorECNRWEFaiwKK1BjUViBGovCCtRYFFagxqKwAjUWhRWosSisQI1FYQVqLAorUGNRWIEaqw1KSkokEomuVRge1FhtsGjRoi5dupw7d07XQgwMDj1LpxXy8/O7du3K4/Hy8/Pt7e11LceQoD1Wa2zfvl0ul0+dOpW6Sl1oj9Ui9fX1IpGosrLy2rVr3t7eupZjYNAeq0Xi4+MrKyt9fHyoqzSAGqsFEMXp6QKBIDIyUtdSDBJ6K2yBM2dg9OgiLy+7a9f4fL6u1Rge9H9ZC8TFAYDT5MlAXaURtMd6HY8eQc+eIBSCWAzW1rpWY5DQMdbr+PJLUChg+nTqKo2hPdYr1NSAszNUV8Pt29Cvn67VGCp0APEKVVXg5wc1NdRV2kB7rGbU1cHmzcDhgJ0dzJ1Lh+3aQMdYzYiLg6AgWLsW6uvh1i1dqzFsqLGakZsLffsCAAwYAA8e6FqNYUON1Yzu3V92VBkZ0KePrtUYNnSM1Yz6evjsM1AowMkJwsKgvBzs7HStyVChxnodFRXw7rvw9ClcvQqmprpWY5DQW+HrMDYGsRju3YMlS3QtxVChPVYL3LsHb74JDQ1w6BBMn65rNYYH7bFa4I03YOtWAIDwcHj4UNdqDA9qrJaZPx+mTIHa2hcrVtCNOupCjdUq33xzf8IE9/T0ZcuW6VqKgUGN1SoWFo0ffFCnUHz99dcJCQm6VmNI0MF728TFxUVFRVlaWt64ccPNze211ygUipKSkoKCArFYLBaLCwoKzp8/7+HhsXnz5paa/L2hxmobRJw0aVJiYqK3t3daWlpFRUVeXl5eXt7Tp0+Li4vJmydPntTX1/+lIZfL9fHx+fXXXzkcjk6U6xBqLJWoqqrq169fSUmJTCZr6Rp7e3uRSCQSiaytrc3Nzc3MzOLi4l68eLF169aoqKj2VKsPUGOpyqRJk06cOMHj8bp27eri4uLo6GhhYWFqasrn8+vr6ysrK0tLS4uLi3NycmpqagAgOzs7JycnMDCQz+f/9ttv//rXv3T9DdoXpKhAZWVlhw4dOBxOVlbWrFmzrFtNWba2tvb09Lx16xYiRkREAIC7u/vz5891/SXaFZrLphLffvttXV3df/7zn169ekkkkoqKCqFQ6OTk5ODg4Ojo6O7u7u7uTt5369atY8eOyoZbtmy5dOnSjRs35syZc+zYMR1+hfZG1842AGQyGZnZpaSkIGJRUVFpaanqzR8/fmxhYQEAO3fuZE2j3kGN1Takp/Hw8JDL5ZpFOHLkCAAYGxvfuHGDWW16CzVW27z11lsA8NVXX2kTZO7cucSd1dXVTAnTZ6ix2uDGjRsAYGFh8eLFC23iNDQ09O/fHwCmTp3KlDZ9hj7SaYO4uDgAmDNnDhknaYyxsfHRo0fNzc0TEhIOHDjAjDh9RtfO1mvKysqMjY25XG5ubi4jAfft2wcAHTp0uH//PiMB9RbaY7XGzp07GxsbAwMD3d3dGQkYGho6Y8aMurq68ePHV1RUMBJTT9G1s/WXpqYmJycnADh37hwjASUSSVlZWU1NjY2NDZfL3bBhAyNh9RPaY7XIkSNHioqK3njjjWHDhjEV0MXF5csvv+zYsaNCoaisrGQkrH5CjdUi27dvB4CoqCimchO2b9/e2NhYU1OTm5tra2u7ceNGRsLqJ/SRzp80NjaK/+DixYvXrl2ztrZ+991379y54+DgYGtrq03wS5cuXb9+3dbW9uHDhwCwYMECY2NjhoTrI/9EY1VVVTXPplK+f/LkiUKhUF7m7u4ul8tTUlKmT5/u6+t78uRJbbousmwxderUnTt3CgSC+fPna/9F9Jl/irFkMtncuXMTExPr6+ulUulrrzEyMnJ2dhaJRC4uLp07dz58+HBpaWl6erqZmdmpU6e2bNmycuVKzT69qKgoKSlJIBDIZDKZTDZt2jQyLfg7o+vZQzuRnJxsYmJCvrKVlVXv3r39/PzmzZsXGxsbHx+flpaWm5srk8maN7ly5YpAIOBwOGvWrOFwOHw+/+LFi5p9enR0NABMnjyZ5NtcvXqVie+k1+iTscrK8NtvMSkJFQrGY/v5+QHAokWLGhsbVW9Fxte2trbkziUSiZ49e6buR9fX1xM/EXsNGTJE3QiGiN4YSyLBd97B33/HlBRcu5bZ2Pfv3+dwOKamphUVFWo1lMvlo0aNAoC3336bpID6+/sr1PT97t27AWDQoEF9+/YFgISEBLWaGyh6Y6y7d/GLL16+Dw1lNva8efMAYOHChRq0LS0tdXR0BIAlS5Z06tQJAOLi4tSK0K9fPwB4//33AcDR0bGpqUkDGQaH3hgrPx8//BARUaHAmTMZDNw8q1izCOfPn+fxeFwu96OPPgIAgUBw5coVFdumpaURP40ZMwYANm7cqJkGg0NvjIWIH3yAn36Kixfj2bMokeDWrcjEj3vHjpNCoXD06NHaBFmzZg0A2NnZhYaGAkDXrl1VzGEPCAgAgPfee4/L5QqFQrVSTw0afTIWItbVoUyG5eU4cSIC4IoVWsaTSrFLF7SxKU1Ly9YmjlwuHzFiBAAMGzbMy8sLAIKDg9tsVVdX5+bmZmxsTLL8wsLCtNFgWOiZsRDxxx+xY0dctw4FAuRw8PhxbYIdO4YA6OGBmiYV/0lJSQk5tXDp0qXm5uYAsGfPnjZbyWSyX3/9lWyvIPt2/iHon7F27UIANDPD995DAOzUCfPzNQ721lsIgF9/zYy0U6dOcblcPp+/bt26wYMH//77769e09DQkJ2dffbs2f37969duzYsLIyM/d98801mRBgIerlhdfp0+O476NsX7Ozg7FkYOhR++QV4PHXD3LwJAwaApSWIxWBmxoy06OjozZs3Ozs7JyYmcjicNp8LEfh8/tatWxcvXsyMCENAL41VWwuDBkF2NsyeDadOwbNnV2NjBy9dqm6YmTPh4EFYtgw++4wxaVKpdMiQIWSzzWsvEAqFyudCLi4uIpHIwsKie/fuAwYMYEyEIaCXxgKAzEzw8QGJpGndukU//LDv/v0zZ86Q4bOKIMLMmXD0KGRlAUPpny+5cuXKjBkzioqK+vbtKxKJnJ2dXV1dyRuRSOTg4MDkhxkuur0Tt0ZcXPHgwV5duixZsgQA7Ozsnj59qmLT8HCUyfDxYy2H/hTN0eNEv4iIhY6ON/PzL1++7OvrW1paOm3aNLlc3nqjysqX53bt2AFVVfDsWfto/QdRV1eXlZWVmpp6/PjxVi7T11shAAA8f/7cy8vryZMn4eHhiYmJJSUlGzduXL16tTIjr6xMkJPztlgMhYVQUAD5+VBXB7GxUFgIAgEMHw7PnsHs2br+GoYJyVp7NXGtpKSEeMbBweHp06ctttd1l9kGV69eNTIy4nA4M2fO5HA4XC63eSZn9+7BANj8ZWGB69fj4sVYXo7Dh+Pevbr+AobD48eP+/XrN3jwYCcnJ17Lc3ATE5MePXr4+fnNnj27lWh63WMRNm3atGrVKgDg8XjkVkgy8pydnXv08O7c+TNnZxCJwNUVRCIgu0o3b4aVK+HQIejYEQYPpgeXqISdnV1ZWZnyn1ZWVsoSOs3L6bi6unK5Koyg2uv3oDkKhaJPnz4A4OrqeuXKladPn6qYuCKX46pVaGaG9+6xrdHguXjxIgB06NAhMTExPz9fKpVqGdAwUpNJmfVt27YNHjxY9VZcLhQXQ20tTJkC167RQ3Fag6TkR0VFjR8/npmIjPidVZKTkwHA1dX1L6nDqlBbi716IQDOmcOGNK3JzsYvvtD5okhhYaFAIBAIBGKxmKmYerzc8AfkxxQZGdnKiLIlOnSAo0fB1BT27IHDh1kQpw3l5fDJJxAaCg0NsHOnDoV89dVXUqk0KCjI2dmZsaBMOZQl7t27x+FwzMzMtKnhuXs3AqCtbd2jR4z9IhngxAn88ceX75lOmlUdZUq+6tmLqqDvPRbJA545c2bzwp7qMm8ehIf/3rHjm8HBAY2NjQzK0wprayCzsNpa0N3m1cOHD1dUVAwaNEit8WvbMGhSxlFmFT948EDLUDU1NT169ACAxYsXq9WwqurHgoIlZWVMlw8tLES5HKOicP16nDMHNU2b1h6Skv/9998zG1avjRUbGwsAY8aMYSTa7du3ya72//73v61fKZWW19XdfP48ubb2f3l506RStbd8tYFcjh4e2KsXXriAlZUMB1eHs2fPAoCDg4NEImE2MgMLpHfu3Kmrq/P29ubzmVy8kMvl3bp1e/LkyenTp0ePHs1IzOan4tjb2zc/+sbIqDYo6HZTk7ipKV+haCDXd+o03dFxTWlpnEBg6+AQw4gGAIATJyAwELp0AXd3uHULjh+Ht99mLLg6BAYGnjhxYv369R9++CHDobVx5aNHjyIjI/l8vqWl5fDhwxmcrCLi0aNHQbtaxa+iUCjIOo1yV7SSrl27ZGQAed28aXn/ft9Hj/xLSr5QKCSImJvbdoa7Gvj5vczo53DQ3Bx1dLZAXl4ej8cTCoXk8R+zaNjH/Pbbb1u2bDl58iQicrnchoaG8+fPe3p6fvPNNxMnTtTS6wTlkp1KDxBUIDg42MvLa/bs2SdOnEBEoVAo+oMuXbq4uXXx8HAyMnIxMnLhcv/MN62o2N/YmG1lNUkqLaqtvWJlNUlbHVlZkJ4OpqZQXAyIEBoKWsxLtOHLL7+Uy+UzZsywY+OZl1o2lMvlycnJQ4YMIW2FQmFISMiDBw/KysrIPicACAkJqamp0dLvpFaxpaWl9qEIGRkZAGBlZTV58mQAiIyMVKu5VFp265ZtZqZRXd11baXMm4cAGBaGpqbI4eDDh9oG1Ijq6moy0b558yYb8VU1VmNjY3x8fM+ePYl7bGxsoqOjm2feKRSK7du3k1tMjx49rl+v00bWlClTAGDZsmWI2NDQoE0owvTp0wFg4cKFRkZGPB7vtfsgWqegICIjA+7edZfJNL9z1VdUoKUlcjgYFYUAOG6cxqG0oaSkZPny5QAwbNgwlj6ibWOVl5fHxsYqM27d3Ny2bdtWV/d632RlZXl5eQ0btoLPx5gYVPcZzL1792JiYnr16mVpaSkUCq9cubJt27auXbuqW3PhL5SWlgqFQh6PR7YzqLIl8FUUisasrAEZGZCbG6Sxkk2bNnna2V2eP1/arx8CYGqqxqHapKGhITc3Ny0tLT4+PjY2dt68ef7+/gMHDiR71wDA3Nz8k08+YenTWzNWXl5eZGSk6R8Pb728vOLj49t87t3Y2Lh8uYTDQQAcOlSlvVv37z+MiYnp3bu38gZN1gWGDx8+cOBAAAgK0vxviX/sY54wYQIZTGhcjaix8fHNmxYZGaDZspZMJnN1dQWA999/39LY+FhQEIN1deRy+bJly6ZNmxYQENC/f39SZqIlbGxsSIEuFxcXLX+0LdGisR49ekSezXE4nHHjxp0/f16tuGfPopPTy8y7Q4def01eHm7bhj4+OHz4R+QLW1lZhYSEJCcni8Vi0kdGRUWRocCOHTvUEqCksRHHjMnp3j1ozZqD1tY9BwwYoFkcQkXF9xkZ8L//Dbl9+7a6bZXzXDJI3bVrlzZK/kJgYOBf3CMUCt3d3X18fIKDg6Ojo3fv3p2cnJyRkUGO2MjJySEyxo0bp279HFVorcfy8/MLCQm5p2k2U3k5jh//MrHz88+RjGpSUzEnBzdsQHIrIK8BA+6HhYWdPn26eXf4yy+/kFIcpL8RCoWanXAUH48A6OmJXl5obIwJCdquiZw69SGfz+3Ro4e6EwtyJg+pkmVpaVlbW6ulEiUSiYTs0p44ceLx48czMzPLyspauf7o0aNmZmaRkZHkKeHWrVuZUqKkNWMxsoC0ezfOmYMLF+KCBYiI4eHo6vrST1ZWOGsWpqS0WPtj9erVAGBvbx8SEgIA3bp10+BAG29vBMBVqxAAO3dG7WcCmp2Ko5znknnJCq3LUjTn4MGDAPDGG2+sW7dOlY5AWT9n/fr1HA5HIBBcvnyZQT3Ybo90Fi/Gn37ChAQMD8ePP8YZM/Dnn7HNpwhSqZT8ykePHu3p6QkAU6ZMUetzL1wgeQ0YGIgAGBOj8Tf4f2RnZ5Mh8P79+1u6prS0NDMzMykpKS4ubvny5eRsC3Nzcz6fz+Px8vLymJGCiIje3t7wRwmuzp07q1KCKyYmhlw8e/ZsYOEM2PYzFiLOnat26SuxWGxjYwMAK1euJH/LvepskAgKQgCMjEQeD42MsLhYvU9vBeWpOIcPH05NTd2zZ09MTMysWbNGjBjRo0ePlkptk2Hr2LFjGdPxR1axra0teaiwZs0aVVrJ5XJSPnPo0KGkfo6WM6S/0E7GIh3/48cYEKB2W1IHm8/nf/DBB2TCqOLAWS7HSZPQ2BgXLEAADAlR+6NbJyQkpJWnAtbW1v379w8ICFi0aFFsbOx3332XmppKxsuDBg3SIBu2JYKDgwEgIiKCz+cLBILCwkIVGyrr57z33nuMnwHbftkNn36K0dFYVaVJ26VLlwKASCSaOnUqAPTp06elhbRXKS/HmBjs2BGva71m/heqq6tHjRplbm4+YsSIWbNmxcTE7NmzJzU1NSsrqyV5JSUlZLb78ccfM6JBmVW8YMECAJg2bZpazdPT07lcrrJYIYNnwLafsciYXf0Vb0TEpqYm8lsfM2ZMr169AGCOaknsYWFYVYUVFahCKat2QjnbTU9P1z6a9oW+ydY6JycnMkPy8PDQ8shPQvsZq2tXBMDHjzVsnp+fTxb9Vq1aZWJiEhgY2EoKkVSKBQVYVIRBQRgdjcXFjBdi1goy2/Xze7e8XKs4jBT6lkqlPj4+ZIZEZrvqzpBeS/sZy8MDATAnR/MIP/zwA1nQOnLkCFnTKy8vv3HjxvHjx3ftOrxiBb7zDvr4oEiEfD4CYHg4RkTgli2YnKxfxpJKpaGh3/B4srFjtVp7Z6rQt1gsJgZVzpD27dunuSxEbE9j9eyJAKhljvHChQsBoFOnTr169WqeU2VpadV8oz2Xi46OuGwZRkRgUxOOH69fxkJEsRhtbBAAN2/WPAiDhb5//vnn5jMkPp+fkZGhubL2NFafPgig7abkO3fuCAQCkUikfATUt29ff3//hQsXxsbKDh3C337D33//c8WVnDz/66948KC2+hnn5EnkcJDPx0uXNGlOsoqVhb61f5wcFRU1cODAR48ekWdo27dv1yZa+xmrb18EwDt3NI8glUrJTpKAgIB79+4xlaqlQ5YuRQAUiVD9g1SYL/QtkUgkEklOTg4J+Fjj4TAitqexPD0RALXJKiPzFzc3N0amLfqARIJvvolCIZ48qV7DnJwcklUcFhYGjBb6JplFc+fO1TJO+9VuIEuJbRVOa5ELFy5s2bKFy+Xu37+frOYZNGIxlJXBwIEQEwMKBWRnw8iR0NAAGRnw73//eVlpKYjFUFpa8PhxItn6UVhYmJ+fX1xcbGJi4uPj4+/v/+DBg8jISEZU1dTUkMeO2tfhbT9jkf3xrxQUVonnz5+HhITI5fKYmBimTmjWLUVFkJUFAwfC8+fg6AgpKaBQwDvvwLlzcPAgiMUvX2R37ZAhnMuXo5o35/F4jY2N169f9/LyunTpElOq9uzZU11dPWLECDIt0Ib2M9bIkeDqCpaWAAASCQiFarQNDw/Pz8/39vYmc5a/B8ePQ0EB3L0LERHQsyeUlkJ+PggE8P33oDyp08YGRCLo08d00KCI5ls/7O3tg4ODk5KSJk+efOHCBSMjI+31KBSKr7/+GgBI0VdtYeTG3Cb79+NnnyEifvQRIuKwYdi7N8bEoCpT2v379wOAmZlZjjaLYHrG5csvqw1+9x2eO4eLF2NVFU6ciB9/jAkJeOYMPniA9fWtRaisrCT5qCtXrmREUlJSEgC4ubkx8hyznYy1bRu+8w7m5mJ4ONbVYceOf645eXjgqlXyS5cuvTb9Kzc3l4yoDhw40D5S24fMTCT7sX/6CS9devmQ/tAh3LJFjSDKM2CPM1EIydfXF5hL+ms/Y2VmYlgYhofjkSM4eTJ++CEuWIAODgiAAwc+AwAbGxuSl6w8BJVU6weASZMmtY9Og+OTTz4BgE6dOuVrcTAMIt69e5fD4ZibmzOVldV+xsrJwYQE7NPnZc4dAAqFOGIERkZidPR592ZF/s3NzUl5BZKU7OzszFLC/98AhULh7+8PAEOHDtXmFkaWLSIiIpgS1k7GSk9HsoD36aeYm4uff45DhyKP99JhZmaK4cNHLV++fMWKFT4+PhwOJzMz8+LFiyQL4JdffmkfkQZKWVkZOQdKxRS/V6moqDA1NeVwOA+Z2z2ry2ozZWW4Zw/6++Pbbxcouyt3d/fQ0NDU1NRu3boBwOrVq3Wo0FBQ5rCfOXOmzYvr6+sfPnyYlpa2b98+8qMl99NxjO6e1Yty3LW1tadPn05KSkpJSamqqiL/kcPheHl5kfGpbuUZBGvXrl23bl3nzp1v3bpFcglfPQHg1fPJZsyYsXfvXnd3d7FYfObMmZEjRzImiEGTak9TU1NaWtqiRYssLS35fP6GDRt0rchgUJ4B6+vrK5PJUlJSWvqLC4XCbt26+fr6Tps2bdOmTWR01bt3b2Z3F+pFj/Uqe/funTNnzqhRo1JTU3WtxWAoLS319PQsKSnZsGHDhAkTRo4cSc61s7W1NTExIQd8VFdXv3jxgnRg+fn55EAGDocTGRm5bds2BsXoqbGqqqrs7e0VCkVRUVHnzp11LcdgSE1NHTt2LAAMGjTIxMSksLCwsLCQVMl/FYFA4OTkZGxsPGTIkB07drS0s0gz9NRYADB27NhTp07t2rVr/vz5utZiSEyYMIGsoSuxsrJ69eQSd3d3FxcXZoswNkd/jXXgwIHQ0NARI0aQjDaKishksvj4+CdPnvj6+jo7O7u4uDDbFamI/hrr+fPn9vb2MpmsqKiIlZJzFDbR3zrvlpaWI0eOlMvlP/30k661UNRGf40FAGSP77Fjx3QthKI2+nsrBIDq6mo7O7umpiaxWEyeWlAMBb3usSwsLEaNGqVQKBITE3WthaIeem0s+ONuSGrhUQwIvb4VAkBNTY2dnZ1EIikoKCBlMykGgb73WObm5qNHj1YoFD/++KOutVDUQN+NBQCk5D+dGxoWBmCsgIAAExOTpqamlp55UfQQfR9jEcrLy21tbXWtgqIGhmEsisFhALdCiiFCjUVhBWosCitQY1FYgRqLwgrUWBRWoMaisAI1FoUVqLEorECNRWEFaiwKK1BjUViBGovCCtRYFFagxqKwAjUWhRWosSisQI1FYQVqLAorUGNRWIEai8IK1FgUVqDGorACNRaFFaixKKxAjUVhBWosCitQY1FYgRqLwgrUWBRWoMaisAI1FoUVqLEorECNRWEFaiwKK1BjUViBGovCCtRYFFagxqKwAjUWhRWosSis8H9S0sklnl3qgAAAAm16VFh0cmRraXRQS0wgcmRraXQgMjAyMi4wOS4zAAB4nHu/b+09BiDgZYAARiBWBmI1IG5gZGNIAIkxQ2gmJjYHDSDNzMLmkAGimRmxMdCUsDOAGUxAwyAyHBCaCWaoAIMCiIZpZIfQzAiDUMVxycOMhcuT4mY0x6M6Ecn/KHxGZm5geDEyMTAxZzAxsySwsGYwsbIlsLFnMLFxKHBwKnByaTBxcjNw8zDw8DLw8mUw8fEn8AskCAhmMAkKJQgJJwiLJIiIajCJiCWIiTOISzBISGYwSUolSElnMEnLJMjIZjDJyinIyTMIKTAoKDIIKDGwMyWI8SYI8wMlJBJEWNiY2NlYWZjZ+PiFRcR4WQX4hYUE2SSlpGVkJcTXMUJiEwyUZfq5HI0lEu1BnKj8pw6RXKZg9omYSw42Edr7QWyRn+8cqq+9B7Obn912eMwccADEXmq+xiGSPRrMjpzd76D9iRfMfr12kYNYWjhY/dcb9g4Lv0qAxWMXsDk8PTAdLN54VMdBq9nZDsRu45K1v3R8LVh8y/r+fctfy+wDsVOXP9rfMXEZmH2tQvzAmqs3wWomXSs7MPMOxD1LrKcfuKLtBja/j+PogcmFmmD2rLajB/Y+nQRWM5V9xoGKFIhfmL+2HJD9ZwL2o//EhQdyVn4Bs716tA5854aEg1o6y4HF0QIOIPYqVZH9kvHSYHZO5UK7a5PngNVclnxuf3jWJjCbd5OkA1uaIVjN608H7E2r68DsHXd6bfaXF4PZVcUJ+8vdFoDZV/f27zsZdAbMjl365oD3xD6wH6eo8hzs408Hu/Pwu/YD76dMAPtFDACM47NVP24DkgAAAyl6VFh0TU9MIHJka2l0IDIwMjIuMDkuMwAAeJx9Vltu3DAM/N9T6AJriA+J1GeSDYqiyAZo0t6h/70/OpQT2QGI2jEha0f0kEMSuZS4ft5+/Plb1sW3y6WU+p+/MUb5LbXWy0uJRXl8/vb9Xp7eHx4/d55ef93f34q0Io4zuL9iH95fXz53qDwV33obQ0apm9tga1jUeR0nGTjbqA9Xwc9WjXwkOAGub83EuZdr3XofQplDnQ6126itXAlfFhNJgG16dHzPvVxl41ZZLAF2ANsmToghgMosrAnQANRN3YykXHljnKg9Afr0WB3MagTjSlopAY5yL7yNYZ0sPIpDJk6ABHWApCoN2iBs8tYsI0lUXoHsY7QW+aNRB7YTYEiDRJOocriUZr1nLBHtW4TBXjsyiBU1ZChLOoU88GUQGqoAKgxspjjUvc+Ye7dW56FKnkpJIRGU8dZd+4fqg9OoQqSrbsa9RvJlq6MrZ5VEHgQ6gjEeGlS6GrKaQccHFG6dZv7VumTac/0g0OpYpYzSy6C0Q6kpRNq7o+ZIhqhXlJT6QDXTNog0jZ9lz2rv6iR7Z9a043hKxVvtgHSUDKNgRpZ+jlZCIM0c/IBUNvRfhuyzptC5gt9pi07qaUAhE2SsDXnEQkYT9Qzos/DRPorGYBQWKj/1OKbHVk0Rt2zoKbYsQzHoYptMUCwoqqrkWSdJdFJ0L4JFEMh+9Z62sfCeIDSIacPUEW+UTgaJOXe1iJd8VgebaxqQTH0chTQInQ7oqNw8/X7bC4nVHFJiBe/kWfTP99uXOb5P9sfX++2Y7HHzMcDxUuSY0xrPMY3jbsfMxUvpx2RVPHbMT8Xjx5QkvI5jFlI855HHYYhOo43mziJHwS7M4gftaZpFkYIhDC2WFDRhaBGlYApDiysFWRhadDEuNAwtxpgKGobPza9heHHmyF6YI6EcGOwszhycYXhxRm9SGF6cOTjD8OLMwRmGF2cOzjC8OHNwhuHFmYMzjJz7gcos91PhUxhZnGXmGaeOOgjOMLI4S3COjlqcJTj7qXYm47M2Ynu+DiUkGM94zxV7rs94//yvBevLP9ULrOXRdmWdAAABm3pUWHRTTUlMRVMgcmRraXQgMjAyMi4wOS4zAAB4nD2SOY4jMQxFrzJhGVAJ3BcUOqp8HMwRlPsEffghVY12YMBfXP5/9H0vXPU5/t7H1/t1/1v0WbyO1b8+dC/q10Xv+/U57vpafL8W/vk+YppmyoAZnuQ6Lp9oGa04OEaOy6Y6B48Tplky7iIxTxwnVh87d1Hs6pMnKZCMSycH+laEiGlcMiXcq4smYbdfNDPdqBWOzGwFgVV6Moaqt2KZqmUIE7JWlQ1kEeoaVjcbV1mjAGNvk6hMUnX17JVhG2cqscb3IrPK2Y+A0WU8Qy30J0yW0VOma+96IleeraFKmd5gYEs6Qcr2wJmIQnu8mQQ+PCGejWARozKram6v6uElCLlF5ymm7D2mOVWcMgIqUQKnsjYDAZSsnuJXVqtCwQUHz+bnPQTQGZ1KChCMvSjcGm/5hPjF5KLDirdiXeC0WU1lo4GLWx3u9F6L2enJQ7SDRRFJ3HwTSOOnVb2odmpxtQccGXAfHdL2FWSS9N9ApmK0r3IT/JwlBCvYeH3/BxfmkTVhkldAAAAAAElFTkSuQmCC\" alt=\"Mol\"/></div></td>\n",
              "      <td>491.617</td>\n",
              "      <td>4.27142</td>\n",
              "      <td>0</td>\n",
              "    </tr>\n",
              "  </tbody>\n",
              "</table>\n",
              "<p>4550 rows × 7 columns</p>\n",
              "</div>\n",
              "      <button class=\"colab-df-convert\" onclick=\"convertToInteractive('df-e6814036-6a5e-4937-95c6-4047e4d14077')\"\n",
              "              title=\"Convert this dataframe to an interactive table.\"\n",
              "              style=\"display:none;\">\n",
              "        \n",
              "  <svg xmlns=\"http://www.w3.org/2000/svg\" height=\"24px\"viewBox=\"0 0 24 24\"\n",
              "       width=\"24px\">\n",
              "    <path d=\"M0 0h24v24H0V0z\" fill=\"none\"/>\n",
              "    <path d=\"M18.56 5.44l.94 2.06.94-2.06 2.06-.94-2.06-.94-.94-2.06-.94 2.06-2.06.94zm-11 1L8.5 8.5l.94-2.06 2.06-.94-2.06-.94L8.5 2.5l-.94 2.06-2.06.94zm10 10l.94 2.06.94-2.06 2.06-.94-2.06-.94-.94-2.06-.94 2.06-2.06.94z\"/><path d=\"M17.41 7.96l-1.37-1.37c-.4-.4-.92-.59-1.43-.59-.52 0-1.04.2-1.43.59L10.3 9.45l-7.72 7.72c-.78.78-.78 2.05 0 2.83L4 21.41c.39.39.9.59 1.41.59.51 0 1.02-.2 1.41-.59l7.78-7.78 2.81-2.81c.8-.78.8-2.07 0-2.86zM5.41 20L4 18.59l7.72-7.72 1.47 1.35L5.41 20z\"/>\n",
              "  </svg>\n",
              "      </button>\n",
              "      \n",
              "  <style>\n",
              "    .colab-df-container {\n",
              "      display:flex;\n",
              "      flex-wrap:wrap;\n",
              "      gap: 12px;\n",
              "    }\n",
              "\n",
              "    .colab-df-convert {\n",
              "      background-color: #E8F0FE;\n",
              "      border: none;\n",
              "      border-radius: 50%;\n",
              "      cursor: pointer;\n",
              "      display: none;\n",
              "      fill: #1967D2;\n",
              "      height: 32px;\n",
              "      padding: 0 0 0 0;\n",
              "      width: 32px;\n",
              "    }\n",
              "\n",
              "    .colab-df-convert:hover {\n",
              "      background-color: #E2EBFA;\n",
              "      box-shadow: 0px 1px 2px rgba(60, 64, 67, 0.3), 0px 1px 3px 1px rgba(60, 64, 67, 0.15);\n",
              "      fill: #174EA6;\n",
              "    }\n",
              "\n",
              "    [theme=dark] .colab-df-convert {\n",
              "      background-color: #3B4455;\n",
              "      fill: #D2E3FC;\n",
              "    }\n",
              "\n",
              "    [theme=dark] .colab-df-convert:hover {\n",
              "      background-color: #434B5C;\n",
              "      box-shadow: 0px 1px 3px 1px rgba(0, 0, 0, 0.15);\n",
              "      filter: drop-shadow(0px 1px 2px rgba(0, 0, 0, 0.3));\n",
              "      fill: #FFFFFF;\n",
              "    }\n",
              "  </style>\n",
              "\n",
              "      <script>\n",
              "        const buttonEl =\n",
              "          document.querySelector('#df-e6814036-6a5e-4937-95c6-4047e4d14077 button.colab-df-convert');\n",
              "        buttonEl.style.display =\n",
              "          google.colab.kernel.accessAllowed ? 'block' : 'none';\n",
              "\n",
              "        async function convertToInteractive(key) {\n",
              "          const element = document.querySelector('#df-e6814036-6a5e-4937-95c6-4047e4d14077');\n",
              "          const dataTable =\n",
              "            await google.colab.kernel.invokeFunction('convertToInteractive',\n",
              "                                                     [key], {});\n",
              "          if (!dataTable) return;\n",
              "\n",
              "          const docLinkHtml = 'Like what you see? Visit the ' +\n",
              "            '<a target=\"_blank\" href=https://colab.research.google.com/notebooks/data_table.ipynb>data table notebook</a>'\n",
              "            + ' to learn more about interactive tables.';\n",
              "          element.innerHTML = '';\n",
              "          dataTable['output_type'] = 'display_data';\n",
              "          await google.colab.output.renderOutput(dataTable, element);\n",
              "          const docLink = document.createElement('div');\n",
              "          docLink.innerHTML = docLinkHtml;\n",
              "          element.appendChild(docLink);\n",
              "        }\n",
              "      </script>\n",
              "    </div>\n",
              "  </div>\n",
              "  "
            ]
          },
          "metadata": {},
          "execution_count": 70
        }
      ]
    },
    {
      "cell_type": "code",
      "source": [
        "new_tmp_df = active_df.append(revised_decoy_df)"
      ],
      "metadata": {
        "id": "jKqLDBNs3H12"
      },
      "execution_count": 71,
      "outputs": []
    },
    {
      "cell_type": "code",
      "source": [
        "sns.violinplot(x=new_tmp_df[\"label\"],y=new_tmp_df[\"charge\"])"
      ],
      "metadata": {
        "colab": {
          "base_uri": "https://localhost:8080/",
          "height": 296
        },
        "id": "N-jhTJBb3jLo",
        "outputId": "0b8d661a-ac9e-4652-e0cc-81c1afda8e62"
      },
      "execution_count": 72,
      "outputs": [
        {
          "output_type": "execute_result",
          "data": {
            "text/plain": [
              "<matplotlib.axes._subplots.AxesSubplot at 0x7f058cdc05e0>"
            ]
          },
          "metadata": {},
          "execution_count": 72
        },
        {
          "output_type": "display_data",
          "data": {
            "text/plain": [
              "<Figure size 432x288 with 1 Axes>"
            ],
            "image/png": "[encoded data removed]"
          },
          "metadata": {
            "needs_background": "light"
          }
        }
      ]
    },
    {
      "cell_type": "code",
      "source": [
        "charged = revised_decoy_df[revised_decoy_df[\"charge\"] != 0]\n",
        "charged.shape[0]/revised_decoy_df.shape[0]"
      ],
      "metadata": {
        "colab": {
          "base_uri": "https://localhost:8080/"
        },
        "id": "Yr85VDiS4UV3",
        "outputId": "8f4dc4ee-4279-4b67-ce5e-c693a0c234e7"
      },
      "execution_count": 73,
      "outputs": [
        {
          "output_type": "execute_result",
          "data": {
            "text/plain": [
              "0.0026373626373626374"
            ]
          },
          "metadata": {},
          "execution_count": 73
        }
      ]
    },
    {
      "cell_type": "code",
      "source": [
        "active_df[\"is_active\"] = [1] * active_df.shape[0]\n",
        "revised_decoy_df[\"is_active\"] = [0] * revised_decoy_df.shape[0]\n",
        "combined_df = active_df.append(revised_decoy_df)[[\"SMILES\",\"ID\",\"is_active\"]]\n",
        "combined_df.head()"
      ],
      "metadata": {
        "colab": {
          "base_uri": "https://localhost:8080/",
          "height": 202
        },
        "id": "XoRCRD5N5CPx",
        "outputId": "5fc4c239-e747-4393-f363-7c93d037f8ad"
      },
      "execution_count": 74,
      "outputs": [
        {
          "output_type": "execute_result",
          "data": {
            "text/plain": [
              "                                              SMILES      ID  is_active\n",
              "0  Cn1ccnc1Sc2ccc(cc2Cl)Nc3c4cc(c(cc4ncc3C#N)OCCC...  168691          1\n",
              "1  C[C@@]12[C@@H]([C@@H](CC(O1)n3c4ccccc4c5c3c6n2...   86358          1\n",
              "2  Cc1cnc(nc1c2cc([nH]c2)C(=O)N[C@H](CO)c3cccc(c3...  575087          1\n",
              "3  Cc1cnc(nc1c2cc([nH]c2)C(=O)N[C@H](CO)c3cccc(c3...  575065          1\n",
              "4  Cc1cnc(nc1c2cc([nH]c2)C(=O)N[C@H](CO)c3cccc(c3...  575047          1"
            ],
            "text/html": [
              "\n",
              "  <div id=\"df-4552a9e5-9505-4a54-83f3-f2f6ea8f15ae\">\n",
              "    <div class=\"colab-df-container\">\n",
              "      <div>\n",
              "<style scoped>\n",
              "    .dataframe tbody tr th:only-of-type {\n",
              "        vertical-align: middle;\n",
              "    }\n",
              "\n",
              "    .dataframe tbody tr th {\n",
              "        vertical-align: top;\n",
              "    }\n",
              "\n",
              "    .dataframe thead th {\n",
              "        text-align: right;\n",
              "    }\n",
              "</style>\n",
              "<table border=\"1\" class=\"dataframe\">\n",
              "  <thead>\n",
              "    <tr style=\"text-align: right;\">\n",
              "      <th></th>\n",
              "      <th>SMILES</th>\n",
              "      <th>ID</th>\n",
              "      <th>is_active</th>\n",
              "    </tr>\n",
              "  </thead>\n",
              "  <tbody>\n",
              "    <tr>\n",
              "      <th>0</th>\n",
              "      <td>Cn1ccnc1Sc2ccc(cc2Cl)Nc3c4cc(c(cc4ncc3C#N)OCCC...</td>\n",
              "      <td>168691</td>\n",
              "      <td>1</td>\n",
              "    </tr>\n",
              "    <tr>\n",
              "      <th>1</th>\n",
              "      <td>C[C@@]12[C@@H]([C@@H](CC(O1)n3c4ccccc4c5c3c6n2...</td>\n",
              "      <td>86358</td>\n",
              "      <td>1</td>\n",
              "    </tr>\n",
              "    <tr>\n",
              "      <th>2</th>\n",
              "      <td>Cc1cnc(nc1c2cc([nH]c2)C(=O)N[C@H](CO)c3cccc(c3...</td>\n",
              "      <td>575087</td>\n",
              "      <td>1</td>\n",
              "    </tr>\n",
              "    <tr>\n",
              "      <th>3</th>\n",
              "      <td>Cc1cnc(nc1c2cc([nH]c2)C(=O)N[C@H](CO)c3cccc(c3...</td>\n",
              "      <td>575065</td>\n",
              "      <td>1</td>\n",
              "    </tr>\n",
              "    <tr>\n",
              "      <th>4</th>\n",
              "      <td>Cc1cnc(nc1c2cc([nH]c2)C(=O)N[C@H](CO)c3cccc(c3...</td>\n",
              "      <td>575047</td>\n",
              "      <td>1</td>\n",
              "    </tr>\n",
              "  </tbody>\n",
              "</table>\n",
              "</div>\n",
              "      <button class=\"colab-df-convert\" onclick=\"convertToInteractive('df-4552a9e5-9505-4a54-83f3-f2f6ea8f15ae')\"\n",
              "              title=\"Convert this dataframe to an interactive table.\"\n",
              "              style=\"display:none;\">\n",
              "        \n",
              "  <svg xmlns=\"http://www.w3.org/2000/svg\" height=\"24px\"viewBox=\"0 0 24 24\"\n",
              "       width=\"24px\">\n",
              "    <path d=\"M0 0h24v24H0V0z\" fill=\"none\"/>\n",
              "    <path d=\"M18.56 5.44l.94 2.06.94-2.06 2.06-.94-2.06-.94-.94-2.06-.94 2.06-2.06.94zm-11 1L8.5 8.5l.94-2.06 2.06-.94-2.06-.94L8.5 2.5l-.94 2.06-2.06.94zm10 10l.94 2.06.94-2.06 2.06-.94-2.06-.94-.94-2.06-.94 2.06-2.06.94z\"/><path d=\"M17.41 7.96l-1.37-1.37c-.4-.4-.92-.59-1.43-.59-.52 0-1.04.2-1.43.59L10.3 9.45l-7.72 7.72c-.78.78-.78 2.05 0 2.83L4 21.41c.39.39.9.59 1.41.59.51 0 1.02-.2 1.41-.59l7.78-7.78 2.81-2.81c.8-.78.8-2.07 0-2.86zM5.41 20L4 18.59l7.72-7.72 1.47 1.35L5.41 20z\"/>\n",
              "  </svg>\n",
              "      </button>\n",
              "      \n",
              "  <style>\n",
              "    .colab-df-container {\n",
              "      display:flex;\n",
              "      flex-wrap:wrap;\n",
              "      gap: 12px;\n",
              "    }\n",
              "\n",
              "    .colab-df-convert {\n",
              "      background-color: #E8F0FE;\n",
              "      border: none;\n",
              "      border-radius: 50%;\n",
              "      cursor: pointer;\n",
              "      display: none;\n",
              "      fill: #1967D2;\n",
              "      height: 32px;\n",
              "      padding: 0 0 0 0;\n",
              "      width: 32px;\n",
              "    }\n",
              "\n",
              "    .colab-df-convert:hover {\n",
              "      background-color: #E2EBFA;\n",
              "      box-shadow: 0px 1px 2px rgba(60, 64, 67, 0.3), 0px 1px 3px 1px rgba(60, 64, 67, 0.15);\n",
              "      fill: #174EA6;\n",
              "    }\n",
              "\n",
              "    [theme=dark] .colab-df-convert {\n",
              "      background-color: #3B4455;\n",
              "      fill: #D2E3FC;\n",
              "    }\n",
              "\n",
              "    [theme=dark] .colab-df-convert:hover {\n",
              "      background-color: #434B5C;\n",
              "      box-shadow: 0px 1px 3px 1px rgba(0, 0, 0, 0.15);\n",
              "      filter: drop-shadow(0px 1px 2px rgba(0, 0, 0, 0.3));\n",
              "      fill: #FFFFFF;\n",
              "    }\n",
              "  </style>\n",
              "\n",
              "      <script>\n",
              "        const buttonEl =\n",
              "          document.querySelector('#df-4552a9e5-9505-4a54-83f3-f2f6ea8f15ae button.colab-df-convert');\n",
              "        buttonEl.style.display =\n",
              "          google.colab.kernel.accessAllowed ? 'block' : 'none';\n",
              "\n",
              "        async function convertToInteractive(key) {\n",
              "          const element = document.querySelector('#df-4552a9e5-9505-4a54-83f3-f2f6ea8f15ae');\n",
              "          const dataTable =\n",
              "            await google.colab.kernel.invokeFunction('convertToInteractive',\n",
              "                                                     [key], {});\n",
              "          if (!dataTable) return;\n",
              "\n",
              "          const docLinkHtml = 'Like what you see? Visit the ' +\n",
              "            '<a target=\"_blank\" href=https://colab.research.google.com/notebooks/data_table.ipynb>data table notebook</a>'\n",
              "            + ' to learn more about interactive tables.';\n",
              "          element.innerHTML = '';\n",
              "          dataTable['output_type'] = 'display_data';\n",
              "          await google.colab.output.renderOutput(dataTable, element);\n",
              "          const docLink = document.createElement('div');\n",
              "          docLink.innerHTML = docLinkHtml;\n",
              "          element.appendChild(docLink);\n",
              "        }\n",
              "      </script>\n",
              "    </div>\n",
              "  </div>\n",
              "  "
            ]
          },
          "metadata": {},
          "execution_count": 74
        }
      ]
    },
    {
      "cell_type": "code",
      "source": [
        "combined_df.to_csv(\"dude_erk1_mk01.csv\")"
      ],
      "metadata": {
        "id": "w5Xro4H06Jxe"
      },
      "execution_count": 75,
      "outputs": []
    }
  ]
}