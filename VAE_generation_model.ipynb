{
  "nbformat": 4,
  "nbformat_minor": 0,
  "metadata": {
    "colab": {
      "provenance": [],
      "authorship_tag": "ABX9TyPf2wVwTzEZx1hHoFYU1QVW",
      "include_colab_link": true
    },
    "kernelspec": {
      "name": "python3",
      "display_name": "Python 3"
    },
    "language_info": {
      "name": "python"
    },
    "accelerator": "GPU",
    "gpuClass": "standard"
  },
  "cells": [
    {
      "cell_type": "markdown",
      "metadata": {
        "id": "view-in-github",
        "colab_type": "text"
      },
      "source": [
        "<a href=\"https://colab.research.google.com/github/qli111/QSAR-COVID-19/blob/main/VAE_generation_model.ipynb\" target=\"_parent\"><img src=\"https://colab.research.google.com/assets/colab-badge.svg\" alt=\"Open In Colab\"/></a>"
      ]
    },
    {
      "cell_type": "code",
      "source": [
        "pip install deepchem\n"
      ],
      "metadata": {
        "colab": {
          "base_uri": "https://localhost:8080/"
        },
        "id": "SoXkqayQxpBn",
        "outputId": "6fc5a858-c869-4d4a-f3b2-becb3532d2b9"
      },
      "execution_count": 4,
      "outputs": [
        {
          "output_type": "stream",
          "name": "stdout",
          "text": [
            "Looking in indexes: https://pypi.org/simple, https://us-python.pkg.dev/colab-wheels/public/simple/\n",
            "Collecting deepchem\n",
            "  Downloading deepchem-2.7.1-py3-none-any.whl (693 kB)\n",
            "\u001b[2K     \u001b[90m━━━━━━━━━━━━━━━━━━━━━━━━━━━━━━━━━━━━━━\u001b[0m \u001b[32m693.2/693.2 KB\u001b[0m \u001b[31m28.1 MB/s\u001b[0m eta \u001b[36m0:00:00\u001b[0m\n",
            "\u001b[?25hCollecting rdkit\n",
            "  Downloading rdkit-2022.9.3-cp38-cp38-manylinux_2_17_x86_64.manylinux2014_x86_64.whl (29.3 MB)\n",
            "\u001b[2K     \u001b[90m━━━━━━━━━━━━━━━━━━━━━━━━━━━━━━━━━━━━━━━━\u001b[0m \u001b[32m29.3/29.3 MB\u001b[0m \u001b[31m47.4 MB/s\u001b[0m eta \u001b[36m0:00:00\u001b[0m\n",
            "\u001b[?25hRequirement already satisfied: pandas in /usr/local/lib/python3.8/dist-packages (from deepchem) (1.3.5)\n",
            "Requirement already satisfied: joblib in /usr/local/lib/python3.8/dist-packages (from deepchem) (1.2.0)\n",
            "Requirement already satisfied: scikit-learn in /usr/local/lib/python3.8/dist-packages (from deepchem) (1.0.2)\n",
            "Requirement already satisfied: numpy>=1.21 in /usr/local/lib/python3.8/dist-packages (from deepchem) (1.21.6)\n",
            "Requirement already satisfied: scipy<1.9 in /usr/local/lib/python3.8/dist-packages (from deepchem) (1.7.3)\n",
            "Requirement already satisfied: python-dateutil>=2.7.3 in /usr/local/lib/python3.8/dist-packages (from pandas->deepchem) (2.8.2)\n",
            "Requirement already satisfied: pytz>=2017.3 in /usr/local/lib/python3.8/dist-packages (from pandas->deepchem) (2022.7)\n",
            "Requirement already satisfied: Pillow in /usr/local/lib/python3.8/dist-packages (from rdkit->deepchem) (7.1.2)\n",
            "Requirement already satisfied: threadpoolctl>=2.0.0 in /usr/local/lib/python3.8/dist-packages (from scikit-learn->deepchem) (3.1.0)\n",
            "Requirement already satisfied: six>=1.5 in /usr/local/lib/python3.8/dist-packages (from python-dateutil>=2.7.3->pandas->deepchem) (1.15.0)\n",
            "Installing collected packages: rdkit, deepchem\n",
            "Successfully installed deepchem-2.7.1 rdkit-2022.9.3\n"
          ]
        }
      ]
    },
    {
      "cell_type": "code",
      "source": [
        "import deepchem as dc\n"
      ],
      "metadata": {
        "colab": {
          "base_uri": "https://localhost:8080/"
        },
        "outputId": "8fbae471-183d-4972-f609-fcbff397b5ab",
        "id": "0KFR-RCsLLhl"
      },
      "execution_count": 5,
      "outputs": [
        {
          "output_type": "stream",
          "name": "stderr",
          "text": [
            "WARNING:deepchem.models.torch_models:Skipped loading modules with pytorch-geometric dependency, missing a dependency. No module named 'torch_geometric'\n",
            "WARNING:deepchem.models:Skipped loading modules with pytorch-geometric dependency, missing a dependency. cannot import name 'DMPNN' from 'deepchem.models.torch_models' (/usr/local/lib/python3.8/dist-packages/deepchem/models/torch_models/__init__.py)\n",
            "WARNING:deepchem.models:Skipped loading modules with pytorch-lightning dependency, missing a dependency. No module named 'pytorch_lightning'\n",
            "WARNING:deepchem.models:Skipped loading some Jax models, missing a dependency. No module named 'haiku'\n"
          ]
        }
      ]
    },
    {
      "cell_type": "code",
      "source": [
        "tasks, datasets, transformers = dc.molnet.load_muv()"
      ],
      "metadata": {
        "id": "HpwMjFotyR_O"
      },
      "execution_count": 6,
      "outputs": []
    },
    {
      "cell_type": "code",
      "source": [
        "train_dataset, valid_dataset, test_dataset = datasets"
      ],
      "metadata": {
        "id": "BpmVEZJ0zrP6"
      },
      "execution_count": 7,
      "outputs": []
    },
    {
      "cell_type": "code",
      "source": [
        "train_smiles = train_dataset.ids"
      ],
      "metadata": {
        "id": "Je0PB0dOzzoq"
      },
      "execution_count": 8,
      "outputs": []
    },
    {
      "cell_type": "code",
      "source": [
        "tokens = set()\n",
        "for s in train_smiles:\n",
        "  tokens = tokens.union(set(s))\n",
        "tokens = sorted(list(tokens))\n",
        "max_length = max(len(s) for s in train_smiles)"
      ],
      "metadata": {
        "id": "GzIfN_4uz6Cl"
      },
      "execution_count": 9,
      "outputs": []
    },
    {
      "cell_type": "code",
      "source": [
        "from deepchem.models.optimizers import ExponentialDecay"
      ],
      "metadata": {
        "id": "8uU4AhZi0Kn0"
      },
      "execution_count": 10,
      "outputs": []
    },
    {
      "cell_type": "code",
      "source": [
        "from deepchem.models.seqtoseq import AspuruGuzikAutoEncoder"
      ],
      "metadata": {
        "id": "xEJ_KGIu0O2F"
      },
      "execution_count": 11,
      "outputs": []
    },
    {
      "cell_type": "code",
      "source": [
        "batch_size = 100"
      ],
      "metadata": {
        "id": "Gl8rbUod0TE1"
      },
      "execution_count": 12,
      "outputs": []
    },
    {
      "cell_type": "code",
      "source": [
        "batches_per_epoch = len(train_smiles)/batch_size"
      ],
      "metadata": {
        "id": "wKU3nn_80Ynk"
      },
      "execution_count": 13,
      "outputs": []
    },
    {
      "cell_type": "code",
      "source": [
        "learning_rate = ExponentialDecay(0.001, 0.95, batches_per_epoch)"
      ],
      "metadata": {
        "id": "e2fZc0VR0bE_"
      },
      "execution_count": 14,
      "outputs": []
    },
    {
      "cell_type": "code",
      "source": [
        "model = AspuruGuzikAutoEncoder(tokens, max_length, model_dir='vae', batch_size=batch_size, learning_rate=learning_rate)"
      ],
      "metadata": {
        "id": "WyoHb1vt0eKc"
      },
      "execution_count": 15,
      "outputs": []
    },
    {
      "cell_type": "code",
      "source": [
        "def generate_sequences(epochs):\n",
        "  for i in range(epochs):\n",
        "    for s in train_smiles:\n",
        "      yield (s, s)"
      ],
      "metadata": {
        "id": "Sjwf5IuZ0tgm"
      },
      "execution_count": 16,
      "outputs": []
    },
    {
      "cell_type": "code",
      "source": [
        "model.fit_sequences(generate_sequences(10))"
      ],
      "metadata": {
        "id": "sffK4AC80x6h"
      },
      "execution_count": 17,
      "outputs": []
    },
    {
      "cell_type": "code",
      "source": [
        "import numpy as np\n",
        "from rdkit import Chem"
      ],
      "metadata": {
        "id": "YNLJkWf-SFqL"
      },
      "execution_count": 18,
      "outputs": []
    },
    {
      "cell_type": "code",
      "source": [
        "predictions = model.predict_from_embeddings(np.random.normal(size=(1000,196)))\n",
        "molecules = []"
      ],
      "metadata": {
        "id": "UeRJ8YZYSLMF"
      },
      "execution_count": 19,
      "outputs": []
    },
    {
      "cell_type": "code",
      "source": [
        "molecules = []\n",
        "for p in predictions:\n",
        "  smiles = ''.join(p)\n",
        "  if Chem.MolFromSmiles(smiles) is not None:\n",
        "    molecules.append(smiles)\n",
        "print()\n",
        "print('Generated molecules:')\n",
        "for m in molecules:\n",
        "  print(m)"
      ],
      "metadata": {
        "colab": {
          "base_uri": "https://localhost:8080/"
        },
        "id": "tplUU3BkSX5X",
        "outputId": "d1a8f0df-2f66-443c-abb1-19d4f47606a9"
      },
      "execution_count": 20,
      "outputs": [
        {
          "output_type": "stream",
          "name": "stdout",
          "text": [
            "\n",
            "Generated molecules:\n",
            "C=C(cccccccccccccccccccccc1)CCCC1\n",
            "Cc1cccccccccccccccCCCCCCCCCC1\n",
            "Cc1cccCCCCCC1\n",
            "C=C(cccccccccccccccccccccccc1CC)CC1\n",
            "Cc1cccccccccccccccccCCCCCCCCCCCC1\n",
            "Cc1cccccccccccccccccccccCCCCCCCCCC1\n",
            "Cc1cccccccccccccccCCCCCCCCCCC1\n",
            "Cc1cccccccccccccccccCCCCCCCCCCC1\n",
            "CC1ccccccCCCCCCCCCCCCCCCCCCCCCCC1\n",
            "Cc1cccccccccccccccccccccCCCCCCCCC1\n",
            "Cc1cccccccCCCCCCC1\n",
            "C=1ccccccccccccccccCCCCCCCC1\n",
            "COC1cCCCCCCC1\n",
            "Cc1cccccCCCCCCCCCCCCCCCCCCCCCCC1\n",
            "C=1ccccccccccccccccccCCCCCCCCCC1\n",
            "Cc1cCcCCCCCCCC1\n",
            "Cc1cCcCCCCCCC1\n",
            "Cc1cccccccccccccccccccCCCCCCCCC1\n",
            "Cc1cccccccccccccccccCCCCCCCCCCC1\n",
            "C=C(cccccccccccccccccccccc1CCC)CC1\n",
            "CC1ccccccccCCCccccCCCCCCCCCCCCCCCC1\n",
            "O=C(cccccccccccccccccccc1C)CC1\n",
            "Cc1cccccccccccccccccCCCCCCCCCC1\n",
            "Cc1cccccccccccccccccccccCCCCCCCCCC1\n",
            "Cc1cccccccccccccCCCCCCCCCCCCCCC1\n",
            "Cc1ccccccccccccccccccccccccccccc1\n",
            "Cc1cccccccccccccccccccCCCCCCCCCC1\n",
            "Cc1cccCCCCCCCCC1\n",
            "Cc1cccccccccccccccccCCCCCCCCC1\n",
            "Cc1cccCCCCCC1\n",
            "Cc1cCCCCCCCC1\n",
            "C=C(cccccccccccccccccc1CC)CC1\n",
            "Cc1cccccccccccccccc11CCCCCC1\n",
            "Cc1cccccccCCCCCCccccccCCCCCCCCCCC1\n",
            "Cc1cccccccccccccccccccccCCCCCCCCC1\n",
            "C=C(cccccccccccccccccccc1CC)CC1\n",
            "Cc1ccccccccccccccccccccccccccc1\n",
            "Cc1cccccccccccccccccccccCCCCCCCCCCCC1\n"
          ]
        }
      ]
    },
    {
      "cell_type": "code",
      "source": [
        "smiles_list = ['C=C(cccccccccccccccccccccc1)CCCC1',\n",
        "'Cc1cccccccccccccccCCCCCCCCCC1',\n",
        "'Cc1cccCCCCCC1',\n",
        "'C=C(cccccccccccccccccccccccc1CC)CC1',\n",
        "'Cc1cccccccccccccccccCCCCCCCCCCCC1',\n",
        "'Cc1cccccccccccccccccccccCCCCCCCCCC1',\n",
        "'Cc1cccccccccccccccCCCCCCCCCCC1',\n",
        "'Cc1cccccccccccccccccCCCCCCCCCCC1',\n",
        "'CC1ccccccCCCCCCCCCCCCCCCCCCCCCCC1',\n",
        "'Cc1cccccccccccccccccccccCCCCCCCCC1',\n",
        "'Cc1cccccccCCCCCCC1',\n",
        "'C=1ccccccccccccccccCCCCCCCC1',\n",
        "'COC1cCCCCCCC1',\n",
        "'Cc1cccccCCCCCCCCCCCCCCCCCCCCCCC1',\n",
        "'C=1ccccccccccccccccccCCCCCCCCCC1',\n",
        "'Cc1cCcCCCCCCCC1',\n",
        "'Cc1cCcCCCCCCC1',\n",
        "'Cc1cccccccccccccccccccCCCCCCCCC1',\n",
        "'Cc1cccccccccccccccccCCCCCCCCCCC1',\n",
        "'C=C(cccccccccccccccccccccc1CCC)CC1',\n",
        "'CC1ccccccccCCCccccCCCCCCCCCCCCCCCC1',\n",
        "'O=C(cccccccccccccccccccc1C)CC1',\n",
        "'Cc1cccccccccccccccccCCCCCCCCCC1',\n",
        "'Cc1cccccccccccccccccccccCCCCCCCCCC1',\n",
        "'Cc1cccccccccccccCCCCCCCCCCCCCCC1',\n",
        "'Cc1ccccccccccccccccccccccccccccc1',\n",
        "'Cc1cccccccccccccccccccCCCCCCCCCC1',\n",
        "'Cc1cccCCCCCCCCC1',\n",
        "'Cc1cccccccccccccccccCCCCCCCCC1',\n",
        "'Cc1cccCCCCCC1',\n",
        "'Cc1cCCCCCCCC1',\n",
        "'C=C(cccccccccccccccccc1CC)CC1',\n",
        "'Cc1cccccccccccccccc11CCCCCC1',\n",
        "'Cc1cccccccCCCCCCccccccCCCCCCCCCCC1',\n",
        "'Cc1cccccccccccccccccccccCCCCCCCCC1',\n",
        "'C=C(cccccccccccccccccccc1CC)CC1',\n",
        "'Cc1ccccccccccccccccccccccccccc1',\n",
        "'Cc1cccccccccccccccccccccCCCCCCCCCCCC1']"
      ],
      "metadata": {
        "id": "dNOJyrxZXpcn"
      },
      "execution_count": 25,
      "outputs": []
    },
    {
      "cell_type": "code",
      "source": [
        "molecules = [Chem.MolFromSmiles(x) for x in smiles_list]"
      ],
      "metadata": {
        "id": "hYP3x7NVY2rP"
      },
      "execution_count": 26,
      "outputs": []
    },
    {
      "cell_type": "code",
      "source": [
        "print(sorted([x.GetNumAtoms() for x in molecules]))"
      ],
      "metadata": {
        "colab": {
          "base_uri": "https://localhost:8080/"
        },
        "id": "2bGBJORoZBr4",
        "outputId": "c9e445f8-8d76-4877-d5e1-8b35b2f2beee"
      },
      "execution_count": 27,
      "outputs": [
        {
          "output_type": "stream",
          "name": "stdout",
          "text": [
            "[11, 11, 11, 11, 12, 13, 14, 16, 24, 24, 25, 25, 26, 27, 28, 28, 28, 29, 29, 29, 29, 30, 30, 30, 30, 30, 30, 31, 31, 31, 31, 32, 32, 32, 33, 33, 33, 35]\n"
          ]
        }
      ]
    },
    {
      "cell_type": "code",
      "source": [
        "good_mol_list = [x for x in molecules if x.GetNumAtoms() > 10 and x.GetNumAtoms() < 50]"
      ],
      "metadata": {
        "id": "iLsMDdjGZQSj"
      },
      "execution_count": 28,
      "outputs": []
    },
    {
      "cell_type": "code",
      "source": [
        "print(len(good_mol_list))"
      ],
      "metadata": {
        "colab": {
          "base_uri": "https://localhost:8080/"
        },
        "id": "eYJzbt6HZlmC",
        "outputId": "d2e56022-c029-47a1-9e9d-dc3524439389"
      },
      "execution_count": 29,
      "outputs": [
        {
          "output_type": "stream",
          "name": "stdout",
          "text": [
            "38\n"
          ]
        }
      ]
    },
    {
      "cell_type": "code",
      "source": [
        "from rdkit import rdBase, Chem"
      ],
      "metadata": {
        "id": "EA3HSGIybOTW"
      },
      "execution_count": 31,
      "outputs": []
    },
    {
      "cell_type": "code",
      "source": [
        "from rdkit.Chem import PandasTools, QED, Descriptors, rdMolDescriptors"
      ],
      "metadata": {
        "id": "nsg1bO7AbQek"
      },
      "execution_count": 32,
      "outputs": []
    },
    {
      "cell_type": "code",
      "source": [
        "qed_list = [QED.qed(x) for x in good_mol_list]"
      ],
      "metadata": {
        "id": "TP_Dx3DuZqtT"
      },
      "execution_count": 33,
      "outputs": []
    },
    {
      "cell_type": "code",
      "source": [
        "final_mol_list = [(a,b) for a,b in zip(good_mol_list, qed_list) if b > 0.5 ]"
      ],
      "metadata": {
        "id": "lNRaFiUUZ7Wu"
      },
      "execution_count": 36,
      "outputs": []
    },
    {
      "cell_type": "code",
      "source": [
        "from rdkit import Chem\n",
        "from rdkit.Chem import AllChem\n",
        "from rdkit.Chem import Draw"
      ],
      "metadata": {
        "id": "NJ8weYqslC3V"
      },
      "execution_count": 38,
      "outputs": []
    },
    {
      "cell_type": "code",
      "source": [
        "from rdkit.Chem.Draw.MolDrawing import MolDrawing, DrawingOptions"
      ],
      "metadata": {
        "id": "GW2ICkUSlEYc"
      },
      "execution_count": 39,
      "outputs": []
    },
    {
      "cell_type": "code",
      "source": [
        "from rdkit.Chem.Draw import IPythonConsole, MolsToGridImage"
      ],
      "metadata": {
        "id": "6PcckBH7mtVE"
      },
      "execution_count": 41,
      "outputs": []
    },
    {
      "cell_type": "code",
      "source": [
        "MolsToGridImage([x[0] for x in final_mol_list],\n",
        "                molsPerRow=3, useSVG=True,\n",
        "                subImgSize=(250, 250),\n",
        "                legends=[f\"{x[1]:.2f}\" for x in final_mol_list])"
      ],
      "metadata": {
        "colab": {
          "base_uri": "https://localhost:8080/",
          "height": 540
        },
        "id": "Cayt3SoRcZyP",
        "outputId": "6caa179c-3d83-4a4e-c28f-dbc62b5fa029"
      },
      "execution_count": 42,
      "outputs": [
        {
          "output_type": "execute_result",
          "data": {
            "text/plain": [
              "<IPython.core.display.SVG object>"
            ],
            "image/svg+xml": "<svg xmlns=\"http://www.w3.org/2000/svg\" xmlns:rdkit=\"http://www.rdkit.org/xml\" xmlns:xlink=\"http://www.w3.org/1999/xlink\" version=\"1.1\" baseProfile=\"full\" xml:space=\"preserve\" width=\"750px\" height=\"500px\" viewBox=\"0 0 750 500\">\n<!-- END OF HEADER -->\n<rect style=\"opacity:1.0;fill:#FFFFFF;stroke:none\" width=\"750.0\" height=\"500.0\" x=\"0.0\" y=\"0.0\"> </rect>\n<path class=\"bond-0 atom-0 atom-1\" d=\"M 205.4,112.5 L 177.4,112.5\" style=\"fill:none;fill-rule:evenodd;stroke:#000000;stroke-width:2.0px;stroke-linecap:butt;stroke-linejoin:miter;stroke-opacity:1\"/>\n<path class=\"bond-1 atom-1 atom-2\" d=\"M 177.4,112.5 L 171.6,85.2\" style=\"fill:none;fill-rule:evenodd;stroke:#000000;stroke-width:2.0px;stroke-linecap:butt;stroke-linejoin:miter;stroke-opacity:1\"/>\n<path class=\"bond-1 atom-1 atom-2\" d=\"M 173.2,112.5 L 167.7,86.9\" style=\"fill:none;fill-rule:evenodd;stroke:#000000;stroke-width:2.0px;stroke-linecap:butt;stroke-linejoin:miter;stroke-opacity:1\"/>\n<path class=\"bond-2 atom-2 atom-3\" d=\"M 171.6,85.2 L 155.2,62.6\" style=\"fill:none;fill-rule:evenodd;stroke:#000000;stroke-width:2.0px;stroke-linecap:butt;stroke-linejoin:miter;stroke-opacity:1\"/>\n<path class=\"bond-3 atom-3 atom-4\" d=\"M 155.2,62.6 L 131.1,48.6\" style=\"fill:none;fill-rule:evenodd;stroke:#000000;stroke-width:2.0px;stroke-linecap:butt;stroke-linejoin:miter;stroke-opacity:1\"/>\n<path class=\"bond-3 atom-3 atom-4\" d=\"M 152.4,65.8 L 129.0,52.3\" style=\"fill:none;fill-rule:evenodd;stroke:#000000;stroke-width:2.0px;stroke-linecap:butt;stroke-linejoin:miter;stroke-opacity:1\"/>\n<path class=\"bond-4 atom-4 atom-5\" d=\"M 131.1,48.6 L 103.3,45.7\" style=\"fill:none;fill-rule:evenodd;stroke:#000000;stroke-width:2.0px;stroke-linecap:butt;stroke-linejoin:miter;stroke-opacity:1\"/>\n<path class=\"bond-5 atom-5 atom-6\" d=\"M 103.3,45.7 L 76.7,54.4\" style=\"fill:none;fill-rule:evenodd;stroke:#000000;stroke-width:2.0px;stroke-linecap:butt;stroke-linejoin:miter;stroke-opacity:1\"/>\n<path class=\"bond-5 atom-5 atom-6\" d=\"M 103.7,50.0 L 78.0,58.3\" style=\"fill:none;fill-rule:evenodd;stroke:#000000;stroke-width:2.0px;stroke-linecap:butt;stroke-linejoin:miter;stroke-opacity:1\"/>\n<path class=\"bond-6 atom-6 atom-7\" d=\"M 76.7,54.4 L 56.0,73.0\" style=\"fill:none;fill-rule:evenodd;stroke:#000000;stroke-width:2.0px;stroke-linecap:butt;stroke-linejoin:miter;stroke-opacity:1\"/>\n<path class=\"bond-7 atom-7 atom-8\" d=\"M 56.0,73.0 L 44.6,98.5\" style=\"fill:none;fill-rule:evenodd;stroke:#000000;stroke-width:2.0px;stroke-linecap:butt;stroke-linejoin:miter;stroke-opacity:1\"/>\n<path class=\"bond-7 atom-7 atom-8\" d=\"M 59.5,75.6 L 48.5,100.2\" style=\"fill:none;fill-rule:evenodd;stroke:#000000;stroke-width:2.0px;stroke-linecap:butt;stroke-linejoin:miter;stroke-opacity:1\"/>\n<path class=\"bond-8 atom-8 atom-9\" d=\"M 44.6,98.5 L 44.6,126.5\" style=\"fill:none;fill-rule:evenodd;stroke:#000000;stroke-width:2.0px;stroke-linecap:butt;stroke-linejoin:miter;stroke-opacity:1\"/>\n<path class=\"bond-9 atom-9 atom-10\" d=\"M 44.6,126.5 L 56.0,152.0\" style=\"fill:none;fill-rule:evenodd;stroke:#000000;stroke-width:2.0px;stroke-linecap:butt;stroke-linejoin:miter;stroke-opacity:1\"/>\n<path class=\"bond-10 atom-10 atom-11\" d=\"M 56.0,152.0 L 76.7,170.6\" style=\"fill:none;fill-rule:evenodd;stroke:#000000;stroke-width:2.0px;stroke-linecap:butt;stroke-linejoin:miter;stroke-opacity:1\"/>\n<path class=\"bond-11 atom-11 atom-12\" d=\"M 76.7,170.6 L 103.3,179.3\" style=\"fill:none;fill-rule:evenodd;stroke:#000000;stroke-width:2.0px;stroke-linecap:butt;stroke-linejoin:miter;stroke-opacity:1\"/>\n<path class=\"bond-12 atom-12 atom-13\" d=\"M 103.3,179.3 L 131.1,176.4\" style=\"fill:none;fill-rule:evenodd;stroke:#000000;stroke-width:2.0px;stroke-linecap:butt;stroke-linejoin:miter;stroke-opacity:1\"/>\n<path class=\"bond-13 atom-13 atom-14\" d=\"M 131.1,176.4 L 155.2,162.4\" style=\"fill:none;fill-rule:evenodd;stroke:#000000;stroke-width:2.0px;stroke-linecap:butt;stroke-linejoin:miter;stroke-opacity:1\"/>\n<path class=\"bond-14 atom-14 atom-15\" d=\"M 155.2,162.4 L 171.6,139.8\" style=\"fill:none;fill-rule:evenodd;stroke:#000000;stroke-width:2.0px;stroke-linecap:butt;stroke-linejoin:miter;stroke-opacity:1\"/>\n<path class=\"bond-15 atom-15 atom-1\" d=\"M 171.6,139.8 L 177.4,112.5\" style=\"fill:none;fill-rule:evenodd;stroke:#000000;stroke-width:2.0px;stroke-linecap:butt;stroke-linejoin:miter;stroke-opacity:1\"/>\n<path d=\"M 171.9,86.6 L 171.6,85.2 L 170.8,84.1\" style=\"fill:none;stroke:#000000;stroke-width:2.0px;stroke-linecap:butt;stroke-linejoin:miter;stroke-opacity:1;\"/>\n<path d=\"M 156.1,63.7 L 155.2,62.6 L 154.0,61.9\" style=\"fill:none;stroke:#000000;stroke-width:2.0px;stroke-linecap:butt;stroke-linejoin:miter;stroke-opacity:1;\"/>\n<path d=\"M 132.3,49.3 L 131.1,48.6 L 129.7,48.5\" style=\"fill:none;stroke:#000000;stroke-width:2.0px;stroke-linecap:butt;stroke-linejoin:miter;stroke-opacity:1;\"/>\n<path d=\"M 104.7,45.9 L 103.3,45.7 L 102.0,46.2\" style=\"fill:none;stroke:#000000;stroke-width:2.0px;stroke-linecap:butt;stroke-linejoin:miter;stroke-opacity:1;\"/>\n<path d=\"M 78.1,53.9 L 76.7,54.4 L 75.7,55.3\" style=\"fill:none;stroke:#000000;stroke-width:2.0px;stroke-linecap:butt;stroke-linejoin:miter;stroke-opacity:1;\"/>\n<path d=\"M 57.0,72.1 L 56.0,73.0 L 55.4,74.3\" style=\"fill:none;stroke:#000000;stroke-width:2.0px;stroke-linecap:butt;stroke-linejoin:miter;stroke-opacity:1;\"/>\n<path d=\"M 45.2,97.3 L 44.6,98.5 L 44.6,99.9\" style=\"fill:none;stroke:#000000;stroke-width:2.0px;stroke-linecap:butt;stroke-linejoin:miter;stroke-opacity:1;\"/>\n<path d=\"M 44.6,125.1 L 44.6,126.5 L 45.2,127.7\" style=\"fill:none;stroke:#000000;stroke-width:2.0px;stroke-linecap:butt;stroke-linejoin:miter;stroke-opacity:1;\"/>\n<path d=\"M 55.4,150.7 L 56.0,152.0 L 57.0,152.9\" style=\"fill:none;stroke:#000000;stroke-width:2.0px;stroke-linecap:butt;stroke-linejoin:miter;stroke-opacity:1;\"/>\n<path d=\"M 75.7,169.7 L 76.7,170.6 L 78.1,171.1\" style=\"fill:none;stroke:#000000;stroke-width:2.0px;stroke-linecap:butt;stroke-linejoin:miter;stroke-opacity:1;\"/>\n<path d=\"M 102.0,178.8 L 103.3,179.3 L 104.7,179.1\" style=\"fill:none;stroke:#000000;stroke-width:2.0px;stroke-linecap:butt;stroke-linejoin:miter;stroke-opacity:1;\"/>\n<path d=\"M 129.7,176.5 L 131.1,176.4 L 132.3,175.7\" style=\"fill:none;stroke:#000000;stroke-width:2.0px;stroke-linecap:butt;stroke-linejoin:miter;stroke-opacity:1;\"/>\n<path d=\"M 154.0,163.1 L 155.2,162.4 L 156.1,161.3\" style=\"fill:none;stroke:#000000;stroke-width:2.0px;stroke-linecap:butt;stroke-linejoin:miter;stroke-opacity:1;\"/>\n<path d=\"M 170.8,140.9 L 171.6,139.8 L 171.9,138.4\" style=\"fill:none;stroke:#000000;stroke-width:2.0px;stroke-linecap:butt;stroke-linejoin:miter;stroke-opacity:1;\"/>\n<path class=\"legend\" d=\"M 114.6 243.8 Q 112.5 243.8, 111.5 242.2 Q 110.5 240.7, 110.5 237.9 Q 110.5 235.2, 111.5 233.7 Q 112.5 232.2, 114.6 232.2 Q 116.7 232.2, 117.7 233.7 Q 118.8 235.2, 118.8 237.9 Q 118.8 240.7, 117.7 242.2 Q 116.7 243.8, 114.6 243.8 M 114.6 242.5 Q 115.8 242.5, 116.5 241.3 Q 117.2 240.2, 117.2 237.9 Q 117.2 235.7, 116.5 234.6 Q 115.8 233.4, 114.6 233.4 Q 113.4 233.4, 112.7 234.6 Q 112.1 235.7, 112.1 237.9 Q 112.1 240.2, 112.7 241.3 Q 113.4 242.5, 114.6 242.5 \" fill=\"#000000\"/>\n<path class=\"legend\" d=\"M 120.4 242.0 L 122.0 242.0 L 122.0 243.6 L 120.4 243.6 L 120.4 242.0 \" fill=\"#000000\"/>\n<path class=\"legend\" d=\"M 127.8 236.5 Q 128.8 236.5, 129.6 237.0 Q 130.4 237.4, 130.9 238.2 Q 131.3 239.0, 131.3 240.0 Q 131.3 241.2, 130.7 242.1 Q 130.2 242.9, 129.3 243.3 Q 128.3 243.8, 127.3 243.8 Q 126.2 243.8, 125.3 243.4 Q 124.3 243.0, 123.7 242.2 L 124.6 241.3 Q 125.1 241.8, 125.9 242.2 Q 126.6 242.5, 127.3 242.5 Q 128.3 242.5, 129.0 241.8 Q 129.7 241.2, 129.7 240.1 Q 129.7 238.9, 129.0 238.3 Q 128.3 237.7, 127.2 237.7 Q 126.2 237.7, 125.1 238.2 L 124.2 237.8 L 124.8 232.3 L 130.6 232.3 L 130.5 233.6 L 126.1 233.6 L 125.8 236.9 Q 126.8 236.5, 127.8 236.5 \" fill=\"#000000\"/>\n<path class=\"legend\" d=\"M 133.3 242.3 L 135.8 242.3 L 135.8 233.9 L 133.1 234.7 L 132.7 233.8 L 136.2 232.2 L 137.3 232.4 L 137.3 242.3 L 139.5 242.3 L 139.5 243.6 L 133.3 243.6 L 133.3 242.3 \" fill=\"#000000\"/>\n<path class=\"bond-0 atom-0 atom-1\" d=\"M 312.1,102.2 L 319.0,110.4\" style=\"fill:none;fill-rule:evenodd;stroke:#000000;stroke-width:2.0px;stroke-linecap:butt;stroke-linejoin:miter;stroke-opacity:1\"/>\n<path class=\"bond-0 atom-0 atom-1\" d=\"M 319.0,110.4 L 325.9,118.6\" style=\"fill:none;fill-rule:evenodd;stroke:#FF0000;stroke-width:2.0px;stroke-linecap:butt;stroke-linejoin:miter;stroke-opacity:1\"/>\n<path class=\"bond-1 atom-1 atom-2\" d=\"M 334.6,122.7 L 346.1,120.6\" style=\"fill:none;fill-rule:evenodd;stroke:#FF0000;stroke-width:2.0px;stroke-linecap:butt;stroke-linejoin:miter;stroke-opacity:1\"/>\n<path class=\"bond-1 atom-1 atom-2\" d=\"M 346.1,120.6 L 357.6,118.5\" style=\"fill:none;fill-rule:evenodd;stroke:#000000;stroke-width:2.0px;stroke-linecap:butt;stroke-linejoin:miter;stroke-opacity:1\"/>\n<path class=\"bond-2 atom-2 atom-3\" d=\"M 357.6,118.5 L 371.6,142.7\" style=\"fill:none;fill-rule:evenodd;stroke:#000000;stroke-width:2.0px;stroke-linecap:butt;stroke-linejoin:miter;stroke-opacity:1\"/>\n<path class=\"bond-3 atom-3 atom-4\" d=\"M 371.6,142.7 L 397.9,152.1\" style=\"fill:none;fill-rule:evenodd;stroke:#000000;stroke-width:2.0px;stroke-linecap:butt;stroke-linejoin:miter;stroke-opacity:1\"/>\n<path class=\"bond-4 atom-4 atom-5\" d=\"M 397.9,152.1 L 424.1,142.5\" style=\"fill:none;fill-rule:evenodd;stroke:#000000;stroke-width:2.0px;stroke-linecap:butt;stroke-linejoin:miter;stroke-opacity:1\"/>\n<path class=\"bond-5 atom-5 atom-6\" d=\"M 424.1,142.5 L 437.9,118.2\" style=\"fill:none;fill-rule:evenodd;stroke:#000000;stroke-width:2.0px;stroke-linecap:butt;stroke-linejoin:miter;stroke-opacity:1\"/>\n<path class=\"bond-6 atom-6 atom-7\" d=\"M 437.9,118.2 L 433.0,90.8\" style=\"fill:none;fill-rule:evenodd;stroke:#000000;stroke-width:2.0px;stroke-linecap:butt;stroke-linejoin:miter;stroke-opacity:1\"/>\n<path class=\"bond-7 atom-7 atom-8\" d=\"M 433.0,90.8 L 411.5,72.9\" style=\"fill:none;fill-rule:evenodd;stroke:#000000;stroke-width:2.0px;stroke-linecap:butt;stroke-linejoin:miter;stroke-opacity:1\"/>\n<path class=\"bond-8 atom-8 atom-9\" d=\"M 411.5,72.9 L 383.6,73.0\" style=\"fill:none;fill-rule:evenodd;stroke:#000000;stroke-width:2.0px;stroke-linecap:butt;stroke-linejoin:miter;stroke-opacity:1\"/>\n<path class=\"bond-9 atom-9 atom-10\" d=\"M 383.6,73.0 L 362.3,91.0\" style=\"fill:none;fill-rule:evenodd;stroke:#000000;stroke-width:2.0px;stroke-linecap:butt;stroke-linejoin:miter;stroke-opacity:1\"/>\n<path class=\"bond-10 atom-10 atom-2\" d=\"M 362.3,91.0 L 357.6,118.5\" style=\"fill:none;fill-rule:evenodd;stroke:#000000;stroke-width:2.0px;stroke-linecap:butt;stroke-linejoin:miter;stroke-opacity:1\"/>\n<path d=\"M 370.9,141.5 L 371.6,142.7 L 372.9,143.1\" style=\"fill:none;stroke:#000000;stroke-width:2.0px;stroke-linecap:butt;stroke-linejoin:miter;stroke-opacity:1;\"/>\n<path d=\"M 396.6,151.6 L 397.9,152.1 L 399.2,151.6\" style=\"fill:none;stroke:#000000;stroke-width:2.0px;stroke-linecap:butt;stroke-linejoin:miter;stroke-opacity:1;\"/>\n<path d=\"M 422.8,142.9 L 424.1,142.5 L 424.8,141.2\" style=\"fill:none;stroke:#000000;stroke-width:2.0px;stroke-linecap:butt;stroke-linejoin:miter;stroke-opacity:1;\"/>\n<path d=\"M 437.2,119.4 L 437.9,118.2 L 437.7,116.9\" style=\"fill:none;stroke:#000000;stroke-width:2.0px;stroke-linecap:butt;stroke-linejoin:miter;stroke-opacity:1;\"/>\n<path d=\"M 433.2,92.1 L 433.0,90.8 L 431.9,89.9\" style=\"fill:none;stroke:#000000;stroke-width:2.0px;stroke-linecap:butt;stroke-linejoin:miter;stroke-opacity:1;\"/>\n<path d=\"M 412.6,73.8 L 411.5,72.9 L 410.1,72.9\" style=\"fill:none;stroke:#000000;stroke-width:2.0px;stroke-linecap:butt;stroke-linejoin:miter;stroke-opacity:1;\"/>\n<path d=\"M 385.0,73.0 L 383.6,73.0 L 382.6,73.9\" style=\"fill:none;stroke:#000000;stroke-width:2.0px;stroke-linecap:butt;stroke-linejoin:miter;stroke-opacity:1;\"/>\n<path d=\"M 363.4,90.1 L 362.3,91.0 L 362.1,92.4\" style=\"fill:none;stroke:#000000;stroke-width:2.0px;stroke-linecap:butt;stroke-linejoin:miter;stroke-opacity:1;\"/>\n<path class=\"atom-1\" d=\"M 326.5 123.5 Q 326.5 121.6, 327.4 120.5 Q 328.3 119.5, 330.1 119.5 Q 331.8 119.5, 332.8 120.5 Q 333.7 121.6, 333.7 123.5 Q 333.7 125.4, 332.8 126.5 Q 331.8 127.6, 330.1 127.6 Q 328.3 127.6, 327.4 126.5 Q 326.5 125.4, 326.5 123.5 M 330.1 126.7 Q 331.3 126.7, 331.9 125.9 Q 332.6 125.1, 332.6 123.5 Q 332.6 122.0, 331.9 121.2 Q 331.3 120.4, 330.1 120.4 Q 328.9 120.4, 328.2 121.2 Q 327.6 121.9, 327.6 123.5 Q 327.6 125.1, 328.2 125.9 Q 328.9 126.7, 330.1 126.7 \" fill=\"#FF0000\"/>\n<path class=\"legend\" d=\"M 364.2 243.8 Q 362.2 243.8, 361.1 242.2 Q 360.1 240.7, 360.1 237.9 Q 360.1 235.2, 361.1 233.7 Q 362.1 232.2, 364.2 232.2 Q 366.3 232.2, 367.4 233.7 Q 368.4 235.2, 368.4 237.9 Q 368.4 240.7, 367.3 242.2 Q 366.3 243.8, 364.2 243.8 M 364.2 242.5 Q 365.5 242.5, 366.1 241.3 Q 366.8 240.2, 366.8 237.9 Q 366.8 235.7, 366.1 234.6 Q 365.5 233.4, 364.2 233.4 Q 363.0 233.4, 362.4 234.6 Q 361.7 235.7, 361.7 237.9 Q 361.7 240.2, 362.4 241.3 Q 363.0 242.5, 364.2 242.5 \" fill=\"#000000\"/>\n<path class=\"legend\" d=\"M 370.1 242.0 L 371.7 242.0 L 371.7 243.6 L 370.1 243.6 L 370.1 242.0 \" fill=\"#000000\"/>\n<path class=\"legend\" d=\"M 377.4 236.5 Q 378.4 236.5, 379.2 237.0 Q 380.1 237.4, 380.5 238.2 Q 381.0 239.0, 381.0 240.0 Q 381.0 241.2, 380.4 242.1 Q 379.8 242.9, 378.9 243.3 Q 378.0 243.8, 376.9 243.8 Q 375.9 243.8, 374.9 243.4 Q 374.0 243.0, 373.3 242.2 L 374.3 241.3 Q 374.8 241.8, 375.5 242.2 Q 376.2 242.5, 377.0 242.5 Q 378.0 242.5, 378.7 241.8 Q 379.4 241.2, 379.4 240.1 Q 379.4 238.9, 378.7 238.3 Q 378.0 237.7, 376.9 237.7 Q 375.9 237.7, 374.8 238.2 L 373.9 237.8 L 374.5 232.3 L 380.3 232.3 L 380.1 233.6 L 375.8 233.6 L 375.4 236.9 Q 376.4 236.5, 377.4 236.5 \" fill=\"#000000\"/>\n<path class=\"legend\" d=\"M 388.3 233.6 L 382.4 233.6 L 382.4 232.3 L 389.9 232.3 L 389.9 233.4 L 385.3 243.6 L 383.8 243.6 L 388.3 233.6 \" fill=\"#000000\"/>\n<path class=\"bond-0 atom-0 atom-1\" d=\"M 519.5,160.6 L 530.1,155.9\" style=\"fill:none;fill-rule:evenodd;stroke:#FF0000;stroke-width:2.0px;stroke-linecap:butt;stroke-linejoin:miter;stroke-opacity:1\"/>\n<path class=\"bond-0 atom-0 atom-1\" d=\"M 530.1,155.9 L 540.8,151.3\" style=\"fill:none;fill-rule:evenodd;stroke:#000000;stroke-width:2.0px;stroke-linecap:butt;stroke-linejoin:miter;stroke-opacity:1\"/>\n<path class=\"bond-0 atom-0 atom-1\" d=\"M 521.1,164.4 L 531.8,159.8\" style=\"fill:none;fill-rule:evenodd;stroke:#FF0000;stroke-width:2.0px;stroke-linecap:butt;stroke-linejoin:miter;stroke-opacity:1\"/>\n<path class=\"bond-0 atom-0 atom-1\" d=\"M 531.8,159.8 L 542.4,155.1\" style=\"fill:none;fill-rule:evenodd;stroke:#000000;stroke-width:2.0px;stroke-linecap:butt;stroke-linejoin:miter;stroke-opacity:1\"/>\n<path class=\"bond-1 atom-1 atom-2\" d=\"M 541.3,153.3 L 555.9,177.2\" style=\"fill:none;fill-rule:evenodd;stroke:#000000;stroke-width:2.0px;stroke-linecap:butt;stroke-linejoin:miter;stroke-opacity:1\"/>\n<path class=\"bond-2 atom-2 atom-3\" d=\"M 555.9,177.2 L 576.3,196.2\" style=\"fill:none;fill-rule:evenodd;stroke:#000000;stroke-width:2.0px;stroke-linecap:butt;stroke-linejoin:miter;stroke-opacity:1\"/>\n<path class=\"bond-2 atom-2 atom-3\" d=\"M 559.1,174.5 L 579.1,193.2\" style=\"fill:none;fill-rule:evenodd;stroke:#000000;stroke-width:2.0px;stroke-linecap:butt;stroke-linejoin:miter;stroke-opacity:1\"/>\n<path class=\"bond-3 atom-3 atom-4\" d=\"M 576.3,196.2 L 601.0,209.1\" style=\"fill:none;fill-rule:evenodd;stroke:#000000;stroke-width:2.0px;stroke-linecap:butt;stroke-linejoin:miter;stroke-opacity:1\"/>\n<path class=\"bond-4 atom-4 atom-5\" d=\"M 601.0,209.1 L 628.4,214.8\" style=\"fill:none;fill-rule:evenodd;stroke:#000000;stroke-width:2.0px;stroke-linecap:butt;stroke-linejoin:miter;stroke-opacity:1\"/>\n<path class=\"bond-4 atom-4 atom-5\" d=\"M 602.5,205.1 L 629.2,210.7\" style=\"fill:none;fill-rule:evenodd;stroke:#000000;stroke-width:2.0px;stroke-linecap:butt;stroke-linejoin:miter;stroke-opacity:1\"/>\n<path class=\"bond-5 atom-5 atom-6\" d=\"M 628.4,214.8 L 656.2,212.9\" style=\"fill:none;fill-rule:evenodd;stroke:#000000;stroke-width:2.0px;stroke-linecap:butt;stroke-linejoin:miter;stroke-opacity:1\"/>\n<path class=\"bond-6 atom-6 atom-7\" d=\"M 656.2,212.9 L 682.5,203.5\" style=\"fill:none;fill-rule:evenodd;stroke:#000000;stroke-width:2.0px;stroke-linecap:butt;stroke-linejoin:miter;stroke-opacity:1\"/>\n<path class=\"bond-6 atom-6 atom-7\" d=\"M 655.4,208.7 L 681.1,199.6\" style=\"fill:none;fill-rule:evenodd;stroke:#000000;stroke-width:2.0px;stroke-linecap:butt;stroke-linejoin:miter;stroke-opacity:1\"/>\n<path class=\"bond-7 atom-7 atom-8\" d=\"M 682.5,203.5 L 705.3,187.4\" style=\"fill:none;fill-rule:evenodd;stroke:#000000;stroke-width:2.0px;stroke-linecap:butt;stroke-linejoin:miter;stroke-opacity:1\"/>\n<path class=\"bond-8 atom-8 atom-9\" d=\"M 705.3,187.4 L 723.0,165.8\" style=\"fill:none;fill-rule:evenodd;stroke:#000000;stroke-width:2.0px;stroke-linecap:butt;stroke-linejoin:miter;stroke-opacity:1\"/>\n<path class=\"bond-8 atom-8 atom-9\" d=\"M 702.5,184.3 L 719.7,163.1\" style=\"fill:none;fill-rule:evenodd;stroke:#000000;stroke-width:2.0px;stroke-linecap:butt;stroke-linejoin:miter;stroke-opacity:1\"/>\n<path class=\"bond-9 atom-9 atom-10\" d=\"M 723.0,165.8 L 734.1,140.2\" style=\"fill:none;fill-rule:evenodd;stroke:#000000;stroke-width:2.0px;stroke-linecap:butt;stroke-linejoin:miter;stroke-opacity:1\"/>\n<path class=\"bond-10 atom-10 atom-11\" d=\"M 734.1,140.2 L 737.9,112.5\" style=\"fill:none;fill-rule:evenodd;stroke:#000000;stroke-width:2.0px;stroke-linecap:butt;stroke-linejoin:miter;stroke-opacity:1\"/>\n<path class=\"bond-10 atom-10 atom-11\" d=\"M 730.0,139.0 L 733.7,111.9\" style=\"fill:none;fill-rule:evenodd;stroke:#000000;stroke-width:2.0px;stroke-linecap:butt;stroke-linejoin:miter;stroke-opacity:1\"/>\n<path class=\"bond-11 atom-11 atom-12\" d=\"M 737.9,112.5 L 734.1,84.8\" style=\"fill:none;fill-rule:evenodd;stroke:#000000;stroke-width:2.0px;stroke-linecap:butt;stroke-linejoin:miter;stroke-opacity:1\"/>\n<path class=\"bond-12 atom-12 atom-13\" d=\"M 734.1,84.8 L 723.0,59.2\" style=\"fill:none;fill-rule:evenodd;stroke:#000000;stroke-width:2.0px;stroke-linecap:butt;stroke-linejoin:miter;stroke-opacity:1\"/>\n<path class=\"bond-12 atom-12 atom-13\" d=\"M 730.0,86.0 L 719.1,60.9\" style=\"fill:none;fill-rule:evenodd;stroke:#000000;stroke-width:2.0px;stroke-linecap:butt;stroke-linejoin:miter;stroke-opacity:1\"/>\n<path class=\"bond-13 atom-13 atom-14\" d=\"M 723.0,59.2 L 705.3,37.6\" style=\"fill:none;fill-rule:evenodd;stroke:#000000;stroke-width:2.0px;stroke-linecap:butt;stroke-linejoin:miter;stroke-opacity:1\"/>\n<path class=\"bond-14 atom-14 atom-15\" d=\"M 705.3,37.6 L 682.5,21.5\" style=\"fill:none;fill-rule:evenodd;stroke:#000000;stroke-width:2.0px;stroke-linecap:butt;stroke-linejoin:miter;stroke-opacity:1\"/>\n<path class=\"bond-14 atom-14 atom-15\" d=\"M 702.5,40.7 L 680.1,24.9\" style=\"fill:none;fill-rule:evenodd;stroke:#000000;stroke-width:2.0px;stroke-linecap:butt;stroke-linejoin:miter;stroke-opacity:1\"/>\n<path class=\"bond-15 atom-15 atom-16\" d=\"M 682.5,21.5 L 656.2,12.1\" style=\"fill:none;fill-rule:evenodd;stroke:#000000;stroke-width:2.0px;stroke-linecap:butt;stroke-linejoin:miter;stroke-opacity:1\"/>\n<path class=\"bond-16 atom-16 atom-17\" d=\"M 656.2,12.1 L 628.4,10.2\" style=\"fill:none;fill-rule:evenodd;stroke:#000000;stroke-width:2.0px;stroke-linecap:butt;stroke-linejoin:miter;stroke-opacity:1\"/>\n<path class=\"bond-16 atom-16 atom-17\" d=\"M 655.4,16.3 L 628.1,14.4\" style=\"fill:none;fill-rule:evenodd;stroke:#000000;stroke-width:2.0px;stroke-linecap:butt;stroke-linejoin:miter;stroke-opacity:1\"/>\n<path class=\"bond-17 atom-17 atom-18\" d=\"M 628.4,10.2 L 601.0,15.9\" style=\"fill:none;fill-rule:evenodd;stroke:#000000;stroke-width:2.0px;stroke-linecap:butt;stroke-linejoin:miter;stroke-opacity:1\"/>\n<path class=\"bond-18 atom-18 atom-19\" d=\"M 601.0,15.9 L 576.3,28.8\" style=\"fill:none;fill-rule:evenodd;stroke:#000000;stroke-width:2.0px;stroke-linecap:butt;stroke-linejoin:miter;stroke-opacity:1\"/>\n<path class=\"bond-18 atom-18 atom-19\" d=\"M 602.5,19.9 L 578.2,32.5\" style=\"fill:none;fill-rule:evenodd;stroke:#000000;stroke-width:2.0px;stroke-linecap:butt;stroke-linejoin:miter;stroke-opacity:1\"/>\n<path class=\"bond-19 atom-19 atom-20\" d=\"M 576.3,28.8 L 555.9,47.8\" style=\"fill:none;fill-rule:evenodd;stroke:#000000;stroke-width:2.0px;stroke-linecap:butt;stroke-linejoin:miter;stroke-opacity:1\"/>\n<path class=\"bond-20 atom-20 atom-21\" d=\"M 555.9,47.8 L 541.3,71.7\" style=\"fill:none;fill-rule:evenodd;stroke:#000000;stroke-width:2.0px;stroke-linecap:butt;stroke-linejoin:miter;stroke-opacity:1\"/>\n<path class=\"bond-20 atom-20 atom-21\" d=\"M 559.1,50.5 L 545.2,73.3\" style=\"fill:none;fill-rule:evenodd;stroke:#000000;stroke-width:2.0px;stroke-linecap:butt;stroke-linejoin:miter;stroke-opacity:1\"/>\n<path class=\"bond-21 atom-21 atom-22\" d=\"M 541.3,71.7 L 515.7,60.5\" style=\"fill:none;fill-rule:evenodd;stroke:#000000;stroke-width:2.0px;stroke-linecap:butt;stroke-linejoin:miter;stroke-opacity:1\"/>\n<path class=\"bond-22 atom-1 atom-23\" d=\"M 541.3,153.3 L 535.2,131.5\" style=\"fill:none;fill-rule:evenodd;stroke:#000000;stroke-width:2.0px;stroke-linecap:butt;stroke-linejoin:miter;stroke-opacity:1\"/>\n<path class=\"bond-23 atom-23 atom-24\" d=\"M 533.8,121.5 L 533.8,103.6\" style=\"fill:none;fill-rule:evenodd;stroke:#000000;stroke-width:2.0px;stroke-linecap:butt;stroke-linejoin:miter;stroke-opacity:1\"/>\n<path class=\"bond-24 atom-24 atom-21\" d=\"M 535.2,93.6 L 541.3,71.7\" style=\"fill:none;fill-rule:evenodd;stroke:#000000;stroke-width:2.0px;stroke-linecap:butt;stroke-linejoin:miter;stroke-opacity:1\"/>\n<path d=\"M 542.1,154.5 L 541.3,153.3 L 541.0,152.2\" style=\"fill:none;stroke:#000000;stroke-width:2.0px;stroke-linecap:butt;stroke-linejoin:miter;stroke-opacity:1;\"/>\n<path d=\"M 555.1,176.0 L 555.9,177.2 L 556.9,178.1\" style=\"fill:none;stroke:#000000;stroke-width:2.0px;stroke-linecap:butt;stroke-linejoin:miter;stroke-opacity:1;\"/>\n<path d=\"M 575.2,195.3 L 576.3,196.2 L 577.5,196.9\" style=\"fill:none;stroke:#000000;stroke-width:2.0px;stroke-linecap:butt;stroke-linejoin:miter;stroke-opacity:1;\"/>\n<path d=\"M 599.8,208.5 L 601.0,209.1 L 602.4,209.4\" style=\"fill:none;stroke:#000000;stroke-width:2.0px;stroke-linecap:butt;stroke-linejoin:miter;stroke-opacity:1;\"/>\n<path d=\"M 627.0,214.5 L 628.4,214.8 L 629.8,214.7\" style=\"fill:none;stroke:#000000;stroke-width:2.0px;stroke-linecap:butt;stroke-linejoin:miter;stroke-opacity:1;\"/>\n<path d=\"M 654.8,213.0 L 656.2,212.9 L 657.5,212.4\" style=\"fill:none;stroke:#000000;stroke-width:2.0px;stroke-linecap:butt;stroke-linejoin:miter;stroke-opacity:1;\"/>\n<path d=\"M 681.2,204.0 L 682.5,203.5 L 683.7,202.7\" style=\"fill:none;stroke:#000000;stroke-width:2.0px;stroke-linecap:butt;stroke-linejoin:miter;stroke-opacity:1;\"/>\n<path d=\"M 704.2,188.2 L 705.3,187.4 L 706.2,186.3\" style=\"fill:none;stroke:#000000;stroke-width:2.0px;stroke-linecap:butt;stroke-linejoin:miter;stroke-opacity:1;\"/>\n<path d=\"M 722.1,166.8 L 723.0,165.8 L 723.5,164.5\" style=\"fill:none;stroke:#000000;stroke-width:2.0px;stroke-linecap:butt;stroke-linejoin:miter;stroke-opacity:1;\"/>\n<path d=\"M 733.5,141.4 L 734.1,140.2 L 734.3,138.8\" style=\"fill:none;stroke:#000000;stroke-width:2.0px;stroke-linecap:butt;stroke-linejoin:miter;stroke-opacity:1;\"/>\n<path d=\"M 737.7,113.9 L 737.9,112.5 L 737.7,111.1\" style=\"fill:none;stroke:#000000;stroke-width:2.0px;stroke-linecap:butt;stroke-linejoin:miter;stroke-opacity:1;\"/>\n<path d=\"M 734.3,86.2 L 734.1,84.8 L 733.5,83.6\" style=\"fill:none;stroke:#000000;stroke-width:2.0px;stroke-linecap:butt;stroke-linejoin:miter;stroke-opacity:1;\"/>\n<path d=\"M 723.5,60.5 L 723.0,59.2 L 722.1,58.2\" style=\"fill:none;stroke:#000000;stroke-width:2.0px;stroke-linecap:butt;stroke-linejoin:miter;stroke-opacity:1;\"/>\n<path d=\"M 706.2,38.7 L 705.3,37.6 L 704.2,36.8\" style=\"fill:none;stroke:#000000;stroke-width:2.0px;stroke-linecap:butt;stroke-linejoin:miter;stroke-opacity:1;\"/>\n<path d=\"M 683.7,22.3 L 682.5,21.5 L 681.2,21.0\" style=\"fill:none;stroke:#000000;stroke-width:2.0px;stroke-linecap:butt;stroke-linejoin:miter;stroke-opacity:1;\"/>\n<path d=\"M 657.5,12.6 L 656.2,12.1 L 654.8,12.0\" style=\"fill:none;stroke:#000000;stroke-width:2.0px;stroke-linecap:butt;stroke-linejoin:miter;stroke-opacity:1;\"/>\n<path d=\"M 629.8,10.3 L 628.4,10.2 L 627.0,10.5\" style=\"fill:none;stroke:#000000;stroke-width:2.0px;stroke-linecap:butt;stroke-linejoin:miter;stroke-opacity:1;\"/>\n<path d=\"M 602.4,15.6 L 601.0,15.9 L 599.8,16.5\" style=\"fill:none;stroke:#000000;stroke-width:2.0px;stroke-linecap:butt;stroke-linejoin:miter;stroke-opacity:1;\"/>\n<path d=\"M 577.5,28.1 L 576.3,28.8 L 575.2,29.7\" style=\"fill:none;stroke:#000000;stroke-width:2.0px;stroke-linecap:butt;stroke-linejoin:miter;stroke-opacity:1;\"/>\n<path d=\"M 556.9,46.9 L 555.9,47.8 L 555.1,49.0\" style=\"fill:none;stroke:#000000;stroke-width:2.0px;stroke-linecap:butt;stroke-linejoin:miter;stroke-opacity:1;\"/>\n<path class=\"atom-0\" d=\"M 512.1 164.5 Q 512.1 162.6, 513.1 161.5 Q 514.0 160.5, 515.7 160.5 Q 517.5 160.5, 518.4 161.5 Q 519.4 162.6, 519.4 164.5 Q 519.4 166.4, 518.4 167.5 Q 517.5 168.6, 515.7 168.6 Q 514.0 168.6, 513.1 167.5 Q 512.1 166.4, 512.1 164.5 M 515.7 167.7 Q 516.9 167.7, 517.6 166.9 Q 518.3 166.1, 518.3 164.5 Q 518.3 162.9, 517.6 162.2 Q 516.9 161.4, 515.7 161.4 Q 514.5 161.4, 513.9 162.1 Q 513.2 162.9, 513.2 164.5 Q 513.2 166.1, 513.9 166.9 Q 514.5 167.7, 515.7 167.7 \" fill=\"#FF0000\"/>\n<path class=\"atom-23\" d=\"M 530.8 126.5 Q 530.8 124.5, 531.7 123.5 Q 532.6 122.5, 534.4 122.5 Q 536.0 122.5, 536.9 123.6 L 536.1 124.2 Q 535.5 123.4, 534.4 123.4 Q 533.2 123.4, 532.5 124.2 Q 531.9 125.0, 531.9 126.5 Q 531.9 128.1, 532.6 128.9 Q 533.2 129.7, 534.5 129.7 Q 535.4 129.7, 536.4 129.1 L 536.7 130.0 Q 536.3 130.2, 535.6 130.4 Q 535.0 130.6, 534.3 130.6 Q 532.6 130.6, 531.7 129.5 Q 530.8 128.5, 530.8 126.5 \" fill=\"#000000\"/>\n<path class=\"atom-24\" d=\"M 530.8 98.6 Q 530.8 96.6, 531.7 95.6 Q 532.6 94.5, 534.4 94.5 Q 536.0 94.5, 536.9 95.7 L 536.1 96.3 Q 535.5 95.5, 534.4 95.5 Q 533.2 95.5, 532.5 96.3 Q 531.9 97.1, 531.9 98.6 Q 531.9 100.1, 532.6 100.9 Q 533.2 101.7, 534.5 101.7 Q 535.4 101.7, 536.4 101.2 L 536.7 102.1 Q 536.3 102.3, 535.6 102.5 Q 535.0 102.6, 534.3 102.6 Q 532.6 102.6, 531.7 101.6 Q 530.8 100.5, 530.8 98.6 \" fill=\"#000000\"/>\n<path class=\"legend\" d=\"M 614.6 243.8 Q 612.5 243.8, 611.5 242.2 Q 610.5 240.7, 610.5 237.9 Q 610.5 235.2, 611.5 233.7 Q 612.5 232.2, 614.6 232.2 Q 616.7 232.2, 617.7 233.7 Q 618.8 235.2, 618.8 237.9 Q 618.8 240.7, 617.7 242.2 Q 616.7 243.8, 614.6 243.8 M 614.6 242.5 Q 615.8 242.5, 616.5 241.3 Q 617.2 240.2, 617.2 237.9 Q 617.2 235.7, 616.5 234.6 Q 615.8 233.4, 614.6 233.4 Q 613.4 233.4, 612.7 234.6 Q 612.1 235.7, 612.1 237.9 Q 612.1 240.2, 612.7 241.3 Q 613.4 242.5, 614.6 242.5 \" fill=\"#000000\"/>\n<path class=\"legend\" d=\"M 620.4 242.0 L 622.0 242.0 L 622.0 243.6 L 620.4 243.6 L 620.4 242.0 \" fill=\"#000000\"/>\n<path class=\"legend\" d=\"M 627.8 236.5 Q 628.8 236.5, 629.6 237.0 Q 630.4 237.4, 630.9 238.2 Q 631.3 239.0, 631.3 240.0 Q 631.3 241.2, 630.7 242.1 Q 630.2 242.9, 629.3 243.3 Q 628.3 243.8, 627.3 243.8 Q 626.2 243.8, 625.3 243.4 Q 624.3 243.0, 623.7 242.2 L 624.6 241.3 Q 625.1 241.8, 625.9 242.2 Q 626.6 242.5, 627.3 242.5 Q 628.3 242.5, 629.0 241.8 Q 629.7 241.2, 629.7 240.1 Q 629.7 238.9, 629.0 238.3 Q 628.3 237.7, 627.2 237.7 Q 626.2 237.7, 625.1 238.2 L 624.2 237.8 L 624.8 232.3 L 630.6 232.3 L 630.5 233.6 L 626.1 233.6 L 625.8 236.9 Q 626.8 236.5, 627.8 236.5 \" fill=\"#000000\"/>\n<path class=\"legend\" d=\"M 633.3 242.3 L 635.8 242.3 L 635.8 233.9 L 633.1 234.7 L 632.7 233.8 L 636.2 232.2 L 637.3 232.4 L 637.3 242.3 L 639.5 242.3 L 639.5 243.6 L 633.3 243.6 L 633.3 242.3 \" fill=\"#000000\"/>\n<path class=\"bond-0 atom-0 atom-1\" d=\"M 196.4,362.5 L 168.5,362.5\" style=\"fill:none;fill-rule:evenodd;stroke:#000000;stroke-width:2.0px;stroke-linecap:butt;stroke-linejoin:miter;stroke-opacity:1\"/>\n<path class=\"bond-1 atom-1 atom-2\" d=\"M 168.5,362.5 L 161.8,335.4\" style=\"fill:none;fill-rule:evenodd;stroke:#000000;stroke-width:2.0px;stroke-linecap:butt;stroke-linejoin:miter;stroke-opacity:1\"/>\n<path class=\"bond-1 atom-1 atom-2\" d=\"M 164.2,362.5 L 158.0,337.4\" style=\"fill:none;fill-rule:evenodd;stroke:#000000;stroke-width:2.0px;stroke-linecap:butt;stroke-linejoin:miter;stroke-opacity:1\"/>\n<path class=\"bond-2 atom-2 atom-3\" d=\"M 161.8,335.4 L 143.3,314.5\" style=\"fill:none;fill-rule:evenodd;stroke:#000000;stroke-width:2.0px;stroke-linecap:butt;stroke-linejoin:miter;stroke-opacity:1\"/>\n<path class=\"bond-3 atom-3 atom-4\" d=\"M 143.3,314.5 L 117.2,304.6\" style=\"fill:none;fill-rule:evenodd;stroke:#000000;stroke-width:2.0px;stroke-linecap:butt;stroke-linejoin:miter;stroke-opacity:1\"/>\n<path class=\"bond-3 atom-3 atom-4\" d=\"M 140.9,318.0 L 115.7,308.5\" style=\"fill:none;fill-rule:evenodd;stroke:#000000;stroke-width:2.0px;stroke-linecap:butt;stroke-linejoin:miter;stroke-opacity:1\"/>\n<path class=\"bond-4 atom-4 atom-5\" d=\"M 117.2,304.6 L 89.5,308.0\" style=\"fill:none;fill-rule:evenodd;stroke:#000000;stroke-width:2.0px;stroke-linecap:butt;stroke-linejoin:miter;stroke-opacity:1\"/>\n<path class=\"bond-5 atom-5 atom-6\" d=\"M 89.5,308.0 L 66.5,323.8\" style=\"fill:none;fill-rule:evenodd;stroke:#000000;stroke-width:2.0px;stroke-linecap:butt;stroke-linejoin:miter;stroke-opacity:1\"/>\n<path class=\"bond-6 atom-6 atom-7\" d=\"M 66.5,323.8 L 53.6,348.5\" style=\"fill:none;fill-rule:evenodd;stroke:#000000;stroke-width:2.0px;stroke-linecap:butt;stroke-linejoin:miter;stroke-opacity:1\"/>\n<path class=\"bond-7 atom-7 atom-8\" d=\"M 53.6,348.5 L 53.6,376.5\" style=\"fill:none;fill-rule:evenodd;stroke:#000000;stroke-width:2.0px;stroke-linecap:butt;stroke-linejoin:miter;stroke-opacity:1\"/>\n<path class=\"bond-8 atom-8 atom-9\" d=\"M 53.6,376.5 L 66.5,401.2\" style=\"fill:none;fill-rule:evenodd;stroke:#000000;stroke-width:2.0px;stroke-linecap:butt;stroke-linejoin:miter;stroke-opacity:1\"/>\n<path class=\"bond-9 atom-9 atom-10\" d=\"M 66.5,401.2 L 89.5,417.0\" style=\"fill:none;fill-rule:evenodd;stroke:#000000;stroke-width:2.0px;stroke-linecap:butt;stroke-linejoin:miter;stroke-opacity:1\"/>\n<path class=\"bond-10 atom-10 atom-11\" d=\"M 89.5,417.0 L 117.2,420.4\" style=\"fill:none;fill-rule:evenodd;stroke:#000000;stroke-width:2.0px;stroke-linecap:butt;stroke-linejoin:miter;stroke-opacity:1\"/>\n<path class=\"bond-11 atom-11 atom-12\" d=\"M 117.2,420.4 L 143.3,410.5\" style=\"fill:none;fill-rule:evenodd;stroke:#000000;stroke-width:2.0px;stroke-linecap:butt;stroke-linejoin:miter;stroke-opacity:1\"/>\n<path class=\"bond-12 atom-12 atom-13\" d=\"M 143.3,410.5 L 161.8,389.6\" style=\"fill:none;fill-rule:evenodd;stroke:#000000;stroke-width:2.0px;stroke-linecap:butt;stroke-linejoin:miter;stroke-opacity:1\"/>\n<path class=\"bond-13 atom-13 atom-1\" d=\"M 161.8,389.6 L 168.5,362.5\" style=\"fill:none;fill-rule:evenodd;stroke:#000000;stroke-width:2.0px;stroke-linecap:butt;stroke-linejoin:miter;stroke-opacity:1\"/>\n<path d=\"M 162.2,336.7 L 161.8,335.4 L 160.9,334.3\" style=\"fill:none;stroke:#000000;stroke-width:2.0px;stroke-linecap:butt;stroke-linejoin:miter;stroke-opacity:1;\"/>\n<path d=\"M 144.3,315.5 L 143.3,314.5 L 142.0,314.0\" style=\"fill:none;stroke:#000000;stroke-width:2.0px;stroke-linecap:butt;stroke-linejoin:miter;stroke-opacity:1;\"/>\n<path d=\"M 118.5,305.1 L 117.2,304.6 L 115.8,304.8\" style=\"fill:none;stroke:#000000;stroke-width:2.0px;stroke-linecap:butt;stroke-linejoin:miter;stroke-opacity:1;\"/>\n<path d=\"M 90.9,307.8 L 89.5,308.0 L 88.4,308.8\" style=\"fill:none;stroke:#000000;stroke-width:2.0px;stroke-linecap:butt;stroke-linejoin:miter;stroke-opacity:1;\"/>\n<path d=\"M 67.7,323.0 L 66.5,323.8 L 65.9,325.1\" style=\"fill:none;stroke:#000000;stroke-width:2.0px;stroke-linecap:butt;stroke-linejoin:miter;stroke-opacity:1;\"/>\n<path d=\"M 54.2,347.3 L 53.6,348.5 L 53.6,349.9\" style=\"fill:none;stroke:#000000;stroke-width:2.0px;stroke-linecap:butt;stroke-linejoin:miter;stroke-opacity:1;\"/>\n<path d=\"M 53.6,375.1 L 53.6,376.5 L 54.2,377.7\" style=\"fill:none;stroke:#000000;stroke-width:2.0px;stroke-linecap:butt;stroke-linejoin:miter;stroke-opacity:1;\"/>\n<path d=\"M 65.9,399.9 L 66.5,401.2 L 67.7,402.0\" style=\"fill:none;stroke:#000000;stroke-width:2.0px;stroke-linecap:butt;stroke-linejoin:miter;stroke-opacity:1;\"/>\n<path d=\"M 88.4,416.2 L 89.5,417.0 L 90.9,417.2\" style=\"fill:none;stroke:#000000;stroke-width:2.0px;stroke-linecap:butt;stroke-linejoin:miter;stroke-opacity:1;\"/>\n<path d=\"M 115.8,420.2 L 117.2,420.4 L 118.5,419.9\" style=\"fill:none;stroke:#000000;stroke-width:2.0px;stroke-linecap:butt;stroke-linejoin:miter;stroke-opacity:1;\"/>\n<path d=\"M 142.0,411.0 L 143.3,410.5 L 144.3,409.5\" style=\"fill:none;stroke:#000000;stroke-width:2.0px;stroke-linecap:butt;stroke-linejoin:miter;stroke-opacity:1;\"/>\n<path d=\"M 160.9,390.7 L 161.8,389.6 L 162.2,388.3\" style=\"fill:none;stroke:#000000;stroke-width:2.0px;stroke-linecap:butt;stroke-linejoin:miter;stroke-opacity:1;\"/>\n<path class=\"legend\" d=\"M 114.6 493.8 Q 112.5 493.8, 111.5 492.2 Q 110.5 490.7, 110.5 487.9 Q 110.5 485.2, 111.5 483.7 Q 112.5 482.2, 114.6 482.2 Q 116.7 482.2, 117.7 483.7 Q 118.8 485.2, 118.8 487.9 Q 118.8 490.7, 117.7 492.2 Q 116.7 493.8, 114.6 493.8 M 114.6 492.5 Q 115.8 492.5, 116.5 491.3 Q 117.2 490.2, 117.2 487.9 Q 117.2 485.7, 116.5 484.6 Q 115.8 483.4, 114.6 483.4 Q 113.4 483.4, 112.7 484.6 Q 112.1 485.7, 112.1 487.9 Q 112.1 490.2, 112.7 491.3 Q 113.4 492.5, 114.6 492.5 \" fill=\"#000000\"/>\n<path class=\"legend\" d=\"M 120.4 492.0 L 122.0 492.0 L 122.0 493.6 L 120.4 493.6 L 120.4 492.0 \" fill=\"#000000\"/>\n<path class=\"legend\" d=\"M 127.8 486.5 Q 128.8 486.5, 129.6 487.0 Q 130.4 487.4, 130.9 488.2 Q 131.3 489.0, 131.3 490.0 Q 131.3 491.2, 130.7 492.1 Q 130.2 492.9, 129.3 493.3 Q 128.3 493.8, 127.3 493.8 Q 126.2 493.8, 125.3 493.4 Q 124.3 493.0, 123.7 492.2 L 124.6 491.3 Q 125.1 491.8, 125.9 492.2 Q 126.6 492.5, 127.3 492.5 Q 128.3 492.5, 129.0 491.8 Q 129.7 491.2, 129.7 490.1 Q 129.7 488.9, 129.0 488.3 Q 128.3 487.7, 127.2 487.7 Q 126.2 487.7, 125.1 488.2 L 124.2 487.8 L 124.8 482.3 L 130.6 482.3 L 130.5 483.6 L 126.1 483.6 L 125.8 486.9 Q 126.8 486.5, 127.8 486.5 \" fill=\"#000000\"/>\n<path class=\"legend\" d=\"M 133.3 492.3 L 135.8 492.3 L 135.8 483.9 L 133.1 484.7 L 132.7 483.8 L 136.2 482.2 L 137.3 482.4 L 137.3 492.3 L 139.5 492.3 L 139.5 493.6 L 133.3 493.6 L 133.3 492.3 \" fill=\"#000000\"/>\n</svg>"
          },
          "metadata": {},
          "execution_count": 42
        }
      ]
    }
  ]
}